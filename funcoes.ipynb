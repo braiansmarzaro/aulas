{
 "cells": [
  {
   "cell_type": "markdown",
   "metadata": {},
   "source": [
    "# Ordem do código Python"
   ]
  },
  {
   "cell_type": "code",
   "execution_count": 5,
   "metadata": {},
   "outputs": [],
   "source": [
    "import math\n",
    "def soma():\n",
    "    pass\n",
    "def sub():\n",
    "    pass\n",
    "# código principal\n"
   ]
  },
  {
   "cell_type": "markdown",
   "metadata": {},
   "source": [
    "# Syntaxe"
   ]
  },
  {
   "cell_type": "code",
   "execution_count": 7,
   "metadata": {},
   "outputs": [
    {
     "name": "stdout",
     "output_type": "stream",
     "text": [
      "sou uma função\n",
      "sou uma função\n",
      "sou uma função\n",
      "sou uma função\n",
      "sou uma função\n",
      "sou uma função\n"
     ]
    }
   ],
   "source": [
    "def funcao():\n",
    "    print('sou uma função')\n",
    "    print('sou uma função')\n",
    "    print('sou uma função')\n",
    "\n",
    "# Código principal\n",
    "funcao() # Call the function\n",
    "funcao() # Call the function\n"
   ]
  },
  {
   "cell_type": "markdown",
   "metadata": {},
   "source": [
    "## Argumentos"
   ]
  },
  {
   "cell_type": "code",
   "execution_count": 9,
   "metadata": {},
   "outputs": [
    {
     "name": "stdout",
     "output_type": "stream",
     "text": [
      "Estou cortando cebola\n",
      "Estou cortando tomate\n",
      "Estou cortando alface\n",
      "Estou cortando pepino\n"
     ]
    }
   ],
   "source": [
    "def cortar(item):\n",
    "    print(f'Estou cortando {item}')\n",
    "\n",
    "cebola = 'cebola'\n",
    "cortar(cebola)\n",
    "cortar('tomate')\n",
    "cortar('alface')\n",
    "cortar('pepino')"
   ]
  },
  {
   "cell_type": "markdown",
   "metadata": {},
   "source": [
    "## Return"
   ]
  },
  {
   "cell_type": "code",
   "execution_count": 15,
   "metadata": {},
   "outputs": [
    {
     "name": "stdout",
     "output_type": "stream",
     "text": [
      "7 11\n"
     ]
    }
   ],
   "source": [
    "def soma(a,b):\n",
    "    return a+b\n",
    "\n",
    "x = soma(3,4)\n",
    "y = soma(5,6)\n",
    "print(x,y)"
   ]
  },
  {
   "cell_type": "markdown",
   "metadata": {},
   "source": [
    "## Default"
   ]
  },
  {
   "cell_type": "code",
   "execution_count": 28,
   "metadata": {},
   "outputs": [
    {
     "data": {
      "text/plain": [
       "-3"
      ]
     },
     "execution_count": 28,
     "metadata": {},
     "output_type": "execute_result"
    }
   ],
   "source": [
    "def multiplicacao(a=2,b=2,c=2):\n",
    "    return a*b*c\n",
    "\n",
    "def sub(a,b):\n",
    "    return a-b\n",
    "\n",
    "sub(5,2)\n",
    "#sub(a=5,b=2)\n",
    "sub(b=5,a=2)"
   ]
  },
  {
   "cell_type": "markdown",
   "metadata": {},
   "source": [
    "# Escopo"
   ]
  },
  {
   "cell_type": "code",
   "execution_count": 3,
   "metadata": {},
   "outputs": [
    {
     "ename": "UnboundLocalError",
     "evalue": "local variable 'w' referenced before assignment",
     "output_type": "error",
     "traceback": [
      "\u001b[1;31m---------------------------------------------------------------------------\u001b[0m",
      "\u001b[1;31mUnboundLocalError\u001b[0m                         Traceback (most recent call last)",
      "Cell \u001b[1;32mIn[3], line 12\u001b[0m\n\u001b[0;32m     10\u001b[0m \u001b[38;5;66;03m# Escopo principal\u001b[39;00m\n\u001b[0;32m     11\u001b[0m w \u001b[38;5;241m=\u001b[39m \u001b[38;5;241m3\u001b[39m\n\u001b[1;32m---> 12\u001b[0m \u001b[43mescopo\u001b[49m\u001b[43m(\u001b[49m\u001b[43m)\u001b[49m\n\u001b[0;32m     13\u001b[0m \u001b[38;5;28mprint\u001b[39m(w)\n",
      "Cell \u001b[1;32mIn[3], line 6\u001b[0m, in \u001b[0;36mescopo\u001b[1;34m()\u001b[0m\n\u001b[0;32m      4\u001b[0m \u001b[38;5;28;01mdef\u001b[39;00m \u001b[38;5;21mescopo\u001b[39m():\n\u001b[0;32m      5\u001b[0m     \u001b[38;5;66;03m#Escopo da função\u001b[39;00m\n\u001b[1;32m----> 6\u001b[0m     \u001b[38;5;28mprint\u001b[39m(\u001b[43mw\u001b[49m)\n\u001b[0;32m      7\u001b[0m     w \u001b[38;5;241m=\u001b[39m \u001b[38;5;241m2\u001b[39m\n\u001b[0;32m      8\u001b[0m     \u001b[38;5;28mprint\u001b[39m(w)\n",
      "\u001b[1;31mUnboundLocalError\u001b[0m: local variable 'w' referenced before assignment"
     ]
    }
   ],
   "source": [
    "#escopo global\n",
    "#global\n",
    "\n",
    "def escopo():\n",
    "    #Escopo da função\n",
    "    print(w)\n",
    "    w = 2\n",
    "    print(w)\n",
    "\n",
    "# Escopo principal\n",
    "w = 3\n",
    "escopo()\n",
    "print(w)"
   ]
  },
  {
   "cell_type": "code",
   "execution_count": 40,
   "metadata": {},
   "outputs": [
    {
     "name": "stdout",
     "output_type": "stream",
     "text": [
      "1\n"
     ]
    }
   ],
   "source": [
    "\n",
    "def moeda():\n",
    "    moeda = 1\n",
    "    print(moeda)\n",
    "\n",
    "moeda()"
   ]
  },
  {
   "cell_type": "markdown",
   "metadata": {},
   "source": [
    "# Exemplos"
   ]
  },
  {
   "cell_type": "code",
   "execution_count": 43,
   "metadata": {},
   "outputs": [
    {
     "data": {
      "text/plain": [
       "6.0"
      ]
     },
     "execution_count": 43,
     "metadata": {},
     "output_type": "execute_result"
    }
   ],
   "source": [
    "def media(a,b,c):\n",
    "    return (a+b+c)/3\n",
    "# Inputs fora da função\n",
    "media(4,5,6)\n",
    "media(3,5,10)\n"
   ]
  },
  {
   "cell_type": "markdown",
   "metadata": {},
   "source": [
    "## Generalizando a função"
   ]
  },
  {
   "cell_type": "code",
   "execution_count": 57,
   "metadata": {},
   "outputs": [
    {
     "name": "stdout",
     "output_type": "stream",
     "text": [
      "10\n",
      "9\n",
      "8\n",
      "7\n",
      "6\n",
      "5\n",
      "4\n",
      "3\n",
      "2\n",
      "1\n",
      "0\n",
      "The end\n"
     ]
    }
   ],
   "source": [
    "from time import sleep\n",
    "def contagem(start,stop=10,step=1,delay=0.1,final_text = 'Boom'):\n",
    "    for c in range(start,stop,step):\n",
    "        print(c)\n",
    "        sleep(delay)\n",
    "    print(final_text)\n",
    "\n",
    "contagem(10,-1,-1,delay=.1,final_text='The end')"
   ]
  },
  {
   "cell_type": "markdown",
   "metadata": {},
   "source": [
    "# Early return"
   ]
  },
  {
   "cell_type": "code",
   "execution_count": 61,
   "metadata": {},
   "outputs": [
    {
     "name": "stdout",
     "output_type": "stream",
     "text": [
      "0\n"
     ]
    },
    {
     "data": {
      "text/plain": [
       "0"
      ]
     },
     "execution_count": 61,
     "metadata": {},
     "output_type": "execute_result"
    }
   ],
   "source": [
    "def loop():\n",
    "    for c in range(5):\n",
    "        \n",
    "        return c\n",
    "        print('batata')\n",
    "\n",
    "def cancel():\n",
    "    return 0\n",
    "    print('batata')\n",
    "    \n",
    "print(loop())\n",
    "\n",
    "cancel()"
   ]
  },
  {
   "cell_type": "markdown",
   "metadata": {},
   "source": [
    "# Exemplo"
   ]
  },
  {
   "cell_type": "code",
   "execution_count": 64,
   "metadata": {},
   "outputs": [
    {
     "name": "stdout",
     "output_type": "stream",
     "text": [
      "O fatorial de 3 é 6\n",
      "O fatorial de 4 é 24\n",
      "O fatorial de 5 é 120\n",
      "O fatorial de 6 é 720\n",
      "O fatorial de 2 é 2\n",
      "media=218.0\n"
     ]
    }
   ],
   "source": [
    "def fatorial(x):\n",
    "    mult = 1\n",
    "    for c in range(1,x+1):\n",
    "        mult*=c\n",
    "    return mult\n",
    "\n",
    "soma = 0\n",
    "for c in range(5):\n",
    "    num = int(input(\"Insira um número: \"))\n",
    "    resultado = fatorial(num)\n",
    "    soma += resultado\n",
    "    print(f'O fatorial de {num} é {resultado}')\n",
    "\n",
    "media = soma/c\n",
    "print(f\"{media=}\")\n"
   ]
  },
  {
   "cell_type": "markdown",
   "metadata": {},
   "source": [
    "# Tipagem e docstring"
   ]
  },
  {
   "cell_type": "code",
   "execution_count": 72,
   "metadata": {},
   "outputs": [],
   "source": [
    "from time import sleep\n",
    "def contagem(start:int,stop:int,step:int,delay:float,final_text:str) -> bool:\n",
    "    \"\"\"Sumário\n",
    "\n",
    "    Args:\n",
    "        start (int): valor de start\n",
    "        stop (int): _description_\n",
    "        step (int): _description_\n",
    "        delay (float): _description_\n",
    "        final_text (str): _description_\n",
    "\n",
    "    Returns:\n",
    "        bool: Se deu certo\n",
    "    \"\"\"        \n",
    "    for c in range(start,stop,step):\n",
    "        print(c)\n",
    "        sleep(delay)\n",
    "    print(final_text)\n",
    "    return True\n",
    "\n"
   ]
  },
  {
   "cell_type": "code",
   "execution_count": 73,
   "metadata": {},
   "outputs": [
    {
     "name": "stdout",
     "output_type": "stream",
     "text": [
      "1\n",
      "2\n",
      "1\n"
     ]
    }
   ],
   "source": [
    "contagem(start=1,stop=3,step=1,delay=.1,final_text='1')"
   ]
  },
  {
   "cell_type": "markdown",
   "metadata": {},
   "source": [
    "# Funções com funções"
   ]
  },
  {
   "cell_type": "code",
   "execution_count": 75,
   "metadata": {},
   "outputs": [
    {
     "data": {
      "text/plain": [
       "9"
      ]
     },
     "execution_count": 75,
     "metadata": {},
     "output_type": "execute_result"
    }
   ],
   "source": [
    "def mult(x,y):\n",
    "    return x*y\n",
    "\n",
    "def ao_quadrado(x):\n",
    "    \"\"\"Faz um numero ficar elevado a 2\n",
    "\n",
    "    Args:\n",
    "        x (_type_): _description_\n",
    "\n",
    "    Returns:\n",
    "        _type_: _description_\n",
    "    \"\"\"\n",
    "    return mult(x,x)\n",
    "\n",
    "ao_quadrado(3)\n"
   ]
  },
  {
   "cell_type": "code",
   "execution_count": null,
   "metadata": {},
   "outputs": [],
   "source": [
    "def menu():\n",
    "    print(\"\"\"1. X-frango\n",
    "          2. X-tudo\"\"\")\n",
    "\n",
    "def selecionar_item():\n",
    "    ...\n",
    "\n",
    "def pagar():\n",
    "    ...\n",
    "\n",
    "def main():\n",
    "    menu()\n",
    "    selecionar_item()\n",
    "    pagar()\n",
    "\n",
    "\n",
    "#Escopo principal\n",
    "main()"
   ]
  },
  {
   "cell_type": "markdown",
   "metadata": {},
   "source": [
    "# Args"
   ]
  },
  {
   "cell_type": "markdown",
   "metadata": {},
   "source": [
    "# Kwargs"
   ]
  }
 ],
 "metadata": {
  "kernelspec": {
   "display_name": "Python 3",
   "language": "python",
   "name": "python3"
  },
  "language_info": {
   "codemirror_mode": {
    "name": "ipython",
    "version": 3
   },
   "file_extension": ".py",
   "mimetype": "text/x-python",
   "name": "python",
   "nbconvert_exporter": "python",
   "pygments_lexer": "ipython3",
   "version": "3.10.9"
  }
 },
 "nbformat": 4,
 "nbformat_minor": 2
}
