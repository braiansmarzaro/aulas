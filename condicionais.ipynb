{
 "cells": [
  {
   "cell_type": "markdown",
   "metadata": {},
   "source": [
    "# If"
   ]
  },
  {
   "cell_type": "code",
   "execution_count": 2,
   "metadata": {},
   "outputs": [
    {
     "name": "stdout",
     "output_type": "stream",
     "text": [
      "é true\n",
      "fim\n"
     ]
    }
   ],
   "source": [
    "x=6\n",
    "y=5\n",
    "\n",
    "if x>y:\n",
    "    #aninhamento\n",
    "    print('é true')\n",
    "\n",
    "print('fim')\n"
   ]
  },
  {
   "cell_type": "code",
   "execution_count": 5,
   "metadata": {},
   "outputs": [
    {
     "name": "stdout",
     "output_type": "stream",
     "text": [
      "é true\n",
      "fim\n"
     ]
    }
   ],
   "source": [
    "x=7\n",
    "y=9\n",
    "if bool(x>y or y<10):\n",
    "    #aninhamento\n",
    "    print('é true')\n",
    "\n",
    "print('fim')\n",
    "\n"
   ]
  },
  {
   "cell_type": "code",
   "execution_count": 6,
   "metadata": {},
   "outputs": [
    {
     "name": "stdout",
     "output_type": "stream",
     "text": [
      "um\n"
     ]
    }
   ],
   "source": [
    "if 1:\n",
    "    print('um')\n",
    "    "
   ]
  },
  {
   "cell_type": "code",
   "execution_count": 7,
   "metadata": {},
   "outputs": [
    {
     "name": "stdout",
     "output_type": "stream",
     "text": [
      "sim\n",
      "fim\n"
     ]
    }
   ],
   "source": [
    "nome = 'marie'\n",
    "\n",
    "#if nome != 'maria':\n",
    "if 'm' in nome:\n",
    "    print('sim')\n",
    "print('fim')"
   ]
  },
  {
   "cell_type": "markdown",
   "metadata": {},
   "source": [
    "# Else"
   ]
  },
  {
   "cell_type": "code",
   "execution_count": 10,
   "metadata": {},
   "outputs": [
    {
     "name": "stdout",
     "output_type": "stream",
     "text": [
      "não é true\n",
      "fim\n"
     ]
    }
   ],
   "source": [
    "x=3\n",
    "y=6\n",
    "if x>y:\n",
    "    #aninhamento\n",
    "    print('é true')\n",
    "else: # não tem condição, é o oposto\n",
    "    print('não é true')\n",
    " \n",
    "print('fim')"
   ]
  },
  {
   "cell_type": "markdown",
   "metadata": {},
   "source": [
    "# Aninhamento"
   ]
  },
  {
   "cell_type": "code",
   "execution_count": 13,
   "metadata": {},
   "outputs": [
    {
     "name": "stdout",
     "output_type": "stream",
     "text": [
      "true\n"
     ]
    }
   ],
   "source": [
    "#x esta entre 6 e 10?\n",
    "x=6.00001\n",
    "if x>=6 and x<=10:\n",
    "    print('true')\n"
   ]
  },
  {
   "cell_type": "code",
   "execution_count": 12,
   "metadata": {},
   "outputs": [
    {
     "name": "stdout",
     "output_type": "stream",
     "text": [
      "morno\n"
     ]
    }
   ],
   "source": [
    "#quente >30\n",
    "#frio <15\n",
    "#morno entre os dois\n",
    "x=15\n",
    "if x<15:\n",
    "    print('frio')\n",
    "else:\n",
    "    if x>=15 and x<=30:\n",
    "        print('morno')\n",
    "    else:\n",
    "        if x>30:\n",
    "            print('quente')\n",
    "        else:\n",
    "            print('invalido')\n"
   ]
  },
  {
   "cell_type": "markdown",
   "metadata": {},
   "source": [
    "# Elif"
   ]
  },
  {
   "cell_type": "code",
   "execution_count": null,
   "metadata": {},
   "outputs": [],
   "source": [
    "if x<15:\n",
    "    print('frio')\n",
    "elif x>=15 and x<=30:\n",
    "    print('morno')\n",
    "else:\n",
    "    print('quente')\n"
   ]
  },
  {
   "cell_type": "code",
   "execution_count": 30,
   "metadata": {},
   "outputs": [
    {
     "name": "stdout",
     "output_type": "stream",
     "text": [
      "Adulto\n"
     ]
    }
   ],
   "source": [
    "idade = 18.5\n",
    "if idade>=0 and idade<2:\n",
    "    print('Recem nascido')\n",
    "elif idade<=12:\n",
    "    print('Criança')\n",
    "elif idade<=18:\n",
    "    print('Adolescente')\n",
    "elif idade<=60:\n",
    "    print('Adulto')\n",
    "elif idade<=80:\n",
    "    print('Idoso')\n",
    "elif idade>80:\n",
    "    print('Pé na cova')\n",
    "else:\n",
    "    print('inválido')"
   ]
  },
  {
   "cell_type": "code",
   "execution_count": null,
   "metadata": {},
   "outputs": [],
   "source": [
    "#Wesley\n",
    "\n",
    "if idade>=0 and idade<=2:\n",
    "    print('Recém Nascido')\n",
    "else:\n",
    "    if idade>2 and idade<=12:\n",
    "        print('Criança')\n",
    "    else:\n",
    "        if idade>12 and idade<=18:\n",
    "            print('Adolescente')\n",
    "        else:\n",
    "            if idade>18 and idade<=60:\n",
    "                print('Adulto')\n",
    "            else:\n",
    "                if idade>60 and idade<=80:\n",
    "                    print('Idoso')\n",
    "                else:\n",
    "                    if idade>80:\n",
    "                        print('Longevo')"
   ]
  }
 ],
 "metadata": {
  "kernelspec": {
   "display_name": "Python 3",
   "language": "python",
   "name": "python3"
  },
  "language_info": {
   "codemirror_mode": {
    "name": "ipython",
    "version": 3
   },
   "file_extension": ".py",
   "mimetype": "text/x-python",
   "name": "python",
   "nbconvert_exporter": "python",
   "pygments_lexer": "ipython3",
   "version": "3.10.9"
  }
 },
 "nbformat": 4,
 "nbformat_minor": 2
}
