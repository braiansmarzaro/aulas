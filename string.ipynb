{
 "cells": [
  {
   "cell_type": "code",
   "execution_count": 11,
   "metadata": {},
   "outputs": [
    {
     "data": {
      "text/plain": [
       "'456'"
      ]
     },
     "execution_count": 11,
     "metadata": {},
     "output_type": "execute_result"
    }
   ],
   "source": [
    "x = 'abc'\n",
    "y = str(456)\n",
    "y"
   ]
  },
  {
   "cell_type": "markdown",
   "metadata": {},
   "source": [
    "# Operações"
   ]
  },
  {
   "cell_type": "code",
   "execution_count": 15,
   "metadata": {},
   "outputs": [
    {
     "name": "stdout",
     "output_type": "stream",
     "text": [
      "abc\n",
      "====================================================================================================\n",
      "def\n"
     ]
    },
    {
     "data": {
      "text/plain": [
       "100"
      ]
     },
     "execution_count": 15,
     "metadata": {},
     "output_type": "execute_result"
    }
   ],
   "source": [
    "x+y\n",
    "y+x\n",
    "x*3\n",
    "#x*y # error\n",
    "#x-y # error\n",
    "print('abc')\n",
    "print('='*100)\n",
    "igual = '='*100\n",
    "print('def')\n",
    "len(igual)"
   ]
  },
  {
   "cell_type": "markdown",
   "metadata": {},
   "source": [
    "# Caracteres especiais"
   ]
  },
  {
   "cell_type": "code",
   "execution_count": 19,
   "metadata": {},
   "outputs": [
    {
     "name": "stdout",
     "output_type": "stream",
     "text": [
      "abcabcabcabcabcabcabcabcabcabc\n",
      "\n",
      "\n",
      "defdefdefdefdefdefdefdefdefdef\n"
     ]
    }
   ],
   "source": [
    "txt = 'abc'*10 + '\\n'*3 + \"def\"*10\n",
    "print(txt)"
   ]
  },
  {
   "cell_type": "code",
   "execution_count": 26,
   "metadata": {},
   "outputs": [
    {
     "name": "stdout",
     "output_type": "stream",
     "text": [
      "di\n",
      "re\tito\n"
     ]
    },
    {
     "data": {
      "text/plain": [
       "'ele disse \"[...]\"'"
      ]
     },
     "execution_count": 26,
     "metadata": {},
     "output_type": "execute_result"
    }
   ],
   "source": [
    "txt2 = 'di\\nre\\tito'\n",
    "print(txt2)\n",
    "txt3 = 'ele disse \"[...]\"'\n",
    "txt3"
   ]
  },
  {
   "cell_type": "markdown",
   "metadata": {},
   "source": [
    "# Methods"
   ]
  },
  {
   "cell_type": "code",
   "execution_count": 30,
   "metadata": {},
   "outputs": [
    {
     "data": {
      "text/plain": [
       "'sdfikhsdfuihsdhfjklskdfhj'"
      ]
     },
     "execution_count": 30,
     "metadata": {},
     "output_type": "execute_result"
    }
   ],
   "source": [
    "txt4 = 'lorem ipsum'\n",
    "txt5 = 'SDFIKHSDFUIHSDHFJKLSKDFHJ'\n",
    "txt4.upper()\n",
    "txt4.title()\n",
    "txt4.capitalize()\n",
    "txt5.lower()"
   ]
  },
  {
   "cell_type": "code",
   "execution_count": 5,
   "metadata": {},
   "outputs": [
    {
     "data": {
      "text/plain": [
       "4"
      ]
     },
     "execution_count": 5,
     "metadata": {},
     "output_type": "execute_result"
    }
   ],
   "source": [
    "txt6 = 'maria tem uma boneca'\n",
    "len(txt6.split())\n",
    "#txt6.index('z',2)\n",
    "txt6.find('a')\n",
    "txt6.rfind('a',2,10)\n"
   ]
  },
  {
   "cell_type": "code",
   "execution_count": 7,
   "metadata": {},
   "outputs": [
    {
     "data": {
      "text/plain": [
       "'morio tem umo boneco'"
      ]
     },
     "execution_count": 7,
     "metadata": {},
     "output_type": "execute_result"
    }
   ],
   "source": [
    "txt6.replace('maria','joao')\n",
    "txt6 = txt6.replace('a','o').upper().lower().capitalize()"
   ]
  },
  {
   "cell_type": "code",
   "execution_count": null,
   "metadata": {},
   "outputs": [],
   "source": []
  },
  {
   "cell_type": "code",
   "execution_count": 13,
   "metadata": {},
   "outputs": [
    {
     "data": {
      "text/plain": [
       "'abc-------'"
      ]
     },
     "execution_count": 13,
     "metadata": {},
     "output_type": "execute_result"
    }
   ],
   "source": [
    "txt7 = 'abc'\n",
    "txt7.center(10,'-')\n",
    "txt7.ljust(10,'-')"
   ]
  },
  {
   "cell_type": "markdown",
   "metadata": {},
   "source": [
    "## Is any"
   ]
  },
  {
   "cell_type": "code",
   "execution_count": 16,
   "metadata": {},
   "outputs": [
    {
     "data": {
      "text/plain": [
       "True"
      ]
     },
     "execution_count": 16,
     "metadata": {},
     "output_type": "execute_result"
    }
   ],
   "source": [
    "txt6\n",
    "txt6.isupper()\n",
    "txt6.islower()"
   ]
  },
  {
   "cell_type": "markdown",
   "metadata": {},
   "source": [
    "# Print"
   ]
  },
  {
   "cell_type": "code",
   "execution_count": 27,
   "metadata": {},
   "outputs": [
    {
     "name": "stdout",
     "output_type": "stream",
     "text": [
      "10----é par----1.6----é quebrado==\t==algumacoisa\n"
     ]
    }
   ],
   "source": [
    "print(10,'é par',1.6, 'é quebrado',end='==\\t==',sep='----')\n",
    "print('algumacoisa')"
   ]
  },
  {
   "cell_type": "markdown",
   "metadata": {},
   "source": [
    "# Slices"
   ]
  },
  {
   "cell_type": "code",
   "execution_count": 51,
   "metadata": {},
   "outputs": [
    {
     "data": {
      "text/plain": [
       "''"
      ]
     },
     "execution_count": 51,
     "metadata": {},
     "output_type": "execute_result"
    }
   ],
   "source": [
    "txt6 = 'abcdefghijk'\n",
    "#0123\n",
    "    #-3 -2 -1\n",
    "txt6[1]\n",
    "txt6[4]\n",
    "len(txt6)\n",
    "txt6[len(txt6)-1]\n",
    "txt6[-1]\n",
    "txt6[-5]\n",
    "txt6[1:4] # ultimo valor n entra\n",
    "txt6[0:-2] # tudo menos os dois ultimos\n",
    "txt6[0:]\n",
    "txt6[0::2]\n",
    "txt6[1:5:-1]"
   ]
  },
  {
   "cell_type": "markdown",
   "metadata": {},
   "source": [
    "# f-string"
   ]
  },
  {
   "cell_type": "code",
   "execution_count": 67,
   "metadata": {},
   "outputs": [
    {
     "name": "stdout",
     "output_type": "stream",
     "text": [
      "x é 5 y é 3\n",
      "x é 5, y é 3\n",
      "2.03\n",
      "dinheiro=5 reais\n",
      "       123\n",
      "123        espacos\n",
      "100\n"
     ]
    }
   ],
   "source": [
    "dinheiro=5\n",
    "y=3\n",
    "z=2.0345\n",
    "#fstring commands\n",
    "print('x é',x,'y é',y)\n",
    "print(f'x é {x}, y é {y}')\n",
    "print(f'{z:.2f}')\n",
    "print(f'{dinheiro=} reais')\n",
    "print(f'{123:>10}')\n",
    "print(f'{123:<10} espacos')\n",
    "print(f'{4:b}')"
   ]
  },
  {
   "cell_type": "markdown",
   "metadata": {},
   "source": [
    "# In"
   ]
  },
  {
   "cell_type": "code",
   "execution_count": 74,
   "metadata": {},
   "outputs": [
    {
     "data": {
      "text/plain": [
       "False"
      ]
     },
     "execution_count": 74,
     "metadata": {},
     "output_type": "execute_result"
    }
   ],
   "source": [
    "'a' in 'jorge'\n",
    "'a' in 'joão'\n",
    "'espirito' in 'espírito santo'"
   ]
  }
 ],
 "metadata": {
  "kernelspec": {
   "display_name": "Python 3",
   "language": "python",
   "name": "python3"
  },
  "language_info": {
   "codemirror_mode": {
    "name": "ipython",
    "version": 3
   },
   "file_extension": ".py",
   "mimetype": "text/x-python",
   "name": "python",
   "nbconvert_exporter": "python",
   "pygments_lexer": "ipython3",
   "version": "3.10.9"
  }
 },
 "nbformat": 4,
 "nbformat_minor": 2
}
