{
 "cells": [
  {
   "cell_type": "markdown",
   "metadata": {},
   "source": [
    "Insira a duração do evento em segundos e retorne o tempo em horas, minutos e segundos.\n"
   ]
  },
  {
   "cell_type": "code",
   "execution_count": 7,
   "metadata": {},
   "outputs": [
    {
     "data": {
      "text/plain": [
       "'1:56:40'"
      ]
     },
     "execution_count": 7,
     "metadata": {},
     "output_type": "execute_result"
    }
   ],
   "source": [
    "# 7000 segundos -> 1 hora, x minutos, y segundos\n",
    "from datetime import timedelta\n",
    "delta = timedelta(seconds=7000)\n",
    "str(delta)"
   ]
  },
  {
   "cell_type": "code",
   "execution_count": 25,
   "metadata": {},
   "outputs": [
    {
     "name": "stdout",
     "output_type": "stream",
     "text": [
      "Entrada: 70 segundos. Resultado: 0 horas, 1 minuto(s) e 10 segundos\n"
     ]
    }
   ],
   "source": [
    "# 70 segundos -> 1 minuto e 10 segundos\n",
    "# 1 minuto -> 60segundos\n",
    "# 1 hora -> 3600 segundos\n",
    "# 70\n",
    "# 1 minuto, sobra 10 -> 70 segundos\n",
    "# 10 dá 10 segundos\n",
    "\n",
    "entrada = 70  # segundos\n",
    "resultado = divmod(entrada, 3600)  # (quociente, resto)\n",
    "minutos, segundos = divmod(resultado[1], 60)\n",
    "\n",
    "print('Entrada:', entrada, 'segundos.', 'Resultado:',\n",
    "      resultado[0], 'horas,', minutos, 'minuto(s)', 'e', segundos, 'segundos')"
   ]
  },
  {
   "cell_type": "code",
   "execution_count": 16,
   "metadata": {},
   "outputs": [
    {
     "data": {
      "text/plain": [
       "(3, 1)"
      ]
     },
     "execution_count": 16,
     "metadata": {},
     "output_type": "execute_result"
    }
   ],
   "source": [
    "divmod(10, 3)"
   ]
  },
  {
   "cell_type": "markdown",
   "metadata": {},
   "source": [
    "Calcule o aumento de salário. Insira um código entre 100 e 103. Para 100, aumenta o salário em 10%; para 101, Aumenta em 20%; para 102, aumenta em 30% e para 103, aumenta em 40%. Exiba o novo salário e a diferença do novo para o original.\n"
   ]
  },
  {
   "cell_type": "code",
   "execution_count": 26,
   "metadata": {},
   "outputs": [
    {
     "name": "stdout",
     "output_type": "stream",
     "text": [
      "Salário Final: 1200.0. salario=1000. Diferença de 200.0\n",
      "Diferença 2: 200.0\n"
     ]
    }
   ],
   "source": [
    "salario = 1000\n",
    "codigo = 101 # input\n",
    "\n",
    "'''\n",
    "100 -> 10%\n",
    "101 -> 20%\n",
    "102 -> 30%\n",
    "103 -> 40%\n",
    "'''\n",
    "\n",
    "if codigo==100:\n",
    "    aumento = 0.1\n",
    "elif codigo==101:\n",
    "    aumento = 0.2\n",
    "elif codigo==102:\n",
    "    aumento = 0.3\n",
    "elif codigo==103:\n",
    "    aumento = 0.4\n",
    "\n",
    "salario_final = salario*(aumento+1)\n",
    "print(f'Salário Final: {salario_final}. {salario=}. Diferença de {salario_final-salario}')\n",
    "print('Diferença 2:',salario*(aumento))"
   ]
  },
  {
   "cell_type": "markdown",
   "metadata": {},
   "source": [
    "1% -> algumacoisa divida por 100 e pego 1 parte\n",
    "20% -> algumacoisa divida por 100 e pego 20 parte\n",
    "\n",
    "100% -> pegar tudo (100 partes de 100 partes)\n",
    "\n",
    "100% de algumacoisa + 20% dessa mesma coisa = 120% dessa coisa\n",
    "\n",
    "100% + 120/100 = 220%"
   ]
  },
  {
   "cell_type": "markdown",
   "metadata": {},
   "source": [
    "escolha a operação que deseja realizar, 1 para média aritmética, 2 para média ponderada, 3 para média harmônica\n",
    "Insira 3 números separados por espaço e realize a operação.\n",
    "\n",
    "_Média harmônica: 3/(1/a + 1/b + 1/c)_\n"
   ]
  },
  {
   "cell_type": "code",
   "execution_count": 40,
   "metadata": {},
   "outputs": [
    {
     "data": {
      "text/plain": [
       "4.266666666666667"
      ]
     },
     "execution_count": 40,
     "metadata": {},
     "output_type": "execute_result"
    }
   ],
   "source": [
    "def medias(operacao,pesos:tuple,n1,n2,n3): # *numeros\n",
    "    if operacao==1: # media aritmetica\n",
    "        soma = n1*1+n2*1+n3*1\n",
    "        quantidade = 3\n",
    "        return soma/quantidade\n",
    "    if operacao==2: # media ponderada\n",
    "        soma = n1*pesos[0]+n2*pesos[1]+n3*pesos[2]\n",
    "        total_pesos = sum(pesos)\n",
    "        return soma/total_pesos\n",
    "    if operacao==3: # media harmonica\n",
    "        return 3/(1/n1+1/n2+1/n3)\n",
    "    \n",
    "    raise Exception(\"Operação Inválida\")\n",
    "    \n",
    "medias(operacao=2,pesos=(3,5,7),n1=3,n2=4,n3=5)"
   ]
  },
  {
   "cell_type": "code",
   "execution_count": 38,
   "metadata": {},
   "outputs": [
    {
     "name": "stdout",
     "output_type": "stream",
     "text": [
      "(1, 2, 8, 9)\n",
      "soma= 20\n"
     ]
    }
   ],
   "source": [
    "def soma(*numeros):\n",
    "    print(numeros)\n",
    "    print('soma =',sum(numeros))\n",
    "\n",
    "soma(1,2,8,9)"
   ]
  },
  {
   "cell_type": "markdown",
   "metadata": {},
   "source": [
    "Pedra ,Papel, Tesoura contra o gênio (random)\n"
   ]
  },
  {
   "cell_type": "code",
   "execution_count": 74,
   "metadata": {},
   "outputs": [
    {
     "name": "stdout",
     "output_type": "stream",
     "text": [
      "jogada='pedra',genio='tesoura'\n",
      "Voce ganhou\n"
     ]
    }
   ],
   "source": [
    "import random\n",
    "opcoes = 'pedra','papel','tesoura'\n",
    "#random.choice(opcoes)\n",
    "jogada = input('Escolha sua jogada: [pedra,papel,tesoura]')\n",
    "genio = random.choice(opcoes)\n",
    "\n",
    "print(f'{jogada=},{genio=}')\n",
    "if jogada == genio:\n",
    "    print('Empate')\n",
    "elif jogada == opcoes[0] and genio == opcoes[1] or \\\n",
    "     jogada == opcoes[1] and genio == opcoes[2] or \\\n",
    "     jogada == opcoes[2] and genio == opcoes[0]:\n",
    "    print('Você perdeu! Hahahahahaha')\n",
    "else:\n",
    "    print('Voce ganhou! Noob')"
   ]
  },
  {
   "cell_type": "markdown",
   "metadata": {},
   "source": [
    "O computador pensa um número entre 1 e 10 e o usuário deve adivinhar e o computador dá dica se é maior ou menor.\n"
   ]
  },
  {
   "cell_type": "code",
   "execution_count": 78,
   "metadata": {},
   "outputs": [
    {
     "data": {
      "text/plain": [
       "[1, 2, 3, 4, 5, 6, 7, 8, 9, 10]"
      ]
     },
     "execution_count": 78,
     "metadata": {},
     "output_type": "execute_result"
    }
   ],
   "source": [
    "list(range(1,11))"
   ]
  },
  {
   "cell_type": "code",
   "execution_count": 82,
   "metadata": {},
   "outputs": [
    {
     "name": "stdout",
     "output_type": "stream",
     "text": [
      "Muito alto!\n",
      "Você venceu! A resposta era 2\n",
      "Você tentou 2 vezes até acertar\n"
     ]
    }
   ],
   "source": [
    "# salva a resposta numa variavel V\n",
    "# crio um loop pro player chutar V\n",
    "# a cada chute, avalia se a resposta é maior ou menor e dá a dica\n",
    "# paro quando acertar o valor\n",
    "\n",
    "resposta = random.randint(0,10)\n",
    "chute = int(input(\"Chute um valor: \"))\n",
    "quantidade_de_chutes = 1\n",
    "while chute!=resposta:\n",
    "\n",
    "    if chute<resposta:\n",
    "        print(\"Muito baixo!\")\n",
    "    elif chute>resposta:\n",
    "        print(\"Muito alto!\")\n",
    "        \n",
    "    chute = int(input(\"Chute um valor: \"))\n",
    "    quantidade_de_chutes+=1\n",
    "print(\"Você venceu! A resposta era\",resposta)\n",
    "print(\"Você tentou\",quantidade_de_chutes,'vezes até acertar')"
   ]
  },
  {
   "cell_type": "markdown",
   "metadata": {},
   "source": [
    "Mostra a tabuada do número que o usuário digitar. Quantas vezes o usuario quiser.\n",
    "Se solicitar negativo, encerra\n"
   ]
  },
  {
   "cell_type": "code",
   "execution_count": null,
   "metadata": {},
   "outputs": [],
   "source": []
  },
  {
   "cell_type": "markdown",
   "metadata": {},
   "source": [
    "Crie uma função que realiza o MDC de um número positivo qualquer\n"
   ]
  },
  {
   "cell_type": "code",
   "execution_count": null,
   "metadata": {},
   "outputs": [],
   "source": []
  },
  {
   "cell_type": "markdown",
   "metadata": {},
   "source": [
    "Conta a quantidade de votos de 4 candidatos, votos brancos e nulos(randint)\n"
   ]
  },
  {
   "cell_type": "code",
   "execution_count": null,
   "metadata": {},
   "outputs": [],
   "source": []
  },
  {
   "cell_type": "markdown",
   "metadata": {},
   "source": [
    "Faça um programa que leia duas matrizes 3 X 5,\n",
    "calcule e imprima a soma das duas\n"
   ]
  },
  {
   "cell_type": "code",
   "execution_count": null,
   "metadata": {},
   "outputs": [],
   "source": []
  },
  {
   "cell_type": "markdown",
   "metadata": {},
   "source": [
    "Crie um programa que simule o funcionamento de um caixa eletrônico.\n",
    "No início, pergunte ao usuário qual será o valor a ser sacado (número inteiro)\n",
    "e o programa vai informar quantas cédulas de cada valor serão entregues.\n",
    "OBS: considere que o caixa possui cédulas de R$50, R$20, R$10 e R$1.\n"
   ]
  },
  {
   "cell_type": "code",
   "execution_count": null,
   "metadata": {},
   "outputs": [],
   "source": []
  },
  {
   "cell_type": "markdown",
   "metadata": {},
   "source": [
    "solicite dois números entre 1 e 100 ao usuário e\n",
    "imprima a quantidade de múltiplos de 2 ou 3 entre eles,\n",
    "desconsiderando os números que sejam dos dois ao mesmo tempo.\n",
    "#Não# Assuma que o usuário vá digitar os dois números em ordem crescente.\n"
   ]
  },
  {
   "cell_type": "code",
   "execution_count": null,
   "metadata": {},
   "outputs": [],
   "source": []
  },
  {
   "cell_type": "markdown",
   "metadata": {},
   "source": [
    "Faça um programa que leia uma frase pelo teclado\n",
    "e mostre quantas vezes aparece a letra \"A\",\n",
    "em que posição ela aparece a primeira vez e\n",
    "em que posição ela aparece a última vez.\n"
   ]
  },
  {
   "cell_type": "markdown",
   "metadata": {},
   "source": []
  },
  {
   "cell_type": "markdown",
   "metadata": {},
   "source": [
    "Faça um programa que tenha uma função notas() que pode receber várias notas de arq\n",
    "e vai retornar um dicionário com as seguintes informações:\n",
    "\n",
    "- Quantidade de notas\n",
    "- A maior nota\n",
    "- A menor nota\n",
    "- A média da turma\n",
    "- A situação (opcional)\n",
    "  Adicione também as docstrings dessa função para consulta pelo desenvolvedor.\n"
   ]
  },
  {
   "cell_type": "code",
   "execution_count": null,
   "metadata": {},
   "outputs": [],
   "source": []
  },
  {
   "cell_type": "markdown",
   "metadata": {},
   "source": [
    "Dado um vetor A de 50 números reais, obter a maior diferença entre dois elementos consecutivos deste vetor.\n"
   ]
  },
  {
   "cell_type": "code",
   "execution_count": null,
   "metadata": {},
   "outputs": [],
   "source": []
  },
  {
   "cell_type": "markdown",
   "metadata": {},
   "source": [
    "Crie um programa que tenha uma tupla totalmente preenchida\n",
    "com uma contagem por extenso, de zero até dez.\n",
    "Seu programa deverá ler um número pelo teclado (entre 0 e 10) e mostrá-lo por extenso.\n"
   ]
  },
  {
   "cell_type": "code",
   "execution_count": null,
   "metadata": {},
   "outputs": [],
   "source": [
    "cont = 'zero', 'um', 'dois', 'tres', 'quatro', 'cinco', 'seis', 'sete', 'oito', 'nove', 'dez'"
   ]
  },
  {
   "cell_type": "markdown",
   "metadata": {},
   "source": [
    "Fazer um programa para ler um vetor de 30 elementos inteiros e, em seguida,\n",
    "alterar os elementos repetidos por zero, escrevendo o vetor final modificado.\n",
    "Observação: Substituir por zero somente a partir da segunda ocorrência de um dado valor repetido.\n"
   ]
  },
  {
   "cell_type": "code",
   "execution_count": null,
   "metadata": {},
   "outputs": [],
   "source": []
  },
  {
   "cell_type": "markdown",
   "metadata": {},
   "source": [
    "Fazer um programa que Leia um conjunto de valores inteiros que correspondem a 80 notas dadas a uma turma,\n",
    "notas estas que variam de 0 a 10; A seguir, calcule e imprima a frequência absoluta\n",
    "e a frequência relativa de cada nota;\n",
    "Observações o Frequência absoluta de uma nota é o número de vezes em que a nota aparece no vetor;\n",
    "Frequência relativa é a frequência absoluta dividida pelo número total de notas;\n"
   ]
  },
  {
   "cell_type": "code",
   "execution_count": null,
   "metadata": {},
   "outputs": [],
   "source": []
  },
  {
   "cell_type": "markdown",
   "metadata": {},
   "source": [
    "Criar um Jogo da velha. Opcional entre humano contra máquina ou humano contra humano\n"
   ]
  },
  {
   "cell_type": "markdown",
   "metadata": {},
   "source": []
  },
  {
   "cell_type": "markdown",
   "metadata": {},
   "source": [
    "Faça um programa que tenha uma função notas() que pode receber várias notas de arq\n",
    "e vai retornar um dicionário com as seguintes informações\n"
   ]
  },
  {
   "cell_type": "code",
   "execution_count": null,
   "metadata": {},
   "outputs": [],
   "source": []
  },
  {
   "cell_type": "markdown",
   "metadata": {},
   "source": [
    "Crie um programa que tenha a função leiaInt(),\n",
    "que vai funcionar de forma semelhante 'a função input() do Python,\n",
    "só que fazendo a validação para aceitar apenas um valor numérico.\n"
   ]
  }
 ],
 "metadata": {
  "kernelspec": {
   "display_name": "Python 3",
   "language": "python",
   "name": "python3"
  },
  "language_info": {
   "codemirror_mode": {
    "name": "ipython",
    "version": 3
   },
   "file_extension": ".py",
   "mimetype": "text/x-python",
   "name": "python",
   "nbconvert_exporter": "python",
   "pygments_lexer": "ipython3",
   "version": "3.10.9"
  }
 },
 "nbformat": 4,
 "nbformat_minor": 2
}
