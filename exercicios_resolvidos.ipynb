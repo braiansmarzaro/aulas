{
 "cells": [
  {
   "cell_type": "markdown",
   "metadata": {},
   "source": [
    "Calcule o aumento de salário. Insira um código entre 100 e 103. Para 100, aumenta o salário em 10%; para 101, Aumenta em 20%; para 102, aumenta em 30% e para 103, aumenta em 40%. Exiba o novo salário e a diferença do novo para o original."
   ]
  },
  {
   "cell_type": "code",
   "execution_count": null,
   "metadata": {},
   "outputs": [],
   "source": []
  },
  {
   "cell_type": "markdown",
   "metadata": {},
   "source": [
    "escolha a operação que deseja realizar, 1 para média aritmética, 2 para média ponderada, 3 para média harmônica\n",
    "Insira 3 números separados por espaço e realize a operação.\n",
    "\n",
    "*Média harmônica: 3/(1/a + 1/b + 1/c)*"
   ]
  },
  {
   "cell_type": "code",
   "execution_count": null,
   "metadata": {},
   "outputs": [],
   "source": []
  },
  {
   "cell_type": "markdown",
   "metadata": {},
   "source": [
    "Pedra ,Papel, Tesoura contra o gênio (random)"
   ]
  },
  {
   "cell_type": "code",
   "execution_count": null,
   "metadata": {},
   "outputs": [],
   "source": []
  },
  {
   "cell_type": "markdown",
   "metadata": {},
   "source": [
    "O computador pensa um número entre 1 e 10 e o usuário deve adivinhar."
   ]
  },
  {
   "cell_type": "code",
   "execution_count": null,
   "metadata": {},
   "outputs": [],
   "source": []
  },
  {
   "cell_type": "markdown",
   "metadata": {},
   "source": [
    "Mostra a tabuada do número que o usuário digitar. Quantas vezes o usuario quiser.\n",
    "Se solicitar negativo, encerra"
   ]
  },
  {
   "cell_type": "code",
   "execution_count": null,
   "metadata": {},
   "outputs": [],
   "source": []
  },
  {
   "cell_type": "markdown",
   "metadata": {},
   "source": [
    "Crie uma função que realiza o MDC de um número positivo qualquer"
   ]
  },
  {
   "cell_type": "code",
   "execution_count": null,
   "metadata": {},
   "outputs": [],
   "source": []
  },
  {
   "cell_type": "markdown",
   "metadata": {},
   "source": [
    "Conta a quantidade de votos de 4 candidatos, votos brancos e nulos(randint)"
   ]
  },
  {
   "cell_type": "code",
   "execution_count": null,
   "metadata": {},
   "outputs": [],
   "source": []
  },
  {
   "cell_type": "markdown",
   "metadata": {},
   "source": [
    "solicite dois números entre 1 e 100 ao usuário e\n",
    "imprima a quantidade de múltiplos de 2 ou 3 entre eles,\n",
    "desconsiderando os números que sejam dos dois ao mesmo tempo.\n",
    "#Não# Assuma que o usuário vá digitar os dois números em ordem crescente."
   ]
  },
  {
   "cell_type": "code",
   "execution_count": null,
   "metadata": {},
   "outputs": [],
   "source": []
  },
  {
   "cell_type": "markdown",
   "metadata": {},
   "source": [
    "Faça um programa que leia uma frase pelo teclado\n",
    "e mostre quantas vezes aparece a letra \"A\",\n",
    "em que posição ela aparece a primeira vez e\n",
    "em que posição ela aparece a última vez."
   ]
  },
  {
   "cell_type": "markdown",
   "metadata": {},
   "source": []
  },
  {
   "cell_type": "markdown",
   "metadata": {},
   "source": [
    "Faça um programa que tenha uma função notas() que pode receber várias notas de arq\n",
    "e vai retornar um dicionário com as seguintes informações:\n",
    "- Quantidade de notas\n",
    "- A maior nota\n",
    "- A menor nota\n",
    "- A média da turma\n",
    "- A situação (opcional)\n",
    "Adicione também as docstrings dessa função para consulta pelo desenvolvedor."
   ]
  },
  {
   "cell_type": "code",
   "execution_count": null,
   "metadata": {},
   "outputs": [],
   "source": []
  },
  {
   "cell_type": "markdown",
   "metadata": {},
   "source": [
    "Dado um vetor A de 50 números reais, obter a maior diferença entre dois elementos consecutivos deste vetor."
   ]
  },
  {
   "cell_type": "code",
   "execution_count": null,
   "metadata": {},
   "outputs": [],
   "source": []
  },
  {
   "cell_type": "markdown",
   "metadata": {},
   "source": [
    "Crie um programa que tenha uma tupla totalmente preenchida\n",
    "com uma contagem por extenso, de zero até dez.\n",
    "Seu programa deverá ler um número pelo teclado (entre 0 e 10) e mostrá-lo por extenso."
   ]
  },
  {
   "cell_type": "code",
   "execution_count": null,
   "metadata": {},
   "outputs": [],
   "source": [
    "cont='zero','um','dois','tres','quatro','cinco','seis','sete','oito','nove','dez'"
   ]
  },
  {
   "cell_type": "markdown",
   "metadata": {},
   "source": [
    "Fazer um programa para ler um vetor de 30 elementos inteiros e, em seguida,\n",
    "alterar os elementos repetidos por zero, escrevendo o vetor final modificado.\n",
    "Observação: Substituir por zero somente a partir da segunda ocorrência de um dado valor repetido."
   ]
  },
  {
   "cell_type": "code",
   "execution_count": null,
   "metadata": {},
   "outputs": [],
   "source": []
  },
  {
   "cell_type": "markdown",
   "metadata": {},
   "source": [
    "Fazer um programa que Leia um conjunto de valores inteiros que correspondem a 80 notas dadas a uma turma,\n",
    " notas estas que variam de 0 a 10; A seguir, calcule e imprima a frequência absoluta\n",
    " e a frequência relativa de cada nota;\n",
    " Observações o Frequência absoluta de uma nota é o número de vezes em que a nota aparece no vetor;\n",
    " Frequência relativa é a frequência absoluta dividida pelo número total de notas;"
   ]
  },
  {
   "cell_type": "code",
   "execution_count": null,
   "metadata": {},
   "outputs": [],
   "source": []
  },
  {
   "cell_type": "markdown",
   "metadata": {},
   "source": [
    "Criar um Jogo da velha. Opcional entre humano contra máquina ou humano contra humano"
   ]
  },
  {
   "cell_type": "markdown",
   "metadata": {},
   "source": []
  },
  {
   "cell_type": "markdown",
   "metadata": {},
   "source": [
    "Faça um programa que tenha uma função notas() que pode receber várias notas de arq\n",
    "e vai retornar um dicionário com as seguintes informações"
   ]
  },
  {
   "cell_type": "code",
   "execution_count": null,
   "metadata": {},
   "outputs": [],
   "source": []
  },
  {
   "cell_type": "markdown",
   "metadata": {},
   "source": [
    "Crie um programa que tenha a função leiaInt(),\n",
    "que vai funcionar de forma semelhante 'a função input() do Python,\n",
    "só que fazendo a validação para aceitar apenas um valor numérico."
   ]
  }
 ],
 "metadata": {
  "language_info": {
   "name": "python"
  }
 },
 "nbformat": 4,
 "nbformat_minor": 2
}
