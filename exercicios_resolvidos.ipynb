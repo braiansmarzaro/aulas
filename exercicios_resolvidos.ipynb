{
 "cells": [
  {
   "cell_type": "markdown",
   "metadata": {},
   "source": [
    "Insira a duração do evento em segundos e retorne o tempo em horas, minutos e segundos.\n"
   ]
  },
  {
   "cell_type": "code",
   "execution_count": 7,
   "metadata": {},
   "outputs": [
    {
     "data": {
      "text/plain": [
       "'1:56:40'"
      ]
     },
     "execution_count": 7,
     "metadata": {},
     "output_type": "execute_result"
    }
   ],
   "source": [
    "# 7000 segundos -> 1 hora, x minutos, y segundos\n",
    "from datetime import timedelta\n",
    "delta = timedelta(seconds=7000)\n",
    "str(delta)"
   ]
  },
  {
   "cell_type": "code",
   "execution_count": 25,
   "metadata": {},
   "outputs": [
    {
     "name": "stdout",
     "output_type": "stream",
     "text": [
      "Entrada: 70 segundos. Resultado: 0 horas, 1 minuto(s) e 10 segundos\n"
     ]
    }
   ],
   "source": [
    "# 70 segundos -> 1 minuto e 10 segundos\n",
    "# 1 minuto -> 60segundos\n",
    "# 1 hora -> 3600 segundos\n",
    "# 70\n",
    "# 1 minuto, sobra 10 -> 70 segundos\n",
    "# 10 dá 10 segundos\n",
    "\n",
    "entrada = 70  # segundos\n",
    "resultado = divmod(entrada, 3600)  # (quociente, resto)\n",
    "minutos, segundos = divmod(resultado[1], 60)\n",
    "\n",
    "print('Entrada:', entrada, 'segundos.', 'Resultado:',\n",
    "      resultado[0], 'horas,', minutos, 'minuto(s)', 'e', segundos, 'segundos')"
   ]
  },
  {
   "cell_type": "code",
   "execution_count": 16,
   "metadata": {},
   "outputs": [
    {
     "data": {
      "text/plain": [
       "(3, 1)"
      ]
     },
     "execution_count": 16,
     "metadata": {},
     "output_type": "execute_result"
    }
   ],
   "source": [
    "divmod(10, 3)"
   ]
  },
  {
   "cell_type": "markdown",
   "metadata": {},
   "source": [
    "Calcule o aumento de salário. Insira um código entre 100 e 103. Para 100, aumenta o salário em 10%; para 101, Aumenta em 20%; para 102, aumenta em 30% e para 103, aumenta em 40%. Exiba o novo salário e a diferença do novo para o original.\n"
   ]
  },
  {
   "cell_type": "code",
   "execution_count": 26,
   "metadata": {},
   "outputs": [
    {
     "name": "stdout",
     "output_type": "stream",
     "text": [
      "Salário Final: 1200.0. salario=1000. Diferença de 200.0\n",
      "Diferença 2: 200.0\n"
     ]
    }
   ],
   "source": [
    "salario = 1000\n",
    "codigo = 101 # input\n",
    "\n",
    "'''\n",
    "100 -> 10%\n",
    "101 -> 20%\n",
    "102 -> 30%\n",
    "103 -> 40%\n",
    "'''\n",
    "\n",
    "if codigo==100:\n",
    "    aumento = 0.1\n",
    "elif codigo==101:\n",
    "    aumento = 0.2\n",
    "elif codigo==102:\n",
    "    aumento = 0.3\n",
    "elif codigo==103:\n",
    "    aumento = 0.4\n",
    "\n",
    "salario_final = salario*(aumento+1)\n",
    "print(f'Salário Final: {salario_final}. {salario=}. Diferença de {salario_final-salario}')\n",
    "print('Diferença 2:',salario*(aumento))"
   ]
  },
  {
   "cell_type": "markdown",
   "metadata": {},
   "source": [
    "1% -> algumacoisa divida por 100 e pego 1 parte\n",
    "20% -> algumacoisa divida por 100 e pego 20 parte\n",
    "\n",
    "100% -> pegar tudo (100 partes de 100 partes)\n",
    "\n",
    "100% de algumacoisa + 20% dessa mesma coisa = 120% dessa coisa\n",
    "\n",
    "100% + 120/100 = 220%\n"
   ]
  },
  {
   "cell_type": "markdown",
   "metadata": {},
   "source": [
    "escolha a operação que deseja realizar, 1 para média aritmética, 2 para média ponderada, 3 para média harmônica\n",
    "Insira 3 números separados por espaço e realize a operação.\n",
    "\n",
    "_Média harmônica: 3/(1/a + 1/b + 1/c)_\n"
   ]
  },
  {
   "cell_type": "code",
   "execution_count": 40,
   "metadata": {},
   "outputs": [
    {
     "data": {
      "text/plain": [
       "4.266666666666667"
      ]
     },
     "execution_count": 40,
     "metadata": {},
     "output_type": "execute_result"
    }
   ],
   "source": [
    "def medias(operacao,pesos:tuple,n1,n2,n3): # *numeros\n",
    "    if operacao==1: # media aritmetica\n",
    "        soma = n1*1+n2*1+n3*1\n",
    "        quantidade = 3\n",
    "        return soma/quantidade\n",
    "    if operacao==2: # media ponderada\n",
    "        soma = n1*pesos[0]+n2*pesos[1]+n3*pesos[2]\n",
    "        total_pesos = sum(pesos)\n",
    "        return soma/total_pesos\n",
    "    if operacao==3: # media harmonica\n",
    "        return 3/(1/n1+1/n2+1/n3)\n",
    "    \n",
    "    raise Exception(\"Operação Inválida\")\n",
    "    \n",
    "medias(operacao=2,pesos=(3,5,7),n1=3,n2=4,n3=5)"
   ]
  },
  {
   "cell_type": "code",
   "execution_count": 38,
   "metadata": {},
   "outputs": [
    {
     "name": "stdout",
     "output_type": "stream",
     "text": [
      "(1, 2, 8, 9)\n",
      "soma= 20\n"
     ]
    }
   ],
   "source": [
    "def soma(*numeros):\n",
    "    print(numeros)\n",
    "    print('soma =',sum(numeros))\n",
    "\n",
    "soma(1,2,8,9)"
   ]
  },
  {
   "cell_type": "markdown",
   "metadata": {},
   "source": [
    "Pedra ,Papel, Tesoura contra o gênio (random)\n"
   ]
  },
  {
   "cell_type": "code",
   "execution_count": 74,
   "metadata": {},
   "outputs": [
    {
     "name": "stdout",
     "output_type": "stream",
     "text": [
      "jogada='pedra',genio='tesoura'\n",
      "Voce ganhou\n"
     ]
    }
   ],
   "source": [
    "import random\n",
    "opcoes = 'pedra','papel','tesoura'\n",
    "#random.choice(opcoes)\n",
    "jogada = input('Escolha sua jogada: [pedra,papel,tesoura]')\n",
    "genio = random.choice(opcoes)\n",
    "\n",
    "print(f'{jogada=},{genio=}')\n",
    "if jogada == genio:\n",
    "    print('Empate')\n",
    "elif jogada == opcoes[0] and genio == opcoes[1] or \\\n",
    "     jogada == opcoes[1] and genio == opcoes[2] or \\\n",
    "     jogada == opcoes[2] and genio == opcoes[0]:\n",
    "    print('Você perdeu! Hahahahahaha')\n",
    "else:\n",
    "    print('Voce ganhou! Noob')"
   ]
  },
  {
   "cell_type": "markdown",
   "metadata": {},
   "source": [
    "O computador pensa um número entre 1 e 10 e o usuário deve adivinhar e o computador dá dica se é maior ou menor.\n"
   ]
  },
  {
   "cell_type": "code",
   "execution_count": 78,
   "metadata": {},
   "outputs": [
    {
     "data": {
      "text/plain": [
       "[1, 2, 3, 4, 5, 6, 7, 8, 9, 10]"
      ]
     },
     "execution_count": 78,
     "metadata": {},
     "output_type": "execute_result"
    }
   ],
   "source": [
    "list(range(1,11))"
   ]
  },
  {
   "cell_type": "code",
   "execution_count": 82,
   "metadata": {},
   "outputs": [
    {
     "name": "stdout",
     "output_type": "stream",
     "text": [
      "Muito alto!\n",
      "Você venceu! A resposta era 2\n",
      "Você tentou 2 vezes até acertar\n"
     ]
    }
   ],
   "source": [
    "# salva a resposta numa variavel V\n",
    "# crio um loop pro player chutar V\n",
    "# a cada chute, avalia se a resposta é maior ou menor e dá a dica\n",
    "# paro quando acertar o valor\n",
    "\n",
    "resposta = random.randint(0,10)\n",
    "chute = int(input(\"Chute um valor: \"))\n",
    "quantidade_de_chutes = 1\n",
    "while chute!=resposta:\n",
    "\n",
    "    if chute<resposta:\n",
    "        print(\"Muito baixo!\")\n",
    "    elif chute>resposta:\n",
    "        print(\"Muito alto!\")\n",
    "        \n",
    "    chute = int(input(\"Chute um valor: \"))\n",
    "    quantidade_de_chutes+=1\n",
    "print(\"Você venceu! A resposta era\",resposta)\n",
    "print(\"Você tentou\",quantidade_de_chutes,'vezes até acertar')"
   ]
  },
  {
   "cell_type": "markdown",
   "metadata": {},
   "source": [
    "Mostra a tabuada do número que o usuário digitar. Quantas vezes o usuario quiser.\n",
    "Se solicitar negativo, encerra\n"
   ]
  },
  {
   "cell_type": "code",
   "execution_count": null,
   "metadata": {},
   "outputs": [],
   "source": [
    "'''1 x 3 = 3\n",
    "2 x 3 = 6'''\n",
    "\n",
    "# Solicitar o primeiro valor\n",
    "# Precisa de while True ou while >=0\n",
    "# dentro do while, faz um for que printa a tabuada\n",
    "# pergunta dnv ao final\n",
    "\n",
    "numero = int(input(\"Digite um numero: \"))\n",
    "\n",
    "while numero>=0:\n",
    "    for x in range(11):\n",
    "        print(f'{x} x {numero} = {x*numero}')\n",
    "    print(\"=\"*10)\n",
    "    numero = int(input(\"Digite um numero: \"))\n",
    "print('Programa encerrado')"
   ]
  },
  {
   "cell_type": "markdown",
   "metadata": {},
   "source": [
    "Crie uma função que realiza o fatoramento de um número positivo menor que 122\n"
   ]
  },
  {
   "cell_type": "code",
   "execution_count": 25,
   "metadata": {},
   "outputs": [
    {
     "name": "stdout",
     "output_type": "stream",
     "text": [
      "iteracao=1\n",
      "1\n",
      "[2, 2]\n"
     ]
    }
   ],
   "source": [
    "#50 = 5*2*5 = 2 * 5²\n",
    "# 121 = 11²\n",
    "# 121 = \n",
    "'''50/2 = 25\n",
    "25/2 nao da\n",
    "25/3 nao da\n",
    "25/5 = 5\n",
    "5/5 da 1\n",
    "resposta = [2,5,5]'''\n",
    "\n",
    "# Cria uma lista de numeros primos até 11\n",
    "# Input do numero desejado\n",
    "# While numero atual != 1\n",
    "# se o resto da divisao por 2 for zero, add 2 na lista resposta\n",
    "# se não for: tenta por 3, e vai seguindo\n",
    "\n",
    "primos = [2,3,5,7,11,13]\n",
    "resposta = []\n",
    "numero = int(input(\"Digite um numero: \"))\n",
    "iteracao = 0\n",
    "for index,num in enumerate(primos):\n",
    "    iteracao +=1\n",
    "    #muito codigo\n",
    "    while numero%num == 0:\n",
    "        numero//=num\n",
    "        resposta.append(num)\n",
    "    if numero==1:\n",
    "        break\n",
    "\n",
    "# while numero%primos[1] == 0:\n",
    "#     numero//=primos[1]\n",
    "#     resposta.append(primos[1])\n",
    "\n",
    "# while numero%primos[2] == 0:\n",
    "#     numero//=primos[2]\n",
    "#     resposta.append(primos[2])\n",
    "print(f'{iteracao=}')\n",
    "print(numero)\n",
    "print(resposta)\n"
   ]
  },
  {
   "cell_type": "code",
   "execution_count": null,
   "metadata": {},
   "outputs": [],
   "source": [
    "valor = 50\n",
    "50/2 = 25\n",
    "valor = 25 * 2 -> 2 vai para a lista resultado\n",
    "valor = 5*5 -> 5 e 5 vão para a lista resultado"
   ]
  },
  {
   "cell_type": "code",
   "execution_count": 16,
   "metadata": {},
   "outputs": [
    {
     "name": "stdout",
     "output_type": "stream",
     "text": [
      "O valor na posição 0 é 2\n",
      "O valor na posição 1 é 3\n",
      "O valor na posição 2 é 5\n",
      "O valor na posição 3 é 7\n",
      "O valor na posição 4 é 11\n"
     ]
    }
   ],
   "source": [
    "for index,valor in (enumerate(primos)):\n",
    "    print(f'O valor na posição {index} é {valor}')"
   ]
  },
  {
   "cell_type": "markdown",
   "metadata": {},
   "source": [
    "Conta a quantidade de votos de 4 candidatos de um total de 50 votos, votos brancos e nulos(randint)\n"
   ]
  },
  {
   "cell_type": "code",
   "execution_count": 60,
   "metadata": {},
   "outputs": [
    {
     "name": "stdout",
     "output_type": "stream",
     "text": [
      "O candidato bolsonaro teve 19 votos\n",
      "O candidato lula teve 10 votos\n",
      "O candidato marina teve 21 votos\n"
     ]
    }
   ],
   "source": [
    "#5 para branco, 6 para nulo\n",
    "import random\n",
    "candidatos = ['bolsonaro','lula','marina']\n",
    "candidato_codigo = {'bolsonaro':22,'lula':13,'marina':50}\n",
    "codigo_candidato = {v:k for k,v in candidato_codigo.items()}\n",
    "numero_candidatos = list(candidato_codigo.values())\n",
    "votacao = {x:0 for x in numero_candidatos}\n",
    "\n",
    "# Cria a lista repetindo o randint 50x\n",
    "# faz um loop pela lista, salvando na lista votacao a contagem de cada candidato\n",
    "\n",
    "votos = [random.choice(numero_candidatos) for _ in range(50)]\n",
    "for index,codigo in enumerate(votos):\n",
    "    #if codigo not in votacao:\n",
    "    #    votacao[codigo] = 0\n",
    "    votacao[codigo] += 1\n",
    "\n",
    "for key,value in votacao.items():\n",
    "    print(f'O candidato {codigo_candidato[key]} teve {value} votos')\n"
   ]
  },
  {
   "cell_type": "code",
   "execution_count": 62,
   "metadata": {},
   "outputs": [
    {
     "name": "stdout",
     "output_type": "stream",
     "text": [
      "('bolsonaro', 22)\n",
      "('lula', 13)\n",
      "('marina', 50)\n"
     ]
    }
   ],
   "source": [
    "for k in candidato_codigo.items():\n",
    "    print(k)"
   ]
  },
  {
   "cell_type": "code",
   "execution_count": 65,
   "metadata": {},
   "outputs": [
    {
     "name": "stdout",
     "output_type": "stream",
     "text": [
      "{1: 13, 2: 9, 3: 5, 4: 7, 5: 6, 6: 10}\n"
     ]
    }
   ],
   "source": [
    "candidatos = list(range(1,7)) #codigo dos candidatos\n",
    "resultados = {}\n",
    "votos = [random.randint(1,6) for _ in range(50)]\n",
    "for candidato in candidatos:\n",
    "    resultados[candidato] = votos.count(candidato) #contagem total de cada candidato\n",
    "\n",
    "print(resultados)"
   ]
  },
  {
   "cell_type": "code",
   "execution_count": 49,
   "metadata": {},
   "outputs": [
    {
     "data": {
      "text/plain": [
       "'b '"
      ]
     },
     "execution_count": 49,
     "metadata": {},
     "output_type": "execute_result"
    }
   ],
   "source": [
    "candidatos = ['a','b','d']\n",
    "random.choice(candidatos)"
   ]
  },
  {
   "cell_type": "markdown",
   "metadata": {},
   "source": [
    "Faça um programa que leia duas matrizes 3 X 5,\n",
    "calcule e imprima a soma das duas\n"
   ]
  },
  {
   "cell_type": "code",
   "execution_count": 118,
   "metadata": {},
   "outputs": [
    {
     "name": "stdout",
     "output_type": "stream",
     "text": [
      "[[9, 8, 3, 9, 4], [5, 1, 8, 10, 4], [9, 8, 2, 3, 1]]\n",
      "[[10, 10, 8, 6, 10], [8, 8, 3, 5, 10], [5, 8, 7, 2, 5]]\n",
      "[[19, 18, 11, 15, 14], [13, 9, 11, 15, 14], [14, 16, 9, 5, 6]]\n"
     ]
    }
   ],
   "source": [
    "'''\n",
    "1 2\n",
    "3 4\n",
    "\n",
    "5 6\n",
    "7 8\n",
    "\n",
    "6 8\n",
    "10 12'''\n",
    "\n",
    "# Criar duas matrizes\n",
    "def cria_matriz(linhas,colunas):\n",
    "\n",
    "    #matriz = [[random.randint(1,10)]*5 for _ in range(3)]\n",
    "    matriz = [[random.randint(1,10) for coluna in range(colunas)] for linha in range(linhas)]\n",
    "    return matriz\n",
    "\n",
    "\n",
    "def soma_matriz(mat1,mat2):\n",
    "    resultado = cria_matriz(len(mat1),len(mat1[0]))\n",
    "\n",
    "    for linha in range(len(mat1)):\n",
    "        for coluna in range(len(mat1[0])):\n",
    "            resultado[linha][coluna] = mat1[linha][coluna] + mat2[linha][coluna]\n",
    "\n",
    "    return resultado\n",
    "\n",
    "\n",
    "A = cria_matriz(3,5)\n",
    "B = cria_matriz(3,5)\n",
    "print(A)\n",
    "print(B)\n",
    "\n",
    "C = soma_matriz(A,B)\n",
    "print(C)"
   ]
  },
  {
   "cell_type": "code",
   "execution_count": 114,
   "metadata": {},
   "outputs": [
    {
     "name": "stdout",
     "output_type": "stream",
     "text": [
      "[1, 6, 8]\n",
      "[2, 1, 7]\n"
     ]
    },
    {
     "data": {
      "text/plain": [
       "3"
      ]
     },
     "execution_count": 114,
     "metadata": {},
     "output_type": "execute_result"
    }
   ],
   "source": [
    "D = cria_matriz(2,3)\n",
    "for l in D:\n",
    "    print(l)\n",
    "len(D[0])"
   ]
  },
  {
   "cell_type": "markdown",
   "metadata": {},
   "source": [
    "Crie um programa que simule o funcionamento de um caixa eletrônico.\n",
    "No início, pergunte ao usuário qual será o valor a ser sacado (número inteiro)\n",
    "e o programa vai informar quantas cédulas de cada valor serão entregues.\n",
    "OBS: considere que o caixa possui cédulas de R$50, R$20, R$10 e R$1.\n"
   ]
  },
  {
   "cell_type": "code",
   "execution_count": 2,
   "metadata": {},
   "outputs": [
    {
     "name": "stdout",
     "output_type": "stream",
     "text": [
      "50 2\n",
      "2,2\n",
      "cédulas de 50 sacadas = 2\n",
      "novo saque = 67\n",
      "20 3\n",
      "3,3\n",
      "cédulas de 20 sacadas = 3\n",
      "novo saque = 7\n",
      "10 2\n",
      "2,0\n",
      "cédulas de 10 sacadas = 0\n",
      "novo saque = 7\n",
      "1 10\n",
      "10,7\n",
      "cédulas de 1 sacadas = 7\n",
      "novo saque = 0\n",
      "{50: 2, 20: 3, 10: 0, 1: 7}\n",
      "novo caixa {50: 0, 20: 0, 10: 2, 1: 3}\n"
     ]
    }
   ],
   "source": [
    "'''\n",
    "R$322\n",
    "6 de 50\n",
    "sobra 22\n",
    "1 de 20\n",
    "sobra 2\n",
    "0 de 10\n",
    "sobra 2\n",
    "2 de 1\n",
    "sobra 0\n",
    "Total?'''\n",
    "\n",
    "# dados\n",
    "\"\"\"\n",
    "quantidade a ser sacada\n",
    "notas disponiveis\n",
    "Restante do dinheiro a cada somatoria de nota\n",
    "Quantidade de notas a ser sacada(resultado)\n",
    "\"\"\"\n",
    "#nota:quantidade\n",
    "saque = 167\n",
    "caixa = {50:2,20:3,10:2,1:10}\n",
    "notas_sacadas={}\n",
    "\n",
    "total_caixa = 0\n",
    "for nota,quantidade_disponivel in caixa.items():\n",
    "    total_caixa+=nota*quantidade_disponivel\n",
    "if total_caixa<saque:\n",
    "    raise ValueError(\"Falta dinheiro aqui. Vai dá não\")\n",
    "\n",
    "for nota,quantidade_disponivel in caixa.items():\n",
    "    print(nota,quantidade_disponivel)\n",
    "    \n",
    "    quantidade_de_notas = saque//nota\n",
    "    if quantidade_de_notas>quantidade_disponivel: # Não completa a quantidade de notas esperada\n",
    "        quantidade_de_notas = quantidade_disponivel    \n",
    "    saque -= nota*quantidade_de_notas\n",
    "\n",
    "    print(f'{quantidade_disponivel},{quantidade_de_notas}')\n",
    "\n",
    "    print(f'cédulas de {nota} sacadas = {quantidade_de_notas}')\n",
    "    print('novo saque =',saque)\n",
    "    #notas_sacadas.update({nota:quantidade_de_notas})\n",
    "    notas_sacadas[nota] = quantidade_de_notas\n",
    "    caixa[nota] -= quantidade_de_notas\n",
    "\n",
    "print(notas_sacadas)\n",
    "print('novo caixa',caixa)\n"
   ]
  },
  {
   "cell_type": "markdown",
   "metadata": {},
   "source": [
    "solicite dois números entre 1 e 100 ao usuário e\n",
    "imprima a quantidade de múltiplos de 2 ou 3 entre eles,\n",
    "desconsiderando os números que sejam dos dois ao mesmo tempo.\n",
    "**Não** Assuma que o usuário vá digitar os dois números em ordem crescente.\n"
   ]
  },
  {
   "cell_type": "code",
   "execution_count": 34,
   "metadata": {},
   "outputs": [
    {
     "data": {
      "text/plain": [
       "(1, 2)"
      ]
     },
     "execution_count": 34,
     "metadata": {},
     "output_type": "execute_result"
    }
   ],
   "source": [
    "divmod(5,3)"
   ]
  },
  {
   "cell_type": "markdown",
   "metadata": {},
   "source": [
    "Faça um programa que leia uma frase pelo teclado\n",
    "e mostre quantas vezes aparece a letra \"A\",\n",
    "em que posição ela aparece a primeira vez e\n",
    "em que posição ela aparece a última vez.\n"
   ]
  },
  {
   "cell_type": "code",
   "execution_count": 11,
   "metadata": {},
   "outputs": [
    {
     "name": "stdout",
     "output_type": "stream",
     "text": [
      "maria linda\n",
      "contar=3 primeira=1 ultima=10\n",
      "Quantidade=3, primeiro=1, ultima=10\n"
     ]
    }
   ],
   "source": [
    "# 1. Ler uma frase\n",
    "# 2. Contar \"A\"\n",
    "# 3. Achar primeiro index\n",
    "# 4. Achar ultimo index\n",
    "\n",
    "txt = 'maria linda'#input(\"Insira um texto\").lower()\n",
    "contar = txt.count('a')\n",
    "primeira = txt.find(\"a\")\n",
    "ultima = txt.rfind(\"a\")\n",
    "\n",
    "print(txt)\n",
    "print(f\"{contar=} {primeira=} {ultima=}\")\n",
    "\n",
    "indexes = []\n",
    "for index,letra in enumerate(txt):\n",
    "    if letra=='a':\n",
    "        indexes.append(index)\n",
    "\n",
    "print(f'Quantidade={len(indexes)}, primeiro={indexes[0]}, ultima={indexes[-1]}')\n"
   ]
  },
  {
   "cell_type": "code",
   "execution_count": 14,
   "metadata": {},
   "outputs": [
    {
     "data": {
      "text/plain": [
       "11"
      ]
     },
     "execution_count": 14,
     "metadata": {},
     "output_type": "execute_result"
    }
   ],
   "source": [
    "len(txt)"
   ]
  },
  {
   "cell_type": "code",
   "execution_count": 16,
   "metadata": {},
   "outputs": [
    {
     "data": {
      "text/plain": [
       "'maria linda'"
      ]
     },
     "execution_count": 16,
     "metadata": {},
     "output_type": "execute_result"
    }
   ],
   "source": [
    "txt"
   ]
  },
  {
   "cell_type": "code",
   "execution_count": 21,
   "metadata": {},
   "outputs": [
    {
     "data": {
      "text/plain": [
       "0"
      ]
     },
     "execution_count": 21,
     "metadata": {},
     "output_type": "execute_result"
    }
   ],
   "source": [
    "txt[::-1].find('a')\n"
   ]
  },
  {
   "cell_type": "code",
   "execution_count": 4,
   "metadata": {},
   "outputs": [
    {
     "data": {
      "text/plain": [
       "[(0, 'm'),\n",
       " (1, 'a'),\n",
       " (2, 'r'),\n",
       " (3, 'i'),\n",
       " (4, 'a'),\n",
       " (5, ' '),\n",
       " (6, 'l'),\n",
       " (7, 'i'),\n",
       " (8, 'n'),\n",
       " (9, 'd'),\n",
       " (10, 'a')]"
      ]
     },
     "execution_count": 4,
     "metadata": {},
     "output_type": "execute_result"
    }
   ],
   "source": [
    "list(enumerate(txt))"
   ]
  },
  {
   "cell_type": "markdown",
   "metadata": {},
   "source": [
    "Faça um programa que tenha uma função notas() que pode receber várias notas de arq\n",
    "e vai retornar um dicionário com as seguintes informações:\n",
    "\n",
    "- Quantidade de notas\n",
    "- A maior nota\n",
    "- A menor nota\n",
    "- A média da turma\n",
    "- A situação (opcional)\n",
    "  Adicione também as docstrings dessa função para consulta pelo desenvolvedor.\n"
   ]
  },
  {
   "cell_type": "code",
   "execution_count": null,
   "metadata": {},
   "outputs": [],
   "source": []
  },
  {
   "cell_type": "markdown",
   "metadata": {},
   "source": [
    "Dado um vetor A de 50 números reais, obter a maior diferença entre dois elementos consecutivos deste vetor.\n"
   ]
  },
  {
   "cell_type": "code",
   "execution_count": null,
   "metadata": {},
   "outputs": [],
   "source": []
  },
  {
   "cell_type": "markdown",
   "metadata": {},
   "source": [
    "Crie um programa que tenha uma tupla totalmente preenchida\n",
    "com uma contagem por extenso, de zero até dez.\n",
    "Seu programa deverá ler um número pelo teclado (entre 0 e 10) e mostrá-lo por extenso.\n"
   ]
  },
  {
   "cell_type": "code",
   "execution_count": null,
   "metadata": {},
   "outputs": [],
   "source": [
    "cont = 'zero', 'um', 'dois', 'tres', 'quatro', 'cinco', 'seis', 'sete', 'oito', 'nove', 'dez'"
   ]
  },
  {
   "cell_type": "markdown",
   "metadata": {},
   "source": [
    "Fazer um programa para ler um vetor de 30 elementos inteiros e, em seguida,\n",
    "alterar os elementos repetidos por zero, escrevendo o vetor final modificado.\n",
    "Observação: Substituir por zero somente a partir da segunda ocorrência de um dado valor repetido.\n"
   ]
  },
  {
   "cell_type": "code",
   "execution_count": null,
   "metadata": {},
   "outputs": [],
   "source": []
  },
  {
   "cell_type": "markdown",
   "metadata": {},
   "source": [
    "Fazer um programa que Leia um conjunto de valores inteiros que correspondem a 80 notas dadas a uma turma,\n",
    "notas estas que variam de 0 a 10; A seguir, calcule e imprima a frequência absoluta\n",
    "e a frequência relativa de cada nota;\n",
    "Observações o Frequência absoluta de uma nota é o número de vezes em que a nota aparece no vetor;\n",
    "Frequência relativa é a frequência absoluta dividida pelo número total de notas;\n"
   ]
  },
  {
   "cell_type": "code",
   "execution_count": null,
   "metadata": {},
   "outputs": [],
   "source": []
  },
  {
   "cell_type": "markdown",
   "metadata": {},
   "source": [
    "Criar um Jogo da velha. Opcional entre humano contra máquina ou humano contra humano\n"
   ]
  },
  {
   "cell_type": "markdown",
   "metadata": {},
   "source": []
  },
  {
   "cell_type": "markdown",
   "metadata": {},
   "source": [
    "Faça um programa que tenha uma função notas() que pode receber várias notas de arq\n",
    "e vai retornar um dicionário com as seguintes informações\n"
   ]
  },
  {
   "cell_type": "code",
   "execution_count": null,
   "metadata": {},
   "outputs": [],
   "source": []
  },
  {
   "cell_type": "markdown",
   "metadata": {},
   "source": [
    "Crie um programa que tenha a função leiaInt(),\n",
    "que vai funcionar de forma semelhante 'a função input() do Python,\n",
    "só que fazendo a validação para aceitar apenas um valor numérico.\n"
   ]
  }
 ],
 "metadata": {
  "kernelspec": {
   "display_name": "Python 3",
   "language": "python",
   "name": "python3"
  },
  "language_info": {
   "codemirror_mode": {
    "name": "ipython",
    "version": 3
   },
   "file_extension": ".py",
   "mimetype": "text/x-python",
   "name": "python",
   "nbconvert_exporter": "python",
   "pygments_lexer": "ipython3",
   "version": "3.10.9"
  }
 },
 "nbformat": 4,
 "nbformat_minor": 2
}
