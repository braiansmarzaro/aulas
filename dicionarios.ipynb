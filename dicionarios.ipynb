{
 "cells": [
  {
   "cell_type": "markdown",
   "metadata": {},
   "source": [
    "# Criação\n"
   ]
  },
  {
   "cell_type": "code",
   "execution_count": 1,
   "metadata": {},
   "outputs": [
    {
     "data": {
      "text/plain": [
       "{1: 'João', 2: 'Maria', 3: 'José'}"
      ]
     },
     "execution_count": 1,
     "metadata": {},
     "output_type": "execute_result"
    }
   ],
   "source": [
    "lista = [10, 11, 12]\n",
    "lista[0]\n",
    "\n",
    "# Key: value\n",
    "dicio = {'nome': 'João',  # Hardcoded\n",
    "         'idade': 25}\n",
    "\n",
    "dicionario = dict()\n",
    "dicionario = {}\n",
    "type(dicionario)\n",
    "\n",
    "dicionario = dict([(1, 'João'), (2, 'Maria'), (3, 'José')])\n",
    "dicionario = {1: 'João', 2: 'Maria', 3: 'José'}\n",
    "dicionario"
   ]
  },
  {
   "cell_type": "code",
   "execution_count": 51,
   "metadata": {},
   "outputs": [
    {
     "data": {
      "text/plain": [
       "{25: 'João', 30: 'Maria', 35: 'José'}"
      ]
     },
     "execution_count": 51,
     "metadata": {},
     "output_type": "execute_result"
    }
   ],
   "source": [
    "lista = [x for x in range(10)]\n",
    "lista\n",
    "nomes = ['João', 'Maria', 'José']\n",
    "idades = [25, 30, 35]\n",
    "\n",
    "dicio = dict((zip(nomes, idades)))\n",
    "\n",
    "\n",
    "def quadrado(x):\n",
    "    return x*x\n",
    "\n",
    "\n",
    "dicio = {k: {quadrado(v): v} for k, v in zip(nomes, idades)}\n",
    "dicio2 = {v: k for k, v in zip(nomes, idades)}\n",
    "dicio2"
   ]
  },
  {
   "cell_type": "code",
   "execution_count": 53,
   "metadata": {},
   "outputs": [
    {
     "data": {
      "text/plain": [
       "{'João': 25, 'Maria': 30, 'José': 35}"
      ]
     },
     "execution_count": 53,
     "metadata": {},
     "output_type": "execute_result"
    }
   ],
   "source": [
    "dicio3 = {v: k for k, v in dicio2.items()}\n",
    "dicio3"
   ]
  },
  {
   "cell_type": "code",
   "execution_count": 2,
   "metadata": {},
   "outputs": [
    {
     "data": {
      "text/plain": [
       "'João'"
      ]
     },
     "execution_count": 2,
     "metadata": {},
     "output_type": "execute_result"
    }
   ],
   "source": [
    "dicio\n",
    "\n",
    "dicio[\"nome\"]"
   ]
  },
  {
   "cell_type": "markdown",
   "metadata": {},
   "source": [
    "# Operações\n"
   ]
  },
  {
   "cell_type": "code",
   "execution_count": 29,
   "metadata": {},
   "outputs": [],
   "source": [
    "dicio_a = {'nome': 'João', 'idade': 25}\n",
    "dicio_b = {'nome2': 'Maria', 'idade2': 30}\n",
    "\n",
    "# dicio_a+dicio_b # Error\n",
    "# dicio_a*3 #Error"
   ]
  },
  {
   "cell_type": "code",
   "execution_count": 25,
   "metadata": {},
   "outputs": [
    {
     "name": "stdout",
     "output_type": "stream",
     "text": [
      "nome João\n",
      "idade 25\n",
      "nome2 Maria\n",
      "idade2 30\n"
     ]
    },
    {
     "data": {
      "text/plain": [
       "{'nome': 'João', 'idade': 25, 'nome2': 'Maria', 'idade2': 30}"
      ]
     },
     "execution_count": 25,
     "metadata": {},
     "output_type": "execute_result"
    }
   ],
   "source": [
    "dicio_c = {}\n",
    "for k1, v1 in dicio_a.items():\n",
    "    print(k1, v1)\n",
    "    dicio_c[k1] = v1\n",
    "\n",
    "for k2, v2 in dicio_b.items():\n",
    "    print(k2, v2)\n",
    "    dicio_c[k2] = v2\n",
    "\n",
    "dicio_c"
   ]
  },
  {
   "cell_type": "code",
   "execution_count": 34,
   "metadata": {},
   "outputs": [
    {
     "data": {
      "text/plain": [
       "{'abc': 123, 'nome2': 'Maria', 'idade2': 30}"
      ]
     },
     "execution_count": 34,
     "metadata": {},
     "output_type": "execute_result"
    }
   ],
   "source": [
    "dicio_c = {**dicio_a, **dicio_b}\n",
    "dicio_c\n",
    "\n",
    "dicio_c = {}\n",
    "dicio_c.update({'abc': 123})\n",
    "dicio_c.update(dicio_b)\n",
    "dicio_c"
   ]
  },
  {
   "cell_type": "markdown",
   "metadata": {},
   "source": [
    "# Preencher\n"
   ]
  },
  {
   "cell_type": "code",
   "execution_count": 17,
   "metadata": {},
   "outputs": [
    {
     "data": {
      "text/plain": [
       "{'nome': 'João', 'idade': 25, 'a': 2.11, 'A': 2.01}"
      ]
     },
     "execution_count": 17,
     "metadata": {},
     "output_type": "execute_result"
    }
   ],
   "source": [
    "dicio['a'] = 1.88\n",
    "dicio['a'] = 2.01\n",
    "dicio['A'] = 2.01\n",
    "dicio['a'] += .10\n",
    "\n",
    "idades = [('João', 25), ('Maria', 30), ('José', 20)]\n",
    "for n, i in idades:\n",
    "    nome = n\n",
    "    idade = i\n",
    "    if nome == 'José':\n",
    "        print(idade)\n",
    "        break\n",
    "\n",
    "idades = {'João': 25, 'Maria': 30, 'José': 20}\n",
    "idades['José']"
   ]
  },
  {
   "cell_type": "code",
   "execution_count": 18,
   "metadata": {},
   "outputs": [
    {
     "data": {
      "text/plain": [
       "{(1, 2): 'João', (2, 3): 'Maria', (3, 4): 'José'}"
      ]
     },
     "execution_count": 18,
     "metadata": {},
     "output_type": "execute_result"
    }
   ],
   "source": [
    "dicio2 = {(1, 2): 'João', (2, 3): 'Maria', (3, 4): 'José'}\n",
    "dicio2"
   ]
  },
  {
   "cell_type": "code",
   "execution_count": null,
   "metadata": {},
   "outputs": [],
   "source": [
    "carros = {('gol', 'verde'): 0, ('peugeot', 'preto'): 1, ('fiat', 'branco'): 2}"
   ]
  },
  {
   "cell_type": "code",
   "execution_count": 24,
   "metadata": {},
   "outputs": [
    {
     "name": "stdout",
     "output_type": "stream",
     "text": [
      "mensagem para 2899999876 dizendo  blabla\n",
      "mensagem para 2899789654 dizendo  blabla\n"
     ]
    }
   ],
   "source": [
    "contatos = [\n",
    "    {'contato': 2899999999-123,\n",
    "     'conteudo': 'blabla',\n",
    "     'isGroup': False},\n",
    "    {'contato': 2899789999-345,\n",
    "     'conteudo': 'blabla',\n",
    "     'isGroup': False}]\n",
    "\n",
    "\n",
    "def spam(ctt):\n",
    "    print('mensagem para', ctt['contato'], 'dizendo ', ctt['conteudo'])\n",
    "\n",
    "\n",
    "for ctt in contatos:\n",
    "    spam(ctt)"
   ]
  },
  {
   "cell_type": "markdown",
   "metadata": {},
   "source": [
    "# Loops\n"
   ]
  },
  {
   "cell_type": "code",
   "execution_count": 8,
   "metadata": {},
   "outputs": [
    {
     "name": "stdout",
     "output_type": "stream",
     "text": [
      "key= a value= 1\n",
      "key= b value= 2\n",
      "key= c value= 3\n"
     ]
    }
   ],
   "source": [
    "dicio = {'a': 1, 'b': 2, 'c': 3}\n",
    "for c in dicio:  # loop pelas keys, loop pelos values\n",
    "    print('key=', c, 'value=', dicio[c])"
   ]
  },
  {
   "cell_type": "code",
   "execution_count": 10,
   "metadata": {},
   "outputs": [
    {
     "name": "stdout",
     "output_type": "stream",
     "text": [
      "1\n",
      "2\n",
      "3\n",
      "a\n",
      "b\n",
      "c\n"
     ]
    }
   ],
   "source": [
    "for c in dicio.values():\n",
    "    print(c)\n",
    "\n",
    "for c in dicio.keys():\n",
    "    print(c)"
   ]
  },
  {
   "cell_type": "code",
   "execution_count": 12,
   "metadata": {},
   "outputs": [
    {
     "name": "stdout",
     "output_type": "stream",
     "text": [
      "a 1\n",
      "b 2\n",
      "c 3\n"
     ]
    }
   ],
   "source": [
    "for k, v in dicio.items():\n",
    "    print(k, v)"
   ]
  },
  {
   "cell_type": "markdown",
   "metadata": {},
   "source": [
    "# Deletar\n"
   ]
  },
  {
   "cell_type": "code",
   "execution_count": 19,
   "metadata": {},
   "outputs": [],
   "source": [
    "dicionario = {1: \"João\", 2: \"Maria\", 3: \"José\"}"
   ]
  },
  {
   "cell_type": "code",
   "execution_count": 16,
   "metadata": {},
   "outputs": [
    {
     "name": "stdout",
     "output_type": "stream",
     "text": [
      "Não existe\n"
     ]
    },
    {
     "data": {
      "text/plain": [
       "{2: 'Maria', 3: 'José'}"
      ]
     },
     "execution_count": 16,
     "metadata": {},
     "output_type": "execute_result"
    }
   ],
   "source": [
    "value = dicionario.pop(1, 'Não existe')\n",
    "print(value)\n",
    "dicionario"
   ]
  },
  {
   "cell_type": "code",
   "execution_count": 20,
   "metadata": {},
   "outputs": [
    {
     "data": {
      "text/plain": [
       "{1: 'João', 2: 'Maria'}"
      ]
     },
     "execution_count": 20,
     "metadata": {},
     "output_type": "execute_result"
    }
   ],
   "source": [
    "dicionario.popitem()\n",
    "dicionario"
   ]
  },
  {
   "cell_type": "code",
   "execution_count": 21,
   "metadata": {},
   "outputs": [
    {
     "data": {
      "text/plain": [
       "{}"
      ]
     },
     "execution_count": 21,
     "metadata": {},
     "output_type": "execute_result"
    }
   ],
   "source": [
    "dicionario.clear()\n",
    "dicionario"
   ]
  },
  {
   "cell_type": "markdown",
   "metadata": {},
   "source": [
    "# Dicionários de listas\n"
   ]
  },
  {
   "cell_type": "code",
   "execution_count": 41,
   "metadata": {},
   "outputs": [
    {
     "name": "stdout",
     "output_type": "stream",
     "text": [
      "estados MG\n",
      "populacao 5\n",
      "capital Belo Horizonte\n"
     ]
    }
   ],
   "source": [
    "dict_list = {'estados': ['ES', 'MG', 'SP', 'RJ'],\n",
    "             'populacao': [3, 5, 10, 7],\n",
    "             'capital': ['Vitória', 'Belo Horizonte', 'São Paulo', 'Rio de Janeiro']}\n",
    "\n",
    "for k, v in dict_list.items():\n",
    "    print(k, v[1])"
   ]
  },
  {
   "cell_type": "markdown",
   "metadata": {},
   "source": [
    "# Dicionarios de dicionários\n"
   ]
  },
  {
   "cell_type": "code",
   "execution_count": 61,
   "metadata": {},
   "outputs": [
    {
     "data": {
      "text/plain": [
       "6"
      ]
     },
     "execution_count": 61,
     "metadata": {},
     "output_type": "execute_result"
    }
   ],
   "source": [
    "# Teste de dicio,lista e tupla\n",
    "x = ({\"a\": [1, 2, 3], \"b\": [4, 5, 60]}, {\"a\": [1, 2, 3], \"b\": [4, 5, 6]})\n",
    "\n",
    "((x[1])[\"b\"])[2]"
   ]
  },
  {
   "cell_type": "code",
   "execution_count": 67,
   "metadata": {},
   "outputs": [
    {
     "data": {
      "text/plain": [
       "15"
      ]
     },
     "execution_count": 67,
     "metadata": {},
     "output_type": "execute_result"
    }
   ],
   "source": [
    "y = {'a': {'b': [1, 2, 3]}}\n",
    "dicionario = {'d': {'e': 3, 'f': 4},\n",
    "              'a': {'c': {'g': 15}, 'b': 1}}\n",
    "\n",
    "dicionario['a']['c']['g']"
   ]
  },
  {
   "cell_type": "code",
   "execution_count": 69,
   "metadata": {},
   "outputs": [
    {
     "name": "stdout",
     "output_type": "stream",
     "text": [
      "xtudo 20\n",
      "xtudao 30\n",
      "xtudissimo 40\n",
      "coca-lata 8\n",
      "guarana 7\n",
      "agua 5\n"
     ]
    },
    {
     "data": {
      "text/plain": [
       "5"
      ]
     },
     "execution_count": 69,
     "metadata": {},
     "output_type": "execute_result"
    }
   ],
   "source": [
    "menu = {'xtudo': 20, 'xtudao': 30, 'xtudissimo': 40,\n",
    "        'coca-lata': 8, 'guarana': 7, 'agua': 5}\n",
    "\n",
    "for k, v in menu.items():\n",
    "    print(k, v)\n",
    "\n",
    "for c in lista:\n",
    "    if c == 'agua':\n",
    "        print(valor)\n",
    "#############\n",
    "menu['agua']"
   ]
  }
 ],
 "metadata": {
  "kernelspec": {
   "display_name": "Python 3",
   "language": "python",
   "name": "python3"
  },
  "language_info": {
   "codemirror_mode": {
    "name": "ipython",
    "version": 3
   },
   "file_extension": ".py",
   "mimetype": "text/x-python",
   "name": "python",
   "nbconvert_exporter": "python",
   "pygments_lexer": "ipython3",
   "version": "3.10.9"
  }
 },
 "nbformat": 4,
 "nbformat_minor": 2
}
