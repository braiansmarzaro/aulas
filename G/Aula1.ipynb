{
 "cells": [
  {
   "cell_type": "markdown",
   "id": "3abff5e8",
   "metadata": {},
   "source": [
    "IDE => interface de programação"
   ]
  },
  {
   "cell_type": "markdown",
   "id": "55971ccd",
   "metadata": {},
   "source": [
    "- `.py` -> script\n",
    "- `ipynb` => ipynotebook\n",
    "- `terminal` porém não salva"
   ]
  },
  {
   "cell_type": "code",
   "execution_count": null,
   "id": "afa75810",
   "metadata": {},
   "outputs": [
    {
     "data": {
      "text/plain": [
       "int"
      ]
     },
     "execution_count": 5,
     "metadata": {},
     "output_type": "execute_result"
    }
   ],
   "source": [
    "nome = 'Joao' # string. Aspas simples ou dupla\n",
    "idade = 15 # int\n",
    "nota = 6.7 #float \n",
    "numero = 1.0\n",
    "type(numero)\n"
   ]
  },
  {
   "cell_type": "markdown",
   "id": "aff5377f",
   "metadata": {},
   "source": [
    "## Transformações"
   ]
  },
  {
   "cell_type": "code",
   "execution_count": 11,
   "id": "9a76fc79",
   "metadata": {},
   "outputs": [
    {
     "data": {
      "text/plain": [
       "7"
      ]
     },
     "execution_count": 11,
     "metadata": {},
     "output_type": "execute_result"
    }
   ],
   "source": [
    "quebrado = 7.5\n",
    "inteiro = int(quebrado)\n",
    "inteiro"
   ]
  },
  {
   "cell_type": "code",
   "execution_count": 12,
   "id": "c6c3eb02",
   "metadata": {},
   "outputs": [
    {
     "data": {
      "text/plain": [
       "7.0"
      ]
     },
     "execution_count": 12,
     "metadata": {},
     "output_type": "execute_result"
    }
   ],
   "source": [
    "novo_quebrado = float(inteiro)\n",
    "novo_quebrado"
   ]
  },
  {
   "cell_type": "code",
   "execution_count": 14,
   "id": "d0491fb8",
   "metadata": {},
   "outputs": [
    {
     "data": {
      "text/plain": [
       "'7.5'"
      ]
     },
     "execution_count": 14,
     "metadata": {},
     "output_type": "execute_result"
    }
   ],
   "source": [
    "txt_quebrado = str(quebrado)\n",
    "txt_quebrado"
   ]
  },
  {
   "cell_type": "code",
   "execution_count": 16,
   "id": "ae8a2bd2",
   "metadata": {},
   "outputs": [
    {
     "data": {
      "text/plain": [
       "'7'"
      ]
     },
     "execution_count": 16,
     "metadata": {},
     "output_type": "execute_result"
    }
   ],
   "source": [
    "txt_inteiro = str(inteiro)\n",
    "txt_inteiro"
   ]
  },
  {
   "cell_type": "code",
   "execution_count": 19,
   "id": "d8c48dec",
   "metadata": {},
   "outputs": [
    {
     "name": "stdout",
     "output_type": "stream",
     "text": [
      "True\n",
      "False\n"
     ]
    }
   ],
   "source": [
    "print(str(True))\n",
    "print(str(False))"
   ]
  },
  {
   "cell_type": "code",
   "execution_count": 23,
   "id": "91944bcc",
   "metadata": {},
   "outputs": [
    {
     "ename": "ValueError",
     "evalue": "invalid literal for int() with base 10: '8.0'",
     "output_type": "error",
     "traceback": [
      "\u001b[1;31m---------------------------------------------------------------------------\u001b[0m",
      "\u001b[1;31mValueError\u001b[0m                                Traceback (most recent call last)",
      "Cell \u001b[1;32mIn[23], line 2\u001b[0m\n\u001b[0;32m      1\u001b[0m \u001b[38;5;28mint\u001b[39m(\u001b[38;5;124m'\u001b[39m\u001b[38;5;124m8\u001b[39m\u001b[38;5;124m'\u001b[39m)\n\u001b[1;32m----> 2\u001b[0m \u001b[38;5;28;43mint\u001b[39;49m\u001b[43m(\u001b[49m\u001b[38;5;124;43m'\u001b[39;49m\u001b[38;5;124;43m8.0\u001b[39;49m\u001b[38;5;124;43m'\u001b[39;49m\u001b[43m)\u001b[49m\n",
      "\u001b[1;31mValueError\u001b[0m: invalid literal for int() with base 10: '8.0'"
     ]
    }
   ],
   "source": [
    "int('8')\n",
    "int('8.0')"
   ]
  },
  {
   "cell_type": "code",
   "execution_count": 22,
   "id": "38943c6d",
   "metadata": {},
   "outputs": [
    {
     "ename": "ValueError",
     "evalue": "could not convert string to float: '10,5'",
     "output_type": "error",
     "traceback": [
      "\u001b[1;31m---------------------------------------------------------------------------\u001b[0m",
      "\u001b[1;31mValueError\u001b[0m                                Traceback (most recent call last)",
      "Cell \u001b[1;32mIn[22], line 2\u001b[0m\n\u001b[0;32m      1\u001b[0m \u001b[38;5;28mfloat\u001b[39m(\u001b[38;5;124m'\u001b[39m\u001b[38;5;124m10.5\u001b[39m\u001b[38;5;124m'\u001b[39m)\n\u001b[1;32m----> 2\u001b[0m \u001b[38;5;28;43mfloat\u001b[39;49m\u001b[43m(\u001b[49m\u001b[38;5;124;43m'\u001b[39;49m\u001b[38;5;124;43m10,5\u001b[39;49m\u001b[38;5;124;43m'\u001b[39;49m\u001b[43m)\u001b[49m\n",
      "\u001b[1;31mValueError\u001b[0m: could not convert string to float: '10,5'"
     ]
    }
   ],
   "source": [
    "float('10.5')\n",
    "float('10,5')"
   ]
  },
  {
   "cell_type": "code",
   "execution_count": null,
   "id": "559f3e77",
   "metadata": {},
   "outputs": [
    {
     "data": {
      "text/plain": [
       "False"
      ]
     },
     "execution_count": 13,
     "metadata": {},
     "output_type": "execute_result"
    }
   ],
   "source": [
    "# O case faz diferença\n",
    "num = 7\n",
    "Num = 8\n",
    "num == Num"
   ]
  },
  {
   "cell_type": "markdown",
   "id": "3af2c396",
   "metadata": {},
   "source": [
    "# Matemática"
   ]
  },
  {
   "cell_type": "markdown",
   "id": "c76d0592",
   "metadata": {},
   "source": [
    "## operações"
   ]
  },
  {
   "cell_type": "code",
   "execution_count": 16,
   "id": "b4329351",
   "metadata": {},
   "outputs": [
    {
     "data": {
      "text/plain": [
       "10"
      ]
     },
     "execution_count": 16,
     "metadata": {},
     "output_type": "execute_result"
    }
   ],
   "source": [
    "5+5"
   ]
  },
  {
   "cell_type": "code",
   "execution_count": 18,
   "id": "e056997d",
   "metadata": {},
   "outputs": [
    {
     "name": "stdout",
     "output_type": "stream",
     "text": [
      "3.0\n"
     ]
    },
    {
     "data": {
      "text/plain": [
       "3.5"
      ]
     },
     "execution_count": 18,
     "metadata": {},
     "output_type": "execute_result"
    }
   ],
   "source": [
    "print(5.5-2.5)\n",
    "5.5-2"
   ]
  },
  {
   "cell_type": "code",
   "execution_count": 19,
   "id": "12df4165",
   "metadata": {},
   "outputs": [
    {
     "data": {
      "text/plain": [
       "11.5"
      ]
     },
     "execution_count": 19,
     "metadata": {},
     "output_type": "execute_result"
    }
   ],
   "source": [
    "5*2.3"
   ]
  },
  {
   "cell_type": "code",
   "execution_count": 20,
   "id": "b81a4f42",
   "metadata": {},
   "outputs": [
    {
     "data": {
      "text/plain": [
       "2.5"
      ]
     },
     "execution_count": 20,
     "metadata": {},
     "output_type": "execute_result"
    }
   ],
   "source": [
    "5/2"
   ]
  },
  {
   "cell_type": "code",
   "execution_count": 24,
   "id": "362f791c",
   "metadata": {},
   "outputs": [
    {
     "data": {
      "text/plain": [
       "int"
      ]
     },
     "execution_count": 24,
     "metadata": {},
     "output_type": "execute_result"
    }
   ],
   "source": [
    "divisao_inteira = 10//3\n",
    "type(divisao_inteira)"
   ]
  },
  {
   "cell_type": "code",
   "execution_count": 23,
   "id": "2540bb87",
   "metadata": {},
   "outputs": [
    {
     "data": {
      "text/plain": [
       "1"
      ]
     },
     "execution_count": 23,
     "metadata": {},
     "output_type": "execute_result"
    }
   ],
   "source": [
    "5%2 #resto da divisão\n"
   ]
  },
  {
   "cell_type": "code",
   "execution_count": null,
   "id": "15fd157d",
   "metadata": {},
   "outputs": [
    {
     "data": {
      "text/plain": [
       "8"
      ]
     },
     "execution_count": 25,
     "metadata": {},
     "output_type": "execute_result"
    }
   ],
   "source": [
    "2**3\n",
    "\n",
    "# 2^3 # chapéu é o operador booleano XOR"
   ]
  },
  {
   "cell_type": "code",
   "execution_count": 26,
   "id": "66811981",
   "metadata": {},
   "outputs": [
    {
     "data": {
      "text/plain": [
       "True"
      ]
     },
     "execution_count": 26,
     "metadata": {},
     "output_type": "execute_result"
    }
   ],
   "source": [
    "(5+5)*2 == 20\n",
    "5+5*2 == 15"
   ]
  },
  {
   "cell_type": "markdown",
   "id": "f77f5498",
   "metadata": {},
   "source": [
    "# Booleanos"
   ]
  },
  {
   "cell_type": "markdown",
   "id": "b214dd1b",
   "metadata": {},
   "source": [
    "## Operadores lógicos"
   ]
  },
  {
   "cell_type": "code",
   "execution_count": null,
   "id": "2ad44069",
   "metadata": {},
   "outputs": [],
   "source": [
    "# a ^ b # xor\n",
    "\n",
    "#(not a and b) or (a and not b)"
   ]
  },
  {
   "cell_type": "code",
   "execution_count": null,
   "id": "6af56602",
   "metadata": {},
   "outputs": [
    {
     "data": {
      "text/plain": [
       "True"
      ]
     },
     "execution_count": 10,
     "metadata": {},
     "output_type": "execute_result"
    }
   ],
   "source": [
    "verdadeiro = True\n",
    "falso = False\n",
    "\n",
    "a = True\n",
    "b = True\n",
    "\n",
    "a and b # Dá True somente se os dois forem True, se não, resulta em False"
   ]
  },
  {
   "cell_type": "code",
   "execution_count": null,
   "id": "15ff4e8a",
   "metadata": {},
   "outputs": [
    {
     "data": {
      "text/plain": [
       "True"
      ]
     },
     "execution_count": 11,
     "metadata": {},
     "output_type": "execute_result"
    }
   ],
   "source": [
    "c = True\n",
    "d = True\n",
    "\n",
    "c or d"
   ]
  },
  {
   "cell_type": "code",
   "execution_count": 12,
   "id": "66843d8e",
   "metadata": {},
   "outputs": [
    {
     "name": "stdout",
     "output_type": "stream",
     "text": [
      "True\n",
      "False\n"
     ]
    }
   ],
   "source": [
    "print(True or False)\n",
    "print(False or False)"
   ]
  },
  {
   "cell_type": "markdown",
   "id": "4a38dbe1",
   "metadata": {},
   "source": [
    "## Not"
   ]
  },
  {
   "cell_type": "code",
   "execution_count": 15,
   "id": "9ccc7435",
   "metadata": {},
   "outputs": [
    {
     "data": {
      "text/plain": [
       "True"
      ]
     },
     "execution_count": 15,
     "metadata": {},
     "output_type": "execute_result"
    }
   ],
   "source": [
    "not False # Inverte o booleano"
   ]
  },
  {
   "cell_type": "markdown",
   "id": "094b677f",
   "metadata": {},
   "source": [
    "## Comparadores"
   ]
  },
  {
   "cell_type": "code",
   "execution_count": 2,
   "id": "1514595a",
   "metadata": {},
   "outputs": [
    {
     "data": {
      "text/plain": [
       "True"
      ]
     },
     "execution_count": 2,
     "metadata": {},
     "output_type": "execute_result"
    }
   ],
   "source": [
    "x = 6\n",
    "y = 5.01\n",
    "\n",
    "x>y"
   ]
  },
  {
   "cell_type": "code",
   "execution_count": 3,
   "id": "98f73837",
   "metadata": {},
   "outputs": [
    {
     "data": {
      "text/plain": [
       "False"
      ]
     },
     "execution_count": 3,
     "metadata": {},
     "output_type": "execute_result"
    }
   ],
   "source": [
    "x<y"
   ]
  },
  {
   "cell_type": "code",
   "execution_count": 5,
   "id": "c745bff3",
   "metadata": {},
   "outputs": [
    {
     "data": {
      "text/plain": [
       "True"
      ]
     },
     "execution_count": 5,
     "metadata": {},
     "output_type": "execute_result"
    }
   ],
   "source": [
    "x>=y\n",
    "5>=5"
   ]
  },
  {
   "cell_type": "code",
   "execution_count": 7,
   "id": "b9c4862c",
   "metadata": {},
   "outputs": [
    {
     "data": {
      "text/plain": [
       "False"
      ]
     },
     "execution_count": 7,
     "metadata": {},
     "output_type": "execute_result"
    }
   ],
   "source": [
    "y+1<=x"
   ]
  },
  {
   "cell_type": "code",
   "execution_count": 8,
   "id": "a6fbd016",
   "metadata": {},
   "outputs": [
    {
     "data": {
      "text/plain": [
       "True"
      ]
     },
     "execution_count": 8,
     "metadata": {},
     "output_type": "execute_result"
    }
   ],
   "source": [
    "x=5\n",
    "y=5\n",
    "x==y"
   ]
  },
  {
   "cell_type": "code",
   "execution_count": 9,
   "id": "d511c2cc",
   "metadata": {},
   "outputs": [
    {
     "data": {
      "text/plain": [
       "False"
      ]
     },
     "execution_count": 9,
     "metadata": {},
     "output_type": "execute_result"
    }
   ],
   "source": [
    "x!=y"
   ]
  },
  {
   "cell_type": "markdown",
   "id": "7e1d5782",
   "metadata": {},
   "source": [
    "## Exemplos"
   ]
  },
  {
   "cell_type": "code",
   "execution_count": 10,
   "id": "4874c287",
   "metadata": {},
   "outputs": [
    {
     "data": {
      "text/plain": [
       "False"
      ]
     },
     "execution_count": 10,
     "metadata": {},
     "output_type": "execute_result"
    }
   ],
   "source": [
    "(True and False) and (True or False)\n",
    "#True and False\n",
    "#True\n",
    "\n",
    "#False and True\n",
    "#False\n"
   ]
  },
  {
   "cell_type": "code",
   "execution_count": null,
   "id": "327ab303",
   "metadata": {},
   "outputs": [],
   "source": [
    "not True or (not False and True)\n",
    "False or True\n",
    "True"
   ]
  },
  {
   "cell_type": "markdown",
   "id": "ee16c282",
   "metadata": {},
   "source": [
    "# Import math"
   ]
  },
  {
   "cell_type": "code",
   "execution_count": 29,
   "id": "19de4d3a",
   "metadata": {},
   "outputs": [],
   "source": [
    "import math\n",
    "from math import sqrt,pi"
   ]
  },
  {
   "cell_type": "code",
   "execution_count": 26,
   "id": "3fdd0a3e",
   "metadata": {},
   "outputs": [
    {
     "data": {
      "text/plain": [
       "1.0"
      ]
     },
     "execution_count": 26,
     "metadata": {},
     "output_type": "execute_result"
    }
   ],
   "source": [
    "math.log(5)\n",
    "math.log10(10)"
   ]
  },
  {
   "cell_type": "code",
   "execution_count": null,
   "id": "ce176357",
   "metadata": {},
   "outputs": [
    {
     "data": {
      "text/plain": [
       "4.0"
      ]
     },
     "execution_count": 28,
     "metadata": {},
     "output_type": "execute_result"
    }
   ],
   "source": [
    "sqrt(16) # square root"
   ]
  },
  {
   "cell_type": "code",
   "execution_count": 30,
   "id": "0cec6947",
   "metadata": {},
   "outputs": [
    {
     "data": {
      "text/plain": [
       "3.141592653589793"
      ]
     },
     "execution_count": 30,
     "metadata": {},
     "output_type": "execute_result"
    }
   ],
   "source": [
    "pi"
   ]
  },
  {
   "cell_type": "code",
   "execution_count": 31,
   "id": "299c588f",
   "metadata": {},
   "outputs": [
    {
     "data": {
      "text/plain": [
       "2.718281828459045"
      ]
     },
     "execution_count": 31,
     "metadata": {},
     "output_type": "execute_result"
    }
   ],
   "source": [
    "math.e"
   ]
  },
  {
   "cell_type": "code",
   "execution_count": 32,
   "id": "064fd769",
   "metadata": {},
   "outputs": [
    {
     "data": {
      "text/plain": [
       "8"
      ]
     },
     "execution_count": 32,
     "metadata": {},
     "output_type": "execute_result"
    }
   ],
   "source": [
    "math.ceil(7.2)"
   ]
  },
  {
   "cell_type": "code",
   "execution_count": 33,
   "id": "a31b4f96",
   "metadata": {},
   "outputs": [
    {
     "data": {
      "text/plain": [
       "7"
      ]
     },
     "execution_count": 33,
     "metadata": {},
     "output_type": "execute_result"
    }
   ],
   "source": [
    "math.floor(7.9999)\n"
   ]
  },
  {
   "cell_type": "markdown",
   "id": "5197cb4d",
   "metadata": {},
   "source": [
    "# Random"
   ]
  },
  {
   "cell_type": "code",
   "execution_count": 130,
   "id": "902c3873",
   "metadata": {},
   "outputs": [],
   "source": [
    "import random\n",
    "random.seed(2)"
   ]
  },
  {
   "cell_type": "code",
   "execution_count": 133,
   "id": "14e84634",
   "metadata": {},
   "outputs": [
    {
     "data": {
      "text/plain": [
       "0.05655136772680869"
      ]
     },
     "execution_count": 133,
     "metadata": {},
     "output_type": "execute_result"
    }
   ],
   "source": [
    "random.random()"
   ]
  },
  {
   "cell_type": "code",
   "execution_count": 83,
   "id": "cb3adc09",
   "metadata": {},
   "outputs": [
    {
     "data": {
      "text/plain": [
       "10"
      ]
     },
     "execution_count": 83,
     "metadata": {},
     "output_type": "execute_result"
    }
   ],
   "source": [
    "random.randint(1,10)"
   ]
  },
  {
   "cell_type": "code",
   "execution_count": 117,
   "id": "52c6b221",
   "metadata": {},
   "outputs": [
    {
     "data": {
      "text/plain": [
       "1.3179734844388373"
      ]
     },
     "execution_count": 117,
     "metadata": {},
     "output_type": "execute_result"
    }
   ],
   "source": [
    "random.uniform(1,10)"
   ]
  },
  {
   "cell_type": "markdown",
   "id": "b52eb552",
   "metadata": {},
   "source": [
    "# String"
   ]
  },
  {
   "cell_type": "markdown",
   "id": "65451035",
   "metadata": {},
   "source": [
    "## Print"
   ]
  },
  {
   "cell_type": "code",
   "execution_count": 134,
   "id": "d4a5c6b2",
   "metadata": {},
   "outputs": [
    {
     "name": "stdout",
     "output_type": "stream",
     "text": [
      "1 True 3.3 Olá\n"
     ]
    }
   ],
   "source": [
    "a = 1\n",
    "b = True\n",
    "c = 3.3\n",
    "d = 'Olá'\n",
    "print(a,b,c,d)"
   ]
  },
  {
   "cell_type": "code",
   "execution_count": 146,
   "id": "9f6855e7",
   "metadata": {},
   "outputs": [
    {
     "name": "stdout",
     "output_type": "stream",
     "text": [
      "Olá Mundo\n",
      "\n",
      "Tchau mundo\n"
     ]
    }
   ],
   "source": [
    "print('Olá','Mundo',end='\\n\\n')\n",
    "print('Tchau mundo')"
   ]
  },
  {
   "cell_type": "code",
   "execution_count": 142,
   "id": "e78b6354",
   "metadata": {},
   "outputs": [
    {
     "name": "stdout",
     "output_type": "stream",
     "text": [
      "Cade\n",
      "meu\n",
      "mu\tndo\n"
     ]
    }
   ],
   "source": [
    "print(\"Cade\\nmeu\\nmu\\tndo\")"
   ]
  },
  {
   "cell_type": "code",
   "execution_count": 145,
   "id": "bb5c837e",
   "metadata": {},
   "outputs": [
    {
     "name": "stdout",
     "output_type": "stream",
     "text": [
      "1\tTrue\t3.3\tOlá\n"
     ]
    }
   ],
   "source": [
    "print(a,b,c,d,sep='\\t')"
   ]
  },
  {
   "cell_type": "markdown",
   "id": "92c8d662",
   "metadata": {},
   "source": [
    "## Operações"
   ]
  },
  {
   "cell_type": "code",
   "execution_count": null,
   "id": "71ee7b10",
   "metadata": {},
   "outputs": [
    {
     "data": {
      "text/plain": [
       "'OláMundo'"
      ]
     },
     "execution_count": 147,
     "metadata": {},
     "output_type": "execute_result"
    }
   ],
   "source": [
    "txt1 = 'Olá'\n",
    "txt2 = 'Mundo'\n",
    "txt1+txt2 # concatenação"
   ]
  },
  {
   "cell_type": "code",
   "execution_count": 148,
   "id": "94c8db7f",
   "metadata": {},
   "outputs": [
    {
     "ename": "TypeError",
     "evalue": "unsupported operand type(s) for -: 'str' and 'str'",
     "output_type": "error",
     "traceback": [
      "\u001b[1;31m---------------------------------------------------------------------------\u001b[0m",
      "\u001b[1;31mTypeError\u001b[0m                                 Traceback (most recent call last)",
      "Cell \u001b[1;32mIn[148], line 1\u001b[0m\n\u001b[1;32m----> 1\u001b[0m \u001b[43mtxt1\u001b[49m\u001b[38;5;241;43m-\u001b[39;49m\u001b[43mtxt2\u001b[49m\n",
      "\u001b[1;31mTypeError\u001b[0m: unsupported operand type(s) for -: 'str' and 'str'"
     ]
    }
   ],
   "source": [
    "txt1-txt2"
   ]
  },
  {
   "cell_type": "code",
   "execution_count": 149,
   "id": "ca87c177",
   "metadata": {},
   "outputs": [
    {
     "ename": "TypeError",
     "evalue": "can't multiply sequence by non-int of type 'str'",
     "output_type": "error",
     "traceback": [
      "\u001b[1;31m---------------------------------------------------------------------------\u001b[0m",
      "\u001b[1;31mTypeError\u001b[0m                                 Traceback (most recent call last)",
      "Cell \u001b[1;32mIn[149], line 1\u001b[0m\n\u001b[1;32m----> 1\u001b[0m \u001b[43mtxt1\u001b[49m\u001b[38;5;241;43m*\u001b[39;49m\u001b[43mtxt2\u001b[49m\n",
      "\u001b[1;31mTypeError\u001b[0m: can't multiply sequence by non-int of type 'str'"
     ]
    }
   ],
   "source": [
    "txt1*txt2"
   ]
  },
  {
   "cell_type": "code",
   "execution_count": 150,
   "id": "fd27c608",
   "metadata": {},
   "outputs": [
    {
     "ename": "TypeError",
     "evalue": "unsupported operand type(s) for /: 'str' and 'str'",
     "output_type": "error",
     "traceback": [
      "\u001b[1;31m---------------------------------------------------------------------------\u001b[0m",
      "\u001b[1;31mTypeError\u001b[0m                                 Traceback (most recent call last)",
      "Cell \u001b[1;32mIn[150], line 1\u001b[0m\n\u001b[1;32m----> 1\u001b[0m \u001b[43mtxt1\u001b[49m\u001b[38;5;241;43m/\u001b[39;49m\u001b[43mtxt2\u001b[49m\n",
      "\u001b[1;31mTypeError\u001b[0m: unsupported operand type(s) for /: 'str' and 'str'"
     ]
    }
   ],
   "source": [
    "txt1/txt2\n"
   ]
  },
  {
   "cell_type": "code",
   "execution_count": 151,
   "id": "f58d491c",
   "metadata": {},
   "outputs": [
    {
     "data": {
      "text/plain": [
       "'OláOláOláOláOlá'"
      ]
     },
     "execution_count": 151,
     "metadata": {},
     "output_type": "execute_result"
    }
   ],
   "source": [
    "txt1*5"
   ]
  },
  {
   "cell_type": "code",
   "execution_count": 152,
   "id": "6d5f7ca0",
   "metadata": {},
   "outputs": [
    {
     "name": "stdout",
     "output_type": "stream",
     "text": [
      "Resposta 1\n",
      "====================================================================================================\n",
      "Resposta 2\n"
     ]
    }
   ],
   "source": [
    "print('Resposta 1')\n",
    "print('='*100)\n",
    "print('Resposta 2')"
   ]
  },
  {
   "cell_type": "markdown",
   "id": "c4d21f67",
   "metadata": {},
   "source": [
    "## Métodos(funções)"
   ]
  },
  {
   "cell_type": "code",
   "execution_count": null,
   "id": "c2ef1a9b",
   "metadata": {},
   "outputs": [
    {
     "data": {
      "text/plain": [
       "'OLÁ'"
      ]
     },
     "execution_count": 153,
     "metadata": {},
     "output_type": "execute_result"
    }
   ],
   "source": [
    "#txt1 = txt1.upper() # sem redefinir, a variavel não é alterada"
   ]
  },
  {
   "cell_type": "code",
   "execution_count": 154,
   "id": "b9e04cbf",
   "metadata": {},
   "outputs": [
    {
     "data": {
      "text/plain": [
       "'mundo'"
      ]
     },
     "execution_count": 154,
     "metadata": {},
     "output_type": "execute_result"
    }
   ],
   "source": [
    "txt2.lower()"
   ]
  },
  {
   "cell_type": "code",
   "execution_count": 156,
   "id": "da331641",
   "metadata": {},
   "outputs": [
    {
     "data": {
      "text/plain": [
       "'Bananeira da banana'"
      ]
     },
     "execution_count": 156,
     "metadata": {},
     "output_type": "execute_result"
    }
   ],
   "source": [
    "txt3 = \"Bananeira DA BAnaNA\"\n",
    "\n",
    "txt3.capitalize()"
   ]
  },
  {
   "cell_type": "code",
   "execution_count": null,
   "id": "ba7ced84",
   "metadata": {},
   "outputs": [
    {
     "data": {
      "text/plain": [
       "'Bananeira Da Banana'"
      ]
     },
     "execution_count": 158,
     "metadata": {},
     "output_type": "execute_result"
    }
   ],
   "source": [
    "txt3.title() # 1ª de cada palavra maiscula"
   ]
  },
  {
   "cell_type": "code",
   "execution_count": 159,
   "id": "d969906b",
   "metadata": {},
   "outputs": [
    {
     "data": {
      "text/plain": [
       "'Joao'"
      ]
     },
     "execution_count": 159,
     "metadata": {},
     "output_type": "execute_result"
    }
   ],
   "source": [
    "entrada_do_usuario = '    Joao   '\n",
    "\n",
    "entrada_do_usuario.strip()"
   ]
  },
  {
   "cell_type": "code",
   "execution_count": 164,
   "id": "a65fb838",
   "metadata": {},
   "outputs": [
    {
     "data": {
      "text/plain": [
       "'baJJJneira da baJJJJJJ'"
      ]
     },
     "execution_count": 164,
     "metadata": {},
     "output_type": "execute_result"
    }
   ],
   "source": [
    "txt3.lower().replace(\"na\",'JJJ')"
   ]
  },
  {
   "cell_type": "code",
   "execution_count": 161,
   "id": "bf8eabdc",
   "metadata": {},
   "outputs": [
    {
     "data": {
      "text/plain": [
       "\"Joao é 'capixaba'\""
      ]
     },
     "execution_count": 161,
     "metadata": {},
     "output_type": "execute_result"
    }
   ],
   "source": [
    "\"Joao é 'capixaba'\""
   ]
  },
  {
   "cell_type": "code",
   "execution_count": 162,
   "id": "5430daea",
   "metadata": {},
   "outputs": [
    {
     "data": {
      "text/plain": [
       "\"Joao é 'capixaba'\""
      ]
     },
     "execution_count": 162,
     "metadata": {},
     "output_type": "execute_result"
    }
   ],
   "source": [
    "'Joao é \\'capixaba\\''\n"
   ]
  },
  {
   "cell_type": "code",
   "execution_count": 171,
   "id": "76fb1a7c",
   "metadata": {},
   "outputs": [
    {
     "data": {
      "text/plain": [
       "'Bananeira DA BAnaNA'"
      ]
     },
     "execution_count": 171,
     "metadata": {},
     "output_type": "execute_result"
    }
   ],
   "source": [
    "txt3"
   ]
  },
  {
   "cell_type": "code",
   "execution_count": 175,
   "id": "5d252f6e",
   "metadata": {},
   "outputs": [
    {
     "data": {
      "text/plain": [
       "1"
      ]
     },
     "execution_count": 175,
     "metadata": {},
     "output_type": "execute_result"
    }
   ],
   "source": [
    "textinho = 'ne'\n",
    "txt3.count(textinho)"
   ]
  },
  {
   "cell_type": "code",
   "execution_count": null,
   "id": "e75616a7",
   "metadata": {},
   "outputs": [],
   "source": [
    "txt3.count('BA') # Quantos BA tem em txt3\n"
   ]
  },
  {
   "cell_type": "markdown",
   "id": "174dcc97",
   "metadata": {},
   "source": [
    "## f-string"
   ]
  },
  {
   "cell_type": "code",
   "execution_count": 165,
   "id": "d02decf3",
   "metadata": {},
   "outputs": [],
   "source": [
    "x=3\n",
    "y=4\n",
    "w = True"
   ]
  },
  {
   "cell_type": "code",
   "execution_count": 169,
   "id": "69fc79e3",
   "metadata": {},
   "outputs": [
    {
     "name": "stdout",
     "output_type": "stream",
     "text": [
      "O valor de x é 3 . O valor de y é 4 . O valor de w é True\n",
      "O valor de x é 3. O valor de y é 4. O valor de w é True\n"
     ]
    }
   ],
   "source": [
    "print('O valor de x é',x,'. O valor de y é',y,'. O valor de w é',w)\n",
    "\n",
    "print(f'O valor de x é {x}. O valor de y é {y}. O valor de w é {w}')\n",
    "\n",
    "abc = 123"
   ]
  },
  {
   "cell_type": "code",
   "execution_count": 170,
   "id": "c3802d9d",
   "metadata": {},
   "outputs": [
    {
     "name": "stdout",
     "output_type": "stream",
     "text": [
      "O valor de x=3. O valor de y=4. O valor de w=True\n"
     ]
    }
   ],
   "source": [
    "print(f'O valor de {x=}. O valor de {y=}. O valor de {w=}')\n"
   ]
  },
  {
   "cell_type": "code",
   "execution_count": null,
   "id": "b81b0325",
   "metadata": {},
   "outputs": [],
   "source": []
  }
 ],
 "metadata": {
  "kernelspec": {
   "display_name": "Python 3",
   "language": "python",
   "name": "python3"
  },
  "language_info": {
   "codemirror_mode": {
    "name": "ipython",
    "version": 3
   },
   "file_extension": ".py",
   "mimetype": "text/x-python",
   "name": "python",
   "nbconvert_exporter": "python",
   "pygments_lexer": "ipython3",
   "version": "3.12.4"
  }
 },
 "nbformat": 4,
 "nbformat_minor": 5
}
