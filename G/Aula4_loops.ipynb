{
 "cells": [
  {
   "cell_type": "code",
   "execution_count": null,
   "id": "cd8f4bfb",
   "metadata": {},
   "outputs": [
    {
     "name": "stdout",
     "output_type": "stream",
     "text": [
      "1\t2\t3\t4\t5\n"
     ]
    }
   ],
   "source": [
    "print(1,2,3,4,5,sep='\\t')\n"
   ]
  },
  {
   "cell_type": "markdown",
   "id": "cf1a02d5",
   "metadata": {},
   "source": [
    "# For"
   ]
  },
  {
   "cell_type": "markdown",
   "id": "9abc07d6",
   "metadata": {},
   "source": [
    "## Syntax\n",
    "```python\n",
    "for item in iterable:\n",
    "    # bloco de código\n",
    "```"
   ]
  },
  {
   "cell_type": "code",
   "execution_count": 11,
   "id": "5494ddc1",
   "metadata": {},
   "outputs": [],
   "source": [
    "if True:\n",
    "    ...\n",
    "else:\n",
    "    ..."
   ]
  },
  {
   "cell_type": "code",
   "execution_count": 13,
   "id": "30cf6069",
   "metadata": {},
   "outputs": [
    {
     "name": "stdout",
     "output_type": "stream",
     "text": [
      "1\n",
      "2\n",
      "3\n",
      "4\n",
      "5\n",
      "10\n",
      "11\n",
      "12\n",
      "13\n",
      "14\n",
      "15\n",
      "FIM\n"
     ]
    }
   ],
   "source": [
    "for item in range(1,6): \n",
    "    print(item)\n",
    "    ... #ellypsis => placeholder\n",
    "for item in range(10,16): \n",
    "    print(item)\n",
    "print('FIM')"
   ]
  },
  {
   "cell_type": "code",
   "execution_count": 14,
   "id": "a2176591",
   "metadata": {},
   "outputs": [
    {
     "name": "stdout",
     "output_type": "stream",
     "text": [
      "0\n",
      "2\n",
      "4\n",
      "6\n",
      "8\n",
      "10\n",
      "12\n",
      "14\n",
      "16\n",
      "18\n"
     ]
    }
   ],
   "source": [
    "for c in range(0,20,2):\n",
    "    print(c)"
   ]
  },
  {
   "cell_type": "markdown",
   "id": "3913d802",
   "metadata": {},
   "source": [
    "Faça uma contagem de 10 até 0 e imprima BOOM ao final"
   ]
  },
  {
   "cell_type": "code",
   "execution_count": 21,
   "id": "8322bd2c",
   "metadata": {},
   "outputs": [
    {
     "name": "stdout",
     "output_type": "stream",
     "text": [
      "10\n",
      "9\n",
      "8\n",
      "7\n",
      "6\n",
      "5\n",
      "4\n",
      "3\n",
      "2\n",
      "1\n",
      "0\n",
      "BOOM\n"
     ]
    }
   ],
   "source": [
    "# for c in range(-10,1,1):\n",
    "#     print(-c)\n",
    "\n",
    "# for c in range(0,11):\n",
    "#     print(10-c)\n",
    "\n",
    "for c in range(10,-1,-1):\n",
    "    print(c)\n",
    "print('BOOM')"
   ]
  },
  {
   "cell_type": "markdown",
   "id": "aab9170b",
   "metadata": {},
   "source": [
    "Escreva um programa q imprime de 0 até 30 de 2 em 2\n",
    "Desafio: Não usar step"
   ]
  }
 ],
 "metadata": {
  "kernelspec": {
   "display_name": "Python 3",
   "language": "python",
   "name": "python3"
  },
  "language_info": {
   "codemirror_mode": {
    "name": "ipython",
    "version": 3
   },
   "file_extension": ".py",
   "mimetype": "text/x-python",
   "name": "python",
   "nbconvert_exporter": "python",
   "pygments_lexer": "ipython3",
   "version": "3.13.1"
  }
 },
 "nbformat": 4,
 "nbformat_minor": 5
}
