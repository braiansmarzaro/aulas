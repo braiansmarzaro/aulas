{
 "cells": [
  {
   "cell_type": "markdown",
   "id": "f3ffc5ea",
   "metadata": {},
   "source": [
    "# Syntax"
   ]
  },
  {
   "cell_type": "markdown",
   "id": "15927dea",
   "metadata": {},
   "source": [
    "```python\n",
    "if condição booleana:\n",
    "    # código a ser executado se a condição for verdadeira\n",
    "else:\n",
    "    # código a ser executado se a condição for falsa\n",
    "```"
   ]
  },
  {
   "cell_type": "code",
   "execution_count": 2,
   "id": "4577e40a",
   "metadata": {},
   "outputs": [
    {
     "name": "stdout",
     "output_type": "stream",
     "text": [
      "x nao é maior que 6\n"
     ]
    }
   ],
   "source": [
    "x=5\n",
    "if x>6:\n",
    "    print('x maior que 6')\n",
    "else:\n",
    "    print('x nao é maior que 6')"
   ]
  },
  {
   "cell_type": "markdown",
   "id": "eff54d5c",
   "metadata": {},
   "source": [
    "Escreva um programa que leia um número e diga se ele é maior que 5, menor que 5 ou igual a 5."
   ]
  },
  {
   "cell_type": "code",
   "execution_count": null,
   "id": "a9ef99bc",
   "metadata": {},
   "outputs": [
    {
     "name": "stdout",
     "output_type": "stream",
     "text": [
      "x diferente de 5\n",
      "maior que 5\n"
     ]
    }
   ],
   "source": [
    "x=6\n",
    "if x==5:\n",
    "    print('x=5')\n",
    "else:\n",
    "    print('x diferente de 5')\n",
    "    if x>5:\n",
    "        print('maior que 5')\n",
    "    else:\n",
    "        print('menor que 5')\n",
    "        # if:\n",
    "        \n",
    "        # else:\n",
    "        #     if:\n",
    "            \n",
    "        #     else:\n",
    "        #         if:\n",
    "                \n",
    "        #         else:\n",
    "\n"
   ]
  },
  {
   "cell_type": "markdown",
   "id": "73303a17",
   "metadata": {},
   "source": [
    "# Elif"
   ]
  },
  {
   "cell_type": "code",
   "execution_count": 6,
   "id": "e1e81ad1",
   "metadata": {},
   "outputs": [
    {
     "name": "stdout",
     "output_type": "stream",
     "text": [
      "x>5\n"
     ]
    }
   ],
   "source": [
    "x=15\n",
    "if x==5:\n",
    "    print('x=5')\n",
    "elif x>5: #else if\n",
    "    print('x>5')\n",
    "elif x>10:\n",
    "    print('x>10')\n",
    "else:\n",
    "    print('x<5')\n",
    "\n",
    "\n"
   ]
  },
  {
   "cell_type": "markdown",
   "id": "b1678408",
   "metadata": {},
   "source": [
    "# Elementos na condição"
   ]
  },
  {
   "cell_type": "code",
   "execution_count": null,
   "id": "fa8f3524",
   "metadata": {},
   "outputs": [
    {
     "name": "stdout",
     "output_type": "stream",
     "text": [
      "Barbosa\n"
     ]
    }
   ],
   "source": [
    "if 'barbosa': # if bool('barbosa')\n",
    "    print('Barbosa')"
   ]
  },
  {
   "cell_type": "code",
   "execution_count": 15,
   "id": "266823b2",
   "metadata": {},
   "outputs": [
    {
     "data": {
      "text/plain": [
       "False"
      ]
     },
     "execution_count": 15,
     "metadata": {},
     "output_type": "execute_result"
    }
   ],
   "source": [
    "bool(0) #False se for 0\n",
    "bool(' ') # False se vazia\n",
    "bool(0.0)"
   ]
  },
  {
   "cell_type": "code",
   "execution_count": null,
   "id": "bd12798c",
   "metadata": {},
   "outputs": [
    {
     "name": "stdout",
     "output_type": "stream",
     "text": [
      "um\n"
     ]
    }
   ],
   "source": [
    "if 1:\n",
    "    print('um')"
   ]
  },
  {
   "cell_type": "code",
   "execution_count": 19,
   "id": "79489031",
   "metadata": {},
   "outputs": [
    {
     "name": "stdout",
     "output_type": "stream",
     "text": [
      "TEXTO ESTÁ VAZIO\n"
     ]
    }
   ],
   "source": [
    "texto = ''\n",
    "\n",
    "if texto: #Se o texto existe, ou seja, não está vazio\n",
    "    print('texto nao está vazio')\n",
    "else:\n",
    "    print('TEXTO ESTÁ VAZIO')"
   ]
  }
 ],
 "metadata": {
  "kernelspec": {
   "display_name": "Python 3",
   "language": "python",
   "name": "python3"
  },
  "language_info": {
   "codemirror_mode": {
    "name": "ipython",
    "version": 3
   },
   "file_extension": ".py",
   "mimetype": "text/x-python",
   "name": "python",
   "nbconvert_exporter": "python",
   "pygments_lexer": "ipython3",
   "version": "3.13.1"
  }
 },
 "nbformat": 4,
 "nbformat_minor": 5
}
