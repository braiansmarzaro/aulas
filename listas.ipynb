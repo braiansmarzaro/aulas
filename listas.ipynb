{
 "cells": [
  {
   "cell_type": "markdown",
   "metadata": {},
   "source": [
    "# Estruturas Compostas - Tupla\n"
   ]
  },
  {
   "cell_type": "code",
   "execution_count": 2,
   "metadata": {},
   "outputs": [
    {
     "data": {
      "text/plain": [
       "tuple"
      ]
     },
     "execution_count": 2,
     "metadata": {},
     "output_type": "execute_result"
    }
   ],
   "source": [
    "tup = (10, 11, 12, \"a\", 14.4, True)\n",
    "type(tup)"
   ]
  },
  {
   "cell_type": "markdown",
   "metadata": {},
   "source": [
    "# Slice\n"
   ]
  },
  {
   "cell_type": "code",
   "execution_count": 5,
   "metadata": {},
   "outputs": [
    {
     "data": {
      "text/plain": [
       "(11, 12, 'a')"
      ]
     },
     "execution_count": 5,
     "metadata": {},
     "output_type": "execute_result"
    }
   ],
   "source": [
    "tup[0]\n",
    "tup[4]\n",
    "tup[1:4]"
   ]
  },
  {
   "cell_type": "markdown",
   "metadata": {},
   "source": [
    "# Contexto\n"
   ]
  },
  {
   "cell_type": "code",
   "execution_count": 8,
   "metadata": {},
   "outputs": [
    {
     "data": {
      "text/plain": [
       "'RJ'"
      ]
     },
     "execution_count": 8,
     "metadata": {},
     "output_type": "execute_result"
    }
   ],
   "source": [
    "nome = \"Joao\"\n",
    "idade = 16\n",
    "estado = \"RJ\"\n",
    "\n",
    "pessoa = (\"Joao\", 16, \"RJ\")\n",
    "pessoa[2]"
   ]
  },
  {
   "cell_type": "code",
   "execution_count": null,
   "metadata": {},
   "outputs": [],
   "source": [
    "nota1 = 2\n",
    "nota2 = 2\n",
    "nota3 = 2\n",
    "notas = (4, 5, 6, 2, 6)"
   ]
  },
  {
   "cell_type": "markdown",
   "metadata": {},
   "source": [
    "# Operações\n"
   ]
  },
  {
   "cell_type": "code",
   "execution_count": 11,
   "metadata": {},
   "outputs": [
    {
     "data": {
      "text/plain": [
       "(20, 21, 22, 10, 11, 12, 10, 11, 12)"
      ]
     },
     "execution_count": 11,
     "metadata": {},
     "output_type": "execute_result"
    }
   ],
   "source": [
    "tup1 = (10, 11, 12)\n",
    "tup2 = (20, 21, 22)\n",
    "\n",
    "tup2 + tup1 + tup1  # concat"
   ]
  },
  {
   "cell_type": "code",
   "execution_count": 12,
   "metadata": {},
   "outputs": [
    {
     "ename": "TypeError",
     "evalue": "unsupported operand type(s) for -: 'tuple' and 'tuple'",
     "output_type": "error",
     "traceback": [
      "\u001b[1;31m---------------------------------------------------------------------------\u001b[0m",
      "\u001b[1;31mTypeError\u001b[0m                                 Traceback (most recent call last)",
      "Cell \u001b[1;32mIn[12], line 1\u001b[0m\n\u001b[1;32m----> 1\u001b[0m \u001b[43mtup1\u001b[49m\u001b[38;5;241;43m-\u001b[39;49m\u001b[43mtup2\u001b[49m\n",
      "\u001b[1;31mTypeError\u001b[0m: unsupported operand type(s) for -: 'tuple' and 'tuple'"
     ]
    }
   ],
   "source": [
    "tup1 - tup2"
   ]
  },
  {
   "cell_type": "code",
   "execution_count": 15,
   "metadata": {},
   "outputs": [
    {
     "ename": "TypeError",
     "evalue": "unsupported operand type(s) for /: 'tuple' and 'tuple'",
     "output_type": "error",
     "traceback": [
      "\u001b[1;31m---------------------------------------------------------------------------\u001b[0m",
      "\u001b[1;31mTypeError\u001b[0m                                 Traceback (most recent call last)",
      "Cell \u001b[1;32mIn[15], line 1\u001b[0m\n\u001b[1;32m----> 1\u001b[0m \u001b[43mtup1\u001b[49m\u001b[38;5;241;43m/\u001b[39;49m\u001b[43mtup2\u001b[49m\n\u001b[0;32m      2\u001b[0m tup1\u001b[38;5;241m*\u001b[39mtup2\n",
      "\u001b[1;31mTypeError\u001b[0m: unsupported operand type(s) for /: 'tuple' and 'tuple'"
     ]
    }
   ],
   "source": [
    "tup1 / tup2\n",
    "tup1 * tup2"
   ]
  },
  {
   "cell_type": "code",
   "execution_count": 16,
   "metadata": {},
   "outputs": [
    {
     "data": {
      "text/plain": [
       "(10, 11, 12, 10, 11, 12, 10, 11, 12)"
      ]
     },
     "execution_count": 16,
     "metadata": {},
     "output_type": "execute_result"
    }
   ],
   "source": [
    "tup1 * 3"
   ]
  },
  {
   "cell_type": "code",
   "execution_count": 17,
   "metadata": {},
   "outputs": [
    {
     "ename": "TypeError",
     "evalue": "can only concatenate tuple (not \"int\") to tuple",
     "output_type": "error",
     "traceback": [
      "\u001b[1;31m---------------------------------------------------------------------------\u001b[0m",
      "\u001b[1;31mTypeError\u001b[0m                                 Traceback (most recent call last)",
      "Cell \u001b[1;32mIn[17], line 1\u001b[0m\n\u001b[1;32m----> 1\u001b[0m \u001b[43mtup1\u001b[49m\u001b[38;5;241;43m+\u001b[39;49m\u001b[38;5;241;43m5\u001b[39;49m\n",
      "\u001b[1;31mTypeError\u001b[0m: can only concatenate tuple (not \"int\") to tuple"
     ]
    }
   ],
   "source": [
    "tup1 + 5"
   ]
  },
  {
   "cell_type": "code",
   "execution_count": 22,
   "metadata": {},
   "outputs": [
    {
     "data": {
      "text/plain": [
       "(10, 11, 12, 5, 8)"
      ]
     },
     "execution_count": 22,
     "metadata": {},
     "output_type": "execute_result"
    }
   ],
   "source": [
    "tup1 + (5, 8)\n",
    "\n",
    "# type((5,))"
   ]
  },
  {
   "cell_type": "markdown",
   "metadata": {},
   "source": [
    "# Imutabilidade\n"
   ]
  },
  {
   "cell_type": "code",
   "execution_count": 23,
   "metadata": {},
   "outputs": [
    {
     "data": {
      "text/plain": [
       "(10, 11, 12)"
      ]
     },
     "execution_count": 23,
     "metadata": {},
     "output_type": "execute_result"
    }
   ],
   "source": [
    "# tup1.add(tup2)"
   ]
  },
  {
   "cell_type": "code",
   "execution_count": 25,
   "metadata": {},
   "outputs": [
    {
     "data": {
      "text/plain": [
       "(10, 11, 12, 20, 21, 22)"
      ]
     },
     "execution_count": 25,
     "metadata": {},
     "output_type": "execute_result"
    }
   ],
   "source": [
    "tup3 = tup1 + tup2\n",
    "tup3"
   ]
  },
  {
   "cell_type": "code",
   "execution_count": 27,
   "metadata": {},
   "outputs": [
    {
     "data": {
      "text/plain": [
       "(10, 4, 12, 20, 21, 22)"
      ]
     },
     "execution_count": 27,
     "metadata": {},
     "output_type": "execute_result"
    }
   ],
   "source": [
    "# tup3[1] = 4\n",
    "# Não dá pra mudar o valor dela, apenas criar novas\n",
    "tup3[:1] + (4,) + tup3[2:]"
   ]
  },
  {
   "cell_type": "markdown",
   "metadata": {},
   "source": [
    "# Funções\n"
   ]
  },
  {
   "cell_type": "code",
   "execution_count": 34,
   "metadata": {},
   "outputs": [
    {
     "data": {
      "text/plain": [
       "63"
      ]
     },
     "execution_count": 34,
     "metadata": {},
     "output_type": "execute_result"
    }
   ],
   "source": [
    "len(tup)  # Quantidade de itens\n",
    "bool(tup)\n",
    "sum(tup1)"
   ]
  },
  {
   "cell_type": "code",
   "execution_count": 35,
   "metadata": {},
   "outputs": [
    {
     "data": {
      "text/plain": [
       "1"
      ]
     },
     "execution_count": 35,
     "metadata": {},
     "output_type": "execute_result"
    }
   ],
   "source": [
    "tup1.count(11)"
   ]
  },
  {
   "cell_type": "code",
   "execution_count": 40,
   "metadata": {},
   "outputs": [
    {
     "data": {
      "text/plain": [
       "2"
      ]
     },
     "execution_count": 40,
     "metadata": {},
     "output_type": "execute_result"
    }
   ],
   "source": [
    "tup2.index(22)\n",
    "\n",
    "tup2[2]\n",
    "\n",
    "tup2[tup2.index(22)]"
   ]
  },
  {
   "cell_type": "markdown",
   "metadata": {},
   "source": [
    "# Loops\n"
   ]
  },
  {
   "cell_type": "code",
   "execution_count": 65,
   "metadata": {},
   "outputs": [
    {
     "name": "stdout",
     "output_type": "stream",
     "text": [
      "0 10\n",
      "1 11\n",
      "2 12\n",
      "3 20\n",
      "4 21\n",
      "5 22\n"
     ]
    }
   ],
   "source": [
    "for i in tup3:\n",
    "    pass  # print(i)\n",
    "\n",
    "for i in (10, 50, 20, 40, 30, 10, 30, 20):\n",
    "    ...  # print(i)\n",
    "\n",
    "for i in range(len(tup3)):\n",
    "    print(i, tup3[i])"
   ]
  },
  {
   "cell_type": "markdown",
   "metadata": {},
   "source": [
    "# Exercicio\n",
    "\n",
    "Criar uma tupla de 10 elementos e printar os elementos dela de 2 em 2, mostrando-os em tuplas\n",
    "i.e.\n",
    "\n",
    "````\n",
    ">>> (1,2,3,...,10)\n",
    ">>> (1,2) - (3,4) - ... - (9,10)```\n",
    "````\n"
   ]
  },
  {
   "cell_type": "code",
   "execution_count": 51,
   "metadata": {},
   "outputs": [],
   "source": [
    "tupex = tuple(range(10, 101, 10))"
   ]
  },
  {
   "cell_type": "code",
   "execution_count": 63,
   "metadata": {},
   "outputs": [
    {
     "name": "stdout",
     "output_type": "stream",
     "text": [
      "(10, 20) - (30, 40) - (50, 60) - (70, 80) - (90, 100) - "
     ]
    }
   ],
   "source": [
    "for i in range(0, len(tupex) - 1, 2):\n",
    "    print(tupex[i : i + 2], end=\" - \")"
   ]
  },
  {
   "cell_type": "markdown",
   "metadata": {},
   "source": [
    "# Listas\n"
   ]
  },
  {
   "cell_type": "code",
   "execution_count": 95,
   "metadata": {},
   "outputs": [
    {
     "data": {
      "text/plain": [
       "list"
      ]
     },
     "execution_count": 95,
     "metadata": {},
     "output_type": "execute_result"
    }
   ],
   "source": [
    "lista = list()\n",
    "lista = [10, 11, 12, 13]\n",
    "type(lista)"
   ]
  },
  {
   "cell_type": "markdown",
   "metadata": {},
   "source": [
    "# Modificação"
   ]
  },
  {
   "cell_type": "code",
   "execution_count": 100,
   "metadata": {},
   "outputs": [
    {
     "name": "stdout",
     "output_type": "stream",
     "text": [
      "[40, 30, 60, 90, ['a', 'b']]\n"
     ]
    }
   ],
   "source": [
    "lista[1] = 5\n",
    "lista[3] = ['a','b']\n",
    "#lista[6] = 1 #Error\n",
    "\n",
    "lista[0:2] = [40,50]\n",
    "lista[1:3] = [30,60,90] # Contra intuitivo, atenção\n",
    "print(lista)"
   ]
  },
  {
   "cell_type": "markdown",
   "metadata": {},
   "source": [
    "# Operações"
   ]
  },
  {
   "cell_type": "code",
   "execution_count": 67,
   "metadata": {},
   "outputs": [
    {
     "data": {
      "text/plain": [
       "[10, 11, 12, 20, 30, 40]"
      ]
     },
     "execution_count": 67,
     "metadata": {},
     "output_type": "execute_result"
    }
   ],
   "source": [
    "lista1 = [10, 11, 12]\n",
    "lista2 = [20, 30, 40]\n",
    "lista1 + lista2"
   ]
  },
  {
   "cell_type": "code",
   "execution_count": 68,
   "metadata": {},
   "outputs": [
    {
     "ename": "TypeError",
     "evalue": "unsupported operand type(s) for -: 'list' and 'list'",
     "output_type": "error",
     "traceback": [
      "\u001b[1;31m---------------------------------------------------------------------------\u001b[0m",
      "\u001b[1;31mTypeError\u001b[0m                                 Traceback (most recent call last)",
      "Cell \u001b[1;32mIn[68], line 1\u001b[0m\n\u001b[1;32m----> 1\u001b[0m \u001b[43mlista1\u001b[49m\u001b[43m \u001b[49m\u001b[38;5;241;43m-\u001b[39;49m\u001b[43m \u001b[49m\u001b[43mlista2\u001b[49m\n",
      "\u001b[1;31mTypeError\u001b[0m: unsupported operand type(s) for -: 'list' and 'list'"
     ]
    }
   ],
   "source": [
    "lista1 - lista2"
   ]
  },
  {
   "cell_type": "code",
   "execution_count": 69,
   "metadata": {},
   "outputs": [
    {
     "ename": "TypeError",
     "evalue": "can't multiply sequence by non-int of type 'list'",
     "output_type": "error",
     "traceback": [
      "\u001b[1;31m---------------------------------------------------------------------------\u001b[0m",
      "\u001b[1;31mTypeError\u001b[0m                                 Traceback (most recent call last)",
      "Cell \u001b[1;32mIn[69], line 1\u001b[0m\n\u001b[1;32m----> 1\u001b[0m \u001b[43mlista2\u001b[49m\u001b[38;5;241;43m*\u001b[39;49m\u001b[43mlista1\u001b[49m\n",
      "\u001b[1;31mTypeError\u001b[0m: can't multiply sequence by non-int of type 'list'"
     ]
    }
   ],
   "source": [
    "lista2*lista1"
   ]
  },
  {
   "cell_type": "code",
   "execution_count": 70,
   "metadata": {},
   "outputs": [
    {
     "data": {
      "text/plain": [
       "[20, 30, 40, 20, 30, 40, 20, 30, 40, 20, 30, 40]"
      ]
     },
     "execution_count": 70,
     "metadata": {},
     "output_type": "execute_result"
    }
   ],
   "source": [
    "lista2*4"
   ]
  },
  {
   "cell_type": "markdown",
   "metadata": {},
   "source": [
    "# Contexto"
   ]
  },
  {
   "cell_type": "code",
   "execution_count": null,
   "metadata": {},
   "outputs": [],
   "source": [
    "pessoas = [('joao',13,True,'RJ'),('Maria',18,False,'ES')]"
   ]
  },
  {
   "cell_type": "markdown",
   "metadata": {},
   "source": [
    "# Funções"
   ]
  },
  {
   "cell_type": "markdown",
   "metadata": {},
   "source": [
    "## Adicionar"
   ]
  },
  {
   "cell_type": "code",
   "execution_count": 76,
   "metadata": {},
   "outputs": [
    {
     "name": "stdout",
     "output_type": "stream",
     "text": [
      "[10, 10, 5, 5, 11, 12, 13, 6, 6, 6, 6, 6]\n"
     ]
    }
   ],
   "source": [
    "lista.append(6)\n",
    "lista.insert(1,10)\n",
    "\n",
    "\n",
    "print(lista)"
   ]
  },
  {
   "cell_type": "code",
   "execution_count": 80,
   "metadata": {},
   "outputs": [
    {
     "data": {
      "text/plain": [
       "[10, 10, 5, 5, 11, 12, 13, 6, 6, 6, 6, 6, 10, 11, 12, 10, 11, 12, [10, 11, 12]]"
      ]
     },
     "execution_count": 80,
     "metadata": {},
     "output_type": "execute_result"
    }
   ],
   "source": [
    "lista.extend(lista1)\n",
    "lista.append(lista1)\n",
    "\n",
    "lista"
   ]
  },
  {
   "cell_type": "code",
   "execution_count": 81,
   "metadata": {},
   "outputs": [
    {
     "data": {
      "text/plain": [
       "[10,\n",
       " 10,\n",
       " 5,\n",
       " 5,\n",
       " 11,\n",
       " 12,\n",
       " 13,\n",
       " 6,\n",
       " 6,\n",
       " 6,\n",
       " 6,\n",
       " 6,\n",
       " 10,\n",
       " 11,\n",
       " 12,\n",
       " 10,\n",
       " 11,\n",
       " 12,\n",
       " [10, 11, 12],\n",
       " 10,\n",
       " 11,\n",
       " 12]"
      ]
     },
     "execution_count": 81,
     "metadata": {},
     "output_type": "execute_result"
    }
   ],
   "source": [
    "lista = lista + lista1\n",
    "lista"
   ]
  },
  {
   "cell_type": "code",
   "execution_count": 91,
   "metadata": {},
   "outputs": [
    {
     "data": {
      "text/plain": [
       "[20, 30, 40, 10, 11, 12]"
      ]
     },
     "execution_count": 91,
     "metadata": {},
     "output_type": "execute_result"
    }
   ],
   "source": [
    "x = lista2\n",
    "x.extend(tup1)\n",
    "x\n"
   ]
  },
  {
   "cell_type": "markdown",
   "metadata": {},
   "source": [
    "## Deleção"
   ]
  },
  {
   "cell_type": "code",
   "execution_count": 118,
   "metadata": {},
   "outputs": [
    {
     "data": {
      "text/plain": [
       "[10, 11, 12, 10, 11, 12, 10, 11, 12, 10, 11, 12, 10, 11, 12]"
      ]
     },
     "execution_count": 118,
     "metadata": {},
     "output_type": "execute_result"
    }
   ],
   "source": [
    "lista = lista1*5\n",
    "lista"
   ]
  },
  {
   "cell_type": "code",
   "execution_count": 107,
   "metadata": {},
   "outputs": [
    {
     "ename": "IndexError",
     "evalue": "pop from empty list",
     "output_type": "error",
     "traceback": [
      "\u001b[1;31m---------------------------------------------------------------------------\u001b[0m",
      "\u001b[1;31mIndexError\u001b[0m                                Traceback (most recent call last)",
      "Cell \u001b[1;32mIn[107], line 1\u001b[0m\n\u001b[1;32m----> 1\u001b[0m \u001b[43mlista\u001b[49m\u001b[38;5;241;43m.\u001b[39;49m\u001b[43mpop\u001b[49m\u001b[43m(\u001b[49m\u001b[43m)\u001b[49m \u001b[38;5;66;03m# Deleta o elemento no index\u001b[39;00m\n\u001b[0;32m      3\u001b[0m \u001b[38;5;28mprint\u001b[39m(lista)\n",
      "\u001b[1;31mIndexError\u001b[0m: pop from empty list"
     ]
    }
   ],
   "source": [
    "lista.pop() # Deleta o elemento no index\n",
    "\n",
    "print(lista)"
   ]
  },
  {
   "cell_type": "code",
   "execution_count": 117,
   "metadata": {},
   "outputs": [
    {
     "ename": "ValueError",
     "evalue": "list.remove(x): x not in list",
     "output_type": "error",
     "traceback": [
      "\u001b[1;31m---------------------------------------------------------------------------\u001b[0m",
      "\u001b[1;31mValueError\u001b[0m                                Traceback (most recent call last)",
      "Cell \u001b[1;32mIn[117], line 1\u001b[0m\n\u001b[1;32m----> 1\u001b[0m \u001b[43mlista\u001b[49m\u001b[38;5;241;43m.\u001b[39;49m\u001b[43mremove\u001b[49m\u001b[43m(\u001b[49m\u001b[38;5;241;43m11\u001b[39;49m\u001b[43m)\u001b[49m\n\u001b[0;32m      2\u001b[0m lista\n",
      "\u001b[1;31mValueError\u001b[0m: list.remove(x): x not in list"
     ]
    }
   ],
   "source": [
    "lista.remove(11)\n",
    "lista"
   ]
  },
  {
   "cell_type": "code",
   "execution_count": 119,
   "metadata": {},
   "outputs": [
    {
     "name": "stdout",
     "output_type": "stream",
     "text": [
      "[10, 11, 12, 10, 11, 12, 10, 11, 12, 10, 11, 12, 10, 11, 12]\n",
      "[10, 11, 10, 11, 12, 10, 11, 12, 10, 11, 12, 10, 11, 12]\n"
     ]
    }
   ],
   "source": [
    "print(lista)\n",
    "del lista[2]\n",
    "print(lista)"
   ]
  },
  {
   "cell_type": "markdown",
   "metadata": {},
   "source": [
    "# Organização"
   ]
  },
  {
   "cell_type": "code",
   "execution_count": 126,
   "metadata": {},
   "outputs": [
    {
     "data": {
      "text/plain": [
       "[20, 30, 40, 10, 11, 12, 20, 30, 40, 10, 11, 12, 20, 30, 40, 10, 11, 12]"
      ]
     },
     "execution_count": 126,
     "metadata": {},
     "output_type": "execute_result"
    }
   ],
   "source": [
    "lista = lista2*3\n",
    "lista"
   ]
  },
  {
   "cell_type": "code",
   "execution_count": 132,
   "metadata": {},
   "outputs": [
    {
     "data": {
      "text/plain": [
       "[40, 40, 40, 30, 30, 30, 20, 20, 20, 12, 12, 12, 11, 11, 11, 10, 10, 10]"
      ]
     },
     "execution_count": 132,
     "metadata": {},
     "output_type": "execute_result"
    }
   ],
   "source": [
    "lista.sort(reverse=True)\n",
    "lista"
   ]
  },
  {
   "cell_type": "code",
   "execution_count": 131,
   "metadata": {},
   "outputs": [
    {
     "data": {
      "text/plain": [
       "[40, 40, 40, 30, 30, 30, 20, 20, 20, 12, 12, 12, 11, 11, 11, 10, 10, 10]"
      ]
     },
     "execution_count": 131,
     "metadata": {},
     "output_type": "execute_result"
    }
   ],
   "source": [
    "lista4 = sorted(lista,reverse=True)\n",
    "lista4\n"
   ]
  },
  {
   "cell_type": "code",
   "execution_count": 133,
   "metadata": {},
   "outputs": [
    {
     "name": "stdout",
     "output_type": "stream",
     "text": [
      "[10, 10, 10, 11, 11, 11, 12, 12, 12, 20, 20, 20, 30, 30, 30, 40, 40, 40]\n"
     ]
    }
   ],
   "source": [
    "lista4.reverse()\n",
    "print(lista4)\n",
    "\n",
    "lista = lista[::-1]"
   ]
  },
  {
   "cell_type": "markdown",
   "metadata": {},
   "source": [
    "# Ponteiro"
   ]
  },
  {
   "cell_type": "code",
   "execution_count": 136,
   "metadata": {},
   "outputs": [
    {
     "name": "stdout",
     "output_type": "stream",
     "text": [
      "[1, 2]\n",
      "[1, 5]\n"
     ]
    }
   ],
   "source": [
    "a = [1,2]\n",
    "b = a.copy()\n",
    "b[1] = 5\n",
    "print(a)\n",
    "print(b)"
   ]
  },
  {
   "cell_type": "code",
   "execution_count": 137,
   "metadata": {},
   "outputs": [
    {
     "name": "stdout",
     "output_type": "stream",
     "text": [
      "[1, 2]\n",
      "[1, 5]\n"
     ]
    }
   ],
   "source": [
    "a = [1,2]\n",
    "b = a[:]\n",
    "b[1] = 5\n",
    "print(a)\n",
    "print(b)"
   ]
  },
  {
   "cell_type": "code",
   "execution_count": 152,
   "metadata": {},
   "outputs": [
    {
     "name": "stdout",
     "output_type": "stream",
     "text": [
      "[[1, 2], [10, 4]]\n",
      "[[1, 2], [10, 4]]\n"
     ]
    }
   ],
   "source": [
    "w = [[1,2],[3,4]]\n",
    "(w[0])[1]\n",
    "z = [[1,2,3,[5,6],7],\n",
    "     [10,20,[30,40]]]\n",
    "\n",
    "v = w.copy()\n",
    "\n",
    "v[1][0] = 10\n",
    "print(v)\n",
    "print(w)\n"
   ]
  },
  {
   "cell_type": "markdown",
   "metadata": {},
   "source": [
    "# Exercicio"
   ]
  },
  {
   "cell_type": "markdown",
   "metadata": {},
   "source": [
    "Crie uma função que retorne uma lista aleatoria com tamanho definido pela entrada da função."
   ]
  },
  {
   "cell_type": "code",
   "execution_count": null,
   "metadata": {},
   "outputs": [],
   "source": [
    "import random\n",
    "def gerar_numeros(n):\n",
    "    lista = []\n",
    "    for _ in range(n):\n",
    "        lista.append(random.randint(0,100))\n",
    "    return lista\n"
   ]
  },
  {
   "cell_type": "markdown",
   "metadata": {},
   "source": [
    "Crie um contador customizável"
   ]
  },
  {
   "cell_type": "code",
   "execution_count": null,
   "metadata": {},
   "outputs": [],
   "source": [
    "def contador(start,stop,step=1,delay=0.1,frase=\"Fim\"):\n",
    "    for c in range(start,stop,step):\n",
    "        print(c)\n",
    "        time.sleep(delay)\n",
    "    \n",
    "    print(frase)\n",
    "\n",
    "contador(1,10)"
   ]
  },
  {
   "cell_type": "markdown",
   "metadata": {},
   "source": [
    "Escrever um programa que gere n valores e conte quantos deles estão no intervalo [j,k] e quantos deles estão fora do intervalo, escrevendo estas informações ao final. Obs: n,j,k são valores arbitrários."
   ]
  },
  {
   "cell_type": "code",
   "execution_count": 2,
   "metadata": {},
   "outputs": [
    {
     "data": {
      "text/plain": [
       "[2, 0]"
      ]
     },
     "execution_count": 2,
     "metadata": {},
     "output_type": "execute_result"
    }
   ],
   "source": []
  },
  {
   "cell_type": "markdown",
   "metadata": {},
   "source": [
    "# Swap"
   ]
  },
  {
   "cell_type": "code",
   "execution_count": 6,
   "metadata": {},
   "outputs": [
    {
     "data": {
      "text/plain": [
       "[12, 11, 10]"
      ]
     },
     "execution_count": 6,
     "metadata": {},
     "output_type": "execute_result"
    }
   ],
   "source": [
    "x = [10,11,12]\n",
    "#[12,11,10]\n",
    "aux = x[0]\n",
    "x[0] = x[2]\n",
    "x[2] = aux\n",
    "\n",
    "x\n"
   ]
  },
  {
   "cell_type": "code",
   "execution_count": 7,
   "metadata": {},
   "outputs": [
    {
     "data": {
      "text/plain": [
       "[11, 10, 12]"
      ]
     },
     "execution_count": 7,
     "metadata": {},
     "output_type": "execute_result"
    }
   ],
   "source": [
    "w = [10,11,12]\n",
    "\n",
    "w[0],w[1] = w[1],w[0]\n",
    "w"
   ]
  },
  {
   "cell_type": "markdown",
   "metadata": {},
   "source": [
    "# Sort"
   ]
  },
  {
   "cell_type": "code",
   "execution_count": null,
   "metadata": {},
   "outputs": [],
   "source": [
    "# Bruto\n",
    "\n",
    "x=[5,8,10]\n",
    "\n",
    "x1 = [3,4,5,8,10]\n",
    "\n",
    "\n",
    "\n",
    "r = [1,2...] # Vou preencher primeiro com o menor valor de x. E apagar esse valor\n",
    "\n"
   ]
  },
  {
   "cell_type": "markdown",
   "metadata": {},
   "source": []
  },
  {
   "cell_type": "code",
   "execution_count": null,
   "metadata": {},
   "outputs": [],
   "source": [
    "# Bubblesort\n",
    "\n",
    "x=[5,3,8,10,4]\n",
    "\n",
    "# Loopa a lista trocando as posições de forma q o menor de cada par fique à esquerda.\n",
    "#1ª iter\n",
    "x=[3,5,8,10,4]\n",
    "x=[3,5,8,10,4]\n",
    "x=[3,5,8,10,4]\n",
    "x=[3,5,8,4,10]\n",
    "\n",
    "x=[3,5,8,4,10]\n",
    "x=[3,5,8,4,10]\n",
    "x=[3,5,4,8,10]\n",
    "x=[3,5,4,8,10]\n",
    "\n",
    "x=[3,4,5,8,10]\n",
    "...\n",
    "\n",
    "y = [11,5,8,10,4]\n",
    "y = [5,11,8,10,4]\n",
    "y = [5,8,11,10,4]\n",
    "y = [5,8,10,11,4]\n",
    "y = [5,8,10,4,11]\n"
   ]
  },
  {
   "cell_type": "markdown",
   "metadata": {},
   "source": [
    "# List comprehension"
   ]
  },
  {
   "cell_type": "code",
   "execution_count": 15,
   "metadata": {},
   "outputs": [
    {
     "name": "stdout",
     "output_type": "stream",
     "text": [
      "[0, 2, 4, 6, 8, 10]\n"
     ]
    },
    {
     "data": {
      "text/plain": [
       "<generator object <genexpr> at 0x0000029ACA0D5620>"
      ]
     },
     "execution_count": 15,
     "metadata": {},
     "output_type": "execute_result"
    }
   ],
   "source": [
    "lista = []\n",
    "for i in range(0,11,2):\n",
    "    lista.append(i)\n",
    "print(lista)\n",
    "\n",
    "lista = [i for i in range(0,11,2)] + [4,5,2*2]\n",
    "\n"
   ]
  },
  {
   "cell_type": "markdown",
   "metadata": {},
   "source": [
    "## If inline"
   ]
  },
  {
   "cell_type": "code",
   "execution_count": null,
   "metadata": {},
   "outputs": [],
   "source": [
    "a,b = 2,4\n",
    "\n",
    "j = 1 if a>b else 2\n",
    "\n",
    "if a>b:\n",
    "    j=1\n",
    "else:\n",
    "    j=2\n",
    "\n"
   ]
  },
  {
   "cell_type": "markdown",
   "metadata": {},
   "source": [
    "## Comprehension com If"
   ]
  },
  {
   "cell_type": "code",
   "execution_count": 20,
   "metadata": {},
   "outputs": [
    {
     "name": "stdout",
     "output_type": "stream",
     "text": [
      "[0, 0, 2, 0, 4, 0, 6, 0, 8, 0, 10, 0, 12, 0, 14, 0, 16, 0, 18, 0]\n"
     ]
    },
    {
     "data": {
      "text/plain": [
       "[0, 0, 2, 0, 4, 5, 6, 0, 8, 0, 10, 0, 12, 0, 14, 15, 16, 0, 18, 0]"
      ]
     },
     "execution_count": 20,
     "metadata": {},
     "output_type": "execute_result"
    }
   ],
   "source": [
    "lista = []\n",
    "for c in range(20):\n",
    "    if c%2==0:\n",
    "        lista.append(c)\n",
    "    else:\n",
    "        lista.append(0)\n",
    "print(lista)\n",
    "\n",
    "lista = [c if c%2==0 or c%5==0 else (c if c%5==0 else 0) for c in range(20)]\n",
    "lista"
   ]
  },
  {
   "cell_type": "code",
   "execution_count": 18,
   "metadata": {},
   "outputs": [
    {
     "data": {
      "text/plain": [
       "[0, 3, 6, 9, 12, 15, 18]"
      ]
     },
     "execution_count": 18,
     "metadata": {},
     "output_type": "execute_result"
    }
   ],
   "source": [
    "lista2 = [c for c in range(20) if c%3==0]\n",
    "\n",
    "lista2"
   ]
  },
  {
   "cell_type": "code",
   "execution_count": 19,
   "metadata": {},
   "outputs": [
    {
     "data": {
      "text/plain": [
       "[5, 8, 11, 14, 17, 20, 23, 26, 29, 32]"
      ]
     },
     "execution_count": 19,
     "metadata": {},
     "output_type": "execute_result"
    }
   ],
   "source": [
    "def funcao(v):\n",
    "    return v*3+5\n",
    "\n",
    "lista3 = [funcao(a) for a in range(10)]\n",
    "\n",
    "lista3"
   ]
  },
  {
   "cell_type": "markdown",
   "metadata": {},
   "source": [
    "# Matrizes"
   ]
  },
  {
   "cell_type": "code",
   "execution_count": 23,
   "metadata": {},
   "outputs": [
    {
     "data": {
      "text/plain": [
       "3"
      ]
     },
     "execution_count": 23,
     "metadata": {},
     "output_type": "execute_result"
    }
   ],
   "source": [
    "#l = [10,11,[12,[13,14],15],16] # Testezinho\n",
    "mat = [[1,2],\n",
    "       [3,4]]\n",
    "\n",
    "\n"
   ]
  },
  {
   "cell_type": "markdown",
   "metadata": {},
   "source": [
    "# Criação"
   ]
  },
  {
   "cell_type": "code",
   "execution_count": 31,
   "metadata": {},
   "outputs": [
    {
     "name": "stdout",
     "output_type": "stream",
     "text": [
      "[[0, 0, 0, 0, 0], [0, 0, 0, 0, 0], [0, 0, 0, 0, 0], [0, 0, 0, 0, 0], [0, 0, 0, 0, 0]]\n"
     ]
    }
   ],
   "source": [
    "mat = []\n",
    "lista = [] # *5\n",
    "\n",
    "'''for c in range(5):\n",
    "    lista.append(0)\n",
    "for c in range(5):\n",
    "    mat.append(lista.copy())'''\n",
    "\n",
    "'''for i in range(5):\n",
    "    l = []\n",
    "    for j in range(5):\n",
    "        l.append(0)\n",
    "    mat.append(l.copy())'''\n",
    "\n",
    "'''for _ in range(5):\n",
    "    mat.append([0]*5)'''\n",
    "\n",
    "mat = [[0]*5 for _ in range(5)]\n",
    "\n",
    "print(mat)\n",
    "\n",
    "\n",
    "#mat = [0]*10\n",
    "#mat"
   ]
  },
  {
   "cell_type": "markdown",
   "metadata": {},
   "source": [
    "## Preenchimento"
   ]
  },
  {
   "cell_type": "code",
   "execution_count": 3,
   "metadata": {},
   "outputs": [
    {
     "data": {
      "text/plain": [
       "[[0, 1, 2, 3, 4],\n",
       " [5, 6, 7, 8, 9],\n",
       " [10, 11, 12, 13, 14],\n",
       " [15, 16, 17, 18, 19],\n",
       " [20, 21, 22, 23, 24]]"
      ]
     },
     "execution_count": 3,
     "metadata": {},
     "output_type": "execute_result"
    }
   ],
   "source": [
    "# Crie uma matriz 5x5, que seus valores sejam uma sequencia de 0 a 24\n",
    "\n",
    "mat = []\n",
    "dentro = []\n",
    "#d=0\n",
    "for i in range(5):\n",
    "    dentro.clear()\n",
    "    for j in range(5):\n",
    "        if i>=1:\n",
    "            dentro.append(mat[i-1][-1]+j+1)\n",
    "        else:\n",
    "            dentro.append(j)\n",
    "\n",
    "    mat.append(dentro[:])\n",
    "\n",
    "#mat = [[j for i in range(5)] for j in range(5)]\n",
    "mat\n"
   ]
  },
  {
   "cell_type": "code",
   "execution_count": 1,
   "metadata": {},
   "outputs": [
    {
     "ename": "NameError",
     "evalue": "name 'mat' is not defined",
     "output_type": "error",
     "traceback": [
      "\u001b[1;31m---------------------------------------------------------------------------\u001b[0m",
      "\u001b[1;31mNameError\u001b[0m                                 Traceback (most recent call last)",
      "Cell \u001b[1;32mIn[1], line 1\u001b[0m\n\u001b[1;32m----> 1\u001b[0m mat \u001b[38;5;241m=\u001b[39m [[mat[i\u001b[38;5;241m-\u001b[39m\u001b[38;5;241m1\u001b[39m][\u001b[38;5;241m-\u001b[39m\u001b[38;5;241m1\u001b[39m] \u001b[38;5;241m+\u001b[39m j \u001b[38;5;241m+\u001b[39m \u001b[38;5;241m1\u001b[39m \u001b[38;5;28;01mif\u001b[39;00m i \u001b[38;5;241m>\u001b[39m\u001b[38;5;241m=\u001b[39m \u001b[38;5;241m1\u001b[39m \u001b[38;5;28;01melse\u001b[39;00m j \u001b[38;5;28;01mfor\u001b[39;00m j \u001b[38;5;129;01min\u001b[39;00m \u001b[38;5;28mrange\u001b[39m(\u001b[38;5;241m5\u001b[39m)] \u001b[38;5;28;01mfor\u001b[39;00m i \u001b[38;5;129;01min\u001b[39;00m \u001b[38;5;28mrange\u001b[39m(\u001b[38;5;241m5\u001b[39m)]\n\u001b[0;32m      2\u001b[0m mat\n",
      "Cell \u001b[1;32mIn[1], line 1\u001b[0m, in \u001b[0;36m<listcomp>\u001b[1;34m(.0)\u001b[0m\n\u001b[1;32m----> 1\u001b[0m mat \u001b[38;5;241m=\u001b[39m [[mat[i\u001b[38;5;241m-\u001b[39m\u001b[38;5;241m1\u001b[39m][\u001b[38;5;241m-\u001b[39m\u001b[38;5;241m1\u001b[39m] \u001b[38;5;241m+\u001b[39m j \u001b[38;5;241m+\u001b[39m \u001b[38;5;241m1\u001b[39m \u001b[38;5;28;01mif\u001b[39;00m i \u001b[38;5;241m>\u001b[39m\u001b[38;5;241m=\u001b[39m \u001b[38;5;241m1\u001b[39m \u001b[38;5;28;01melse\u001b[39;00m j \u001b[38;5;28;01mfor\u001b[39;00m j \u001b[38;5;129;01min\u001b[39;00m \u001b[38;5;28mrange\u001b[39m(\u001b[38;5;241m5\u001b[39m)] \u001b[38;5;28;01mfor\u001b[39;00m i \u001b[38;5;129;01min\u001b[39;00m \u001b[38;5;28mrange\u001b[39m(\u001b[38;5;241m5\u001b[39m)]\n\u001b[0;32m      2\u001b[0m mat\n",
      "Cell \u001b[1;32mIn[1], line 1\u001b[0m, in \u001b[0;36m<listcomp>\u001b[1;34m(.0)\u001b[0m\n\u001b[1;32m----> 1\u001b[0m mat \u001b[38;5;241m=\u001b[39m [[\u001b[43mmat\u001b[49m[i\u001b[38;5;241m-\u001b[39m\u001b[38;5;241m1\u001b[39m][\u001b[38;5;241m-\u001b[39m\u001b[38;5;241m1\u001b[39m] \u001b[38;5;241m+\u001b[39m j \u001b[38;5;241m+\u001b[39m \u001b[38;5;241m1\u001b[39m \u001b[38;5;28;01mif\u001b[39;00m i \u001b[38;5;241m>\u001b[39m\u001b[38;5;241m=\u001b[39m \u001b[38;5;241m1\u001b[39m \u001b[38;5;28;01melse\u001b[39;00m j \u001b[38;5;28;01mfor\u001b[39;00m j \u001b[38;5;129;01min\u001b[39;00m \u001b[38;5;28mrange\u001b[39m(\u001b[38;5;241m5\u001b[39m)] \u001b[38;5;28;01mfor\u001b[39;00m i \u001b[38;5;129;01min\u001b[39;00m \u001b[38;5;28mrange\u001b[39m(\u001b[38;5;241m5\u001b[39m)]\n\u001b[0;32m      2\u001b[0m mat\n",
      "\u001b[1;31mNameError\u001b[0m: name 'mat' is not defined"
     ]
    }
   ],
   "source": [
    "mat = [[mat[i-1][-1] + j + 1 if i >= 1 else j for j in range(5)] for i in range(5)]\n",
    "mat"
   ]
  },
  {
   "cell_type": "markdown",
   "metadata": {},
   "source": [
    "## Exibição"
   ]
  },
  {
   "cell_type": "code",
   "execution_count": 59,
   "metadata": {},
   "outputs": [
    {
     "name": "stdout",
     "output_type": "stream",
     "text": [
      "[1, 2, 3, 4, 5]\n",
      "[2, 4, 6, 8, 10]\n",
      "[3, 6, 9, 12, 15]\n",
      "[4, 8, 12, 16, 20]\n",
      "[5, 10, 15, 20, 25]\n",
      "1 2 3 4 5\n",
      "2 4 6 8 10\n",
      "3 6 9 12 15\n",
      "4 8 12 16 20\n",
      "5 10 15 20 25\n"
     ]
    },
    {
     "data": {
      "text/plain": [
       "'    10    '"
      ]
     },
     "execution_count": 59,
     "metadata": {},
     "output_type": "execute_result"
    }
   ],
   "source": [
    "for l in mat:\n",
    "    print(l)\n",
    "\n",
    "for l in mat:\n",
    "    print(' '.join([str(x) for x in l]))\n",
    "\n",
    "\n",
    "'''1 2 3 4     5\n",
    "2 4 6  8   10\n",
    "3 6 9 12   15\n",
    "4 8 12 16  20\n",
    "5 10 15 20 25'''\n",
    "\n",
    "f'{10:<10}'\n",
    "f'{10:>10}'\n",
    "\n",
    "f'{10:^10}'\n",
    "'10'.center(10)"
   ]
  },
  {
   "cell_type": "markdown",
   "metadata": {},
   "source": [
    "## Pesquisa"
   ]
  },
  {
   "cell_type": "code",
   "execution_count": 4,
   "metadata": {},
   "outputs": [
    {
     "data": {
      "text/plain": [
       "[[0, 1, 2, 3, 4],\n",
       " [5, 6, 7, 8, 9],\n",
       " [10, 11, 12, 13, 14],\n",
       " [15, 16, 17, 18, 19],\n",
       " [20, 21, 22, 23, 24]]"
      ]
     },
     "execution_count": 4,
     "metadata": {},
     "output_type": "execute_result"
    }
   ],
   "source": [
    "mat"
   ]
  },
  {
   "cell_type": "code",
   "execution_count": 6,
   "metadata": {},
   "outputs": [
    {
     "name": "stdout",
     "output_type": "stream",
     "text": [
      "[0, 1, 2, 3, 4]\n",
      "loop\n",
      "[5, 6, 7, 8, 9]\n",
      "loop\n",
      "[10, 11, 12, 13, 14]\n",
      "loop\n",
      "[15, 16, 17, 18, 19]\n",
      "loop\n",
      "existe\n"
     ]
    }
   ],
   "source": [
    "# Existe tal valor na matriz?\n",
    "encontrado = False\n",
    "valor_procurado = 16\n",
    "for row in mat: #Lista dentro da lista\n",
    "    \n",
    "    print(row)\n",
    "    print('loop')\n",
    "    if valor_procurado in row:\n",
    "        #encontrado = True\n",
    "        print('existe')\n",
    "        break\n",
    "    '''for col in row: #numeros dentro da lista interna\n",
    "        if col == 16:\n",
    "            encontrado = True\n",
    "            print('existe')\n",
    "            break\n",
    "    if encontrado:\n",
    "        break'''\n",
    "    # Para o loop caso encontre o valor\n",
    "\n",
    "# Como parar o for de fora assim que encontrar o valor?\n"
   ]
  },
  {
   "cell_type": "code",
   "execution_count": 8,
   "metadata": {},
   "outputs": [
    {
     "data": {
      "text/plain": [
       "False"
      ]
     },
     "execution_count": 8,
     "metadata": {},
     "output_type": "execute_result"
    }
   ],
   "source": [
    "20 in [10,11,12]"
   ]
  },
  {
   "cell_type": "markdown",
   "metadata": {},
   "source": [
    "# Exercicio"
   ]
  },
  {
   "cell_type": "code",
   "execution_count": 13,
   "metadata": {},
   "outputs": [
    {
     "name": "stdout",
     "output_type": "stream",
     "text": [
      "[0, 0, 0, 0, 0, 0]\n",
      "[0, 0, 0, 0, 0, 0]\n",
      "[0, 0, 0, 0, 0, 0]\n",
      "[0, 0, 0, 0, 0, 0]\n"
     ]
    }
   ],
   "source": [
    "def zeros(linhas, colunas):\n",
    "    lista = []\n",
    "    for _ in range(linhas):\n",
    "        linha = [0]*colunas\n",
    "        #for _ in range(colunas):\n",
    "        #    linha.append(0)\n",
    "        lista.append(linha)\n",
    "    return lista\n",
    "\n",
    "matriz = zeros(4,6)\n",
    "for c in matriz:\n",
    "    print(c)"
   ]
  },
  {
   "cell_type": "markdown",
   "metadata": {},
   "source": [
    "Ler um conjunto de numeros reais, armazenando-o em vetor e calcular o quadrado das componentes deste vetor, armazenando o resultado em outro vetor. Os conjuntos tem 10 elementos cada. Imprimir todos os conjuntos."
   ]
  },
  {
   "cell_type": "markdown",
   "metadata": {},
   "source": [
    "Ler um numero dez vezes\n",
    "\n",
    "Salvar numa lista\n",
    "\n",
    "Calcular o quadrado de cada numero\n",
    "\n",
    "Salvar os quadrados em uma nova lista\n",
    "\n",
    "Exibir tudo\n"
   ]
  },
  {
   "cell_type": "code",
   "execution_count": 10,
   "metadata": {},
   "outputs": [
    {
     "name": "stdout",
     "output_type": "stream",
     "text": [
      "[34.57593312139456, 65.79911606373969, 61.15547524978856, 4.568288546641086, 5.269915252723834, 19.403969822576006, 27.210409858652305, 72.5100086902136, 71.45203077734595, 15.255859450330044]\n",
      "[1195.4951512151495, 4329.523674769486, 3739.992153027501, 20.869260245372125, 27.772006770891313, 376.5140448754403, 740.4064046758425, 5257.701360254851, 5105.392702206794, 232.74124756822454]\n"
     ]
    }
   ],
   "source": [
    "import random\n",
    "numeros = [random.uniform(0,100) for _ in range(10)]\n",
    "quadrados = [n**2 for n in numeros]\n",
    "print(numeros)\n",
    "print(quadrados)"
   ]
  },
  {
   "cell_type": "markdown",
   "metadata": {},
   "source": [
    "# Zip"
   ]
  },
  {
   "cell_type": "code",
   "execution_count": 24,
   "metadata": {},
   "outputs": [
    {
     "name": "stdout",
     "output_type": "stream",
     "text": [
      "[2, 3, 4, 6, 7]\n",
      "(1, 2, 3, 4, 5, 6)\n"
     ]
    }
   ],
   "source": [
    "tup = (1,2,3,4,6,7,8,4)\n",
    "a,*f,b,oito = tup\n",
    "b\n",
    "print(f)\n",
    "def soma(*args):\n",
    "    print(args)\n",
    "\n",
    "soma(1,2,3,4,5,6)"
   ]
  },
  {
   "cell_type": "code",
   "execution_count": 27,
   "metadata": {},
   "outputs": [
    {
     "name": "stdout",
     "output_type": "stream",
     "text": [
      "1 4 7\n",
      "2 5 8\n",
      "3 6 9\n",
      "((1, 4, 7), (2, 5, 8), (3, 6, 9))\n",
      "1 4 7\n",
      "2 5 8\n",
      "3 6 9\n"
     ]
    }
   ],
   "source": [
    "lista1 = [1,2,3]\n",
    "lista2 = [4,5,6]\n",
    "lista3 = [7,8,9]\n",
    "for i in range(3):\n",
    "    print(lista1[i],lista2[i],lista3[i])\n",
    "print(tuple(zip(lista1,lista2,lista3)))\n",
    "\n",
    "#a,b,c = (lista1[4],lista2[4],lista3[4])\n",
    "for a,b,c in zip(lista1,lista2,lista3):\n",
    "    print(f'{a} {b} {c}')"
   ]
  },
  {
   "cell_type": "markdown",
   "metadata": {},
   "source": [
    "# Enumerate"
   ]
  },
  {
   "cell_type": "code",
   "execution_count": 31,
   "metadata": {},
   "outputs": [
    {
     "name": "stdout",
     "output_type": "stream",
     "text": [
      "0 10\n",
      "1 11\n",
      "2 12\n",
      "0 10\n",
      "1 11\n",
      "2 12\n"
     ]
    }
   ],
   "source": [
    "ele = [10,11,12]\n",
    "list(enumerate(ele))\n",
    "for i in range(len(ele)):\n",
    "    print(i,ele[i])\n",
    "\n",
    "for i,v in enumerate(ele):\n",
    "    print(i,v)"
   ]
  },
  {
   "cell_type": "code",
   "execution_count": null,
   "metadata": {},
   "outputs": [],
   "source": []
  }
 ],
 "metadata": {
  "kernelspec": {
   "display_name": "Python 3",
   "language": "python",
   "name": "python3"
  },
  "language_info": {
   "codemirror_mode": {
    "name": "ipython",
    "version": 3
   },
   "file_extension": ".py",
   "mimetype": "text/x-python",
   "name": "python",
   "nbconvert_exporter": "python",
   "pygments_lexer": "ipython3",
   "version": "3.10.9"
  }
 },
 "nbformat": 4,
 "nbformat_minor": 2
}
