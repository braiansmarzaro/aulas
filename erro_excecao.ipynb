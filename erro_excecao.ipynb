{
 "cells": [
  {
   "cell_type": "markdown",
   "metadata": {},
   "source": [
    "# Principio"
   ]
  },
  {
   "cell_type": "markdown",
   "metadata": {},
   "source": [
    "Exemplo do Float"
   ]
  },
  {
   "cell_type": "code",
   "execution_count": 9,
   "metadata": {},
   "outputs": [
    {
     "name": "stdout",
     "output_type": "stream",
     "text": [
      "Inválido\n"
     ]
    },
    {
     "data": {
      "text/plain": [
       "1.2232323"
      ]
     },
     "execution_count": 9,
     "metadata": {},
     "output_type": "execute_result"
    }
   ],
   "source": [
    "x = \"01.2232.323\"#input(\"Insira um número: \")\n",
    "x = x.replace(\",\",\".\")\n",
    "if x.count(\".\")==1:\n",
    "    lista = x.split('.')\n",
    "    if lista[0].isnumeric() and lista[1].isnumeric():\n",
    "        value = float(f\"{lista[0]}.{lista[1]}\")\n",
    "    else:\n",
    "        print(\"Inválido\")\n",
    "\n",
    "else:\n",
    "    print(\"Inválido\")\n",
    "value"
   ]
  },
  {
   "cell_type": "code",
   "execution_count": 5,
   "metadata": {},
   "outputs": [
    {
     "name": "stdout",
     "output_type": "stream",
     "text": [
      "Digite um numero valido\n",
      "Digite um numero valido\n",
      "Digite um numero valido\n",
      "Digite um numero valido\n",
      "Digite um numero valido\n"
     ]
    }
   ],
   "source": [
    "# Digite um numero e imprima o seu dobro até digitar 0\n",
    "\n",
    "num = input('Digite um numero: ')\n",
    "while num != '0':\n",
    "    if num.isnumeric():\n",
    "        num = int(num)\n",
    "        print(num * 2)\n",
    "    else:\n",
    "        print('Digite um numero valido')\n",
    "    num = input('Digite um numero: ')"
   ]
  },
  {
   "cell_type": "code",
   "execution_count": 3,
   "metadata": {},
   "outputs": [
    {
     "data": {
      "text/plain": [
       "Ellipsis"
      ]
     },
     "execution_count": 3,
     "metadata": {},
     "output_type": "execute_result"
    }
   ],
   "source": [
    "# Selecione uma opção da lista\n",
    "# 1. Soma\n",
    "# 2. Subtração\n",
    "# 3. Multiplicação\n",
    "\n",
    "opcao = input('Selecione uma opção da lista\\n1. Soma\\n2. Subtração\\n3. Multiplicação\\n')\n",
    "while opcao not in list('123'):\n",
    "    opcao = input('Selecione uma opção da lista\\n1. Soma\\n2. Subtração\\n3. Multiplicação\\n')\n",
    "\n",
    "if opcao==1:\n",
    "    ...\n"
   ]
  },
  {
   "cell_type": "code",
   "execution_count": 4,
   "metadata": {},
   "outputs": [
    {
     "data": {
      "text/plain": [
       "['1', '2', '3']"
      ]
     },
     "execution_count": 4,
     "metadata": {},
     "output_type": "execute_result"
    }
   ],
   "source": [
    "list('123')"
   ]
  },
  {
   "cell_type": "code",
   "execution_count": 5,
   "metadata": {},
   "outputs": [
    {
     "name": "stdout",
     "output_type": "stream",
     "text": [
      "Numero inválido, burro\n",
      "Numero inválido, burro\n",
      "Numero inválido, burro\n",
      "Numero inválido, burro\n",
      "Numero inválido, burro\n",
      "Numero inválido, burro\n",
      "Numero inválido, burro\n",
      "Numero inválido, burro\n",
      "123\n"
     ]
    }
   ],
   "source": [
    "num = input('Digite um numero: ')\n",
    "while not num.isnumeric():\n",
    "    print('Numero inválido, burro')\n",
    "    num = input('Digite um numero: ')\n",
    "num=int(num)\n",
    "print(num)\n"
   ]
  },
  {
   "cell_type": "markdown",
   "metadata": {},
   "source": [
    "# Try, except, else, finally"
   ]
  },
  {
   "cell_type": "markdown",
   "metadata": {},
   "source": [
    "Tenta primeiro, se der errado, pede desculpa"
   ]
  },
  {
   "cell_type": "code",
   "execution_count": null,
   "metadata": {},
   "outputs": [],
   "source": [
    "try:\n",
    "    ...\n",
    "except:\n",
    "    ..."
   ]
  },
  {
   "cell_type": "code",
   "execution_count": 12,
   "metadata": {},
   "outputs": [
    {
     "name": "stdout",
     "output_type": "stream",
     "text": [
      "Deu erro\n",
      "0\n"
     ]
    }
   ],
   "source": [
    "try:\n",
    "    numero = float(input(\"Numero: \"))\n",
    "except:\n",
    "    print(\"Deu erro\")\n",
    "    numero = 0\n",
    "\n",
    "print(numero)\n"
   ]
  },
  {
   "cell_type": "code",
   "execution_count": 3,
   "metadata": {},
   "outputs": [
    {
     "name": "stdout",
     "output_type": "stream",
     "text": [
      "Deu erro\n",
      "Deu erro\n",
      "Deu erro\n",
      "Deu erro\n",
      "Deu erro\n",
      "45.4\n"
     ]
    }
   ],
   "source": [
    "while True:\n",
    "    try:\n",
    "        numero = float(input(\"Numero: \"))\n",
    "        certo = True\n",
    "    except:\n",
    "        print(\"Deu erro\")\n",
    "        certo = False\n",
    "    \n",
    "    if certo:\n",
    "        break\n",
    "\n",
    "print(numero)"
   ]
  },
  {
   "cell_type": "code",
   "execution_count": 4,
   "metadata": {},
   "outputs": [
    {
     "name": "stdout",
     "output_type": "stream",
     "text": [
      "Deu erro\n",
      "Deu erro\n",
      "Deu erro\n",
      "Deu erro\n",
      "Deu certo\n",
      "27.86\n"
     ]
    }
   ],
   "source": [
    "while True:\n",
    "    try: # Testa e vê no que dá\n",
    "        numero = float(input(\"Numero: \"))\n",
    "    except: # Se der ruim\n",
    "        print(\"Deu erro\")\n",
    "    \n",
    "    else: # Se der bom\n",
    "        print(\"Deu certo\")\n",
    "        break\n",
    "\n",
    "print(numero)"
   ]
  },
  {
   "cell_type": "markdown",
   "metadata": {},
   "source": [
    "# Exceptions"
   ]
  },
  {
   "cell_type": "code",
   "execution_count": 5,
   "metadata": {},
   "outputs": [
    {
     "data": {
      "text/plain": [
       "ValueError"
      ]
     },
     "execution_count": 5,
     "metadata": {},
     "output_type": "execute_result"
    }
   ],
   "source": [
    "ValueError,TypeError,KeyError,NotImplementedError"
   ]
  },
  {
   "cell_type": "code",
   "execution_count": 11,
   "metadata": {},
   "outputs": [
    {
     "ename": "NotImplementedError",
     "evalue": "Não fez nada aqui",
     "output_type": "error",
     "traceback": [
      "\u001b[1;31m---------------------------------------------------------------------------\u001b[0m",
      "\u001b[1;31mNotImplementedError\u001b[0m                       Traceback (most recent call last)",
      "Cell \u001b[1;32mIn[11], line 1\u001b[0m\n\u001b[1;32m----> 1\u001b[0m \u001b[38;5;28;01mraise\u001b[39;00m \u001b[38;5;167;01mNotImplementedError\u001b[39;00m(\u001b[38;5;124m\"\u001b[39m\u001b[38;5;124mNão fez nada aqui\u001b[39m\u001b[38;5;124m\"\u001b[39m)\n",
      "\u001b[1;31mNotImplementedError\u001b[0m: Não fez nada aqui"
     ]
    }
   ],
   "source": [
    "raise NotImplementedError(\"Não fez nada aqui\")"
   ]
  },
  {
   "cell_type": "code",
   "execution_count": 29,
   "metadata": {},
   "outputs": [
    {
     "ename": "ValueError",
     "evalue": "invalid literal for int() with base 10: 'a'",
     "output_type": "error",
     "traceback": [
      "\u001b[1;31m---------------------------------------------------------------------------\u001b[0m",
      "\u001b[1;31mValueError\u001b[0m                                Traceback (most recent call last)",
      "Cell \u001b[1;32mIn[29], line 5\u001b[0m\n\u001b[0;32m      1\u001b[0m \u001b[38;5;66;03m#Apenas entre 13 e 73\u001b[39;00m\n\u001b[0;32m      2\u001b[0m \u001b[38;5;66;03m#numero = int(input(\"Numero: \"))\u001b[39;00m\n\u001b[0;32m      4\u001b[0m \u001b[38;5;28;01mtry\u001b[39;00m:\n\u001b[1;32m----> 5\u001b[0m     numero \u001b[38;5;241m=\u001b[39m \u001b[38;5;28;43mint\u001b[39;49m\u001b[43m(\u001b[49m\u001b[38;5;28;43minput\u001b[39;49m\u001b[43m(\u001b[49m\u001b[38;5;124;43m\"\u001b[39;49m\u001b[38;5;124;43mNumero: \u001b[39;49m\u001b[38;5;124;43m\"\u001b[39;49m\u001b[43m)\u001b[49m\u001b[43m)\u001b[49m \u001b[38;5;66;03m#ValueError\u001b[39;00m\n\u001b[0;32m      6\u001b[0m     \u001b[38;5;28;01mif\u001b[39;00m \u001b[38;5;129;01mnot\u001b[39;00m (\u001b[38;5;241m13\u001b[39m\u001b[38;5;241m<\u001b[39m\u001b[38;5;241m=\u001b[39mnumero\u001b[38;5;241m<\u001b[39m\u001b[38;5;241m=\u001b[39m\u001b[38;5;241m73\u001b[39m):\n\u001b[0;32m      7\u001b[0m         \u001b[38;5;28;01mraise\u001b[39;00m \u001b[38;5;167;01mArithmeticError\u001b[39;00m(\u001b[38;5;124m\"\u001b[39m\u001b[38;5;124mNão está no intervalo\u001b[39m\u001b[38;5;124m\"\u001b[39m)\n",
      "\u001b[1;31mValueError\u001b[0m: invalid literal for int() with base 10: 'a'"
     ]
    }
   ],
   "source": [
    "#Apenas entre 13 e 73\n",
    "#numero = int(input(\"Numero: \"))\n",
    "\n",
    "try:\n",
    "    numero = int(input(\"Numero: \")) #ValueError\n",
    "    if not (13<=numero<=73):\n",
    "        raise ArithmeticError(\"Não está no intervalo\")\n",
    "    print(\"Final do try\")\n",
    "except ValueError as erro:\n",
    "    print(erro)\n",
    "except ArithmeticError as erro:\n",
    "    print(erro)\n",
    "else:\n",
    "    print(numero)\n"
   ]
  },
  {
   "cell_type": "code",
   "execution_count": 30,
   "metadata": {},
   "outputs": [
    {
     "name": "stdout",
     "output_type": "stream",
     "text": [
      "invalid literal for int() with base 10: 'a'\n"
     ]
    }
   ],
   "source": [
    "errors_dict = {'erro1':0, 'erro2':0}\n",
    "condicao1 = False\n",
    "condicao2 = True\n",
    "try:\n",
    "    numero = int(input(\"Numero: \")) #ValueError\n",
    "    if not (13<=numero<=73):\n",
    "        raise ArithmeticError(\"Não está no intervalo\")\n",
    "    if condicao1:\n",
    "        errors_dict['erro1']+=1\n",
    "        raise\n",
    "    if condicao2:\n",
    "        errors_dict['erro2']+=1\n",
    "        raise\n",
    "    print(\"Final do try\")\n",
    "#except ValueError as erro:\n",
    "#    print(erro)\n",
    "except ArithmeticError as erro:\n",
    "    print(erro)\n",
    "except Exception as erro:\n",
    "    print(erro)\n",
    "else:\n",
    "    print(numero)"
   ]
  },
  {
   "cell_type": "markdown",
   "metadata": {},
   "source": [
    "## Exception personalizado"
   ]
  },
  {
   "cell_type": "code",
   "execution_count": 31,
   "metadata": {},
   "outputs": [
    {
     "name": "stdout",
     "output_type": "stream",
     "text": [
      "Não está no intervalo\n"
     ]
    }
   ],
   "source": [
    "class NaoEstaEntre13E73(Exception): pass\n",
    "\n",
    "try:\n",
    "    numero = int(input(\"Numero: \")) #ValueError\n",
    "    if not (13<=numero<=73):\n",
    "        raise NaoEstaEntre13E73(\"Não está no intervalo\")\n",
    "    print(\"Final do try\")\n",
    "except ValueError as erro:\n",
    "    print(erro)\n",
    "except NaoEstaEntre13E73 as erro:\n",
    "    print(erro)\n",
    "except Exception:\n",
    "    print(\"Deu ruim\")\n",
    "else:\n",
    "    print(numero)"
   ]
  },
  {
   "cell_type": "code",
   "execution_count": 32,
   "metadata": {},
   "outputs": [
    {
     "name": "stdout",
     "output_type": "stream",
     "text": [
      "exceção\n"
     ]
    }
   ],
   "source": [
    "try:\n",
    "    raise Exception(\"exceção\")\n",
    "except Exception as e:\n",
    "    print(e)\n",
    "    \n"
   ]
  },
  {
   "cell_type": "markdown",
   "metadata": {},
   "source": [
    "Faça um programa que calcule a raiz quadrada de um número N e trate os casos em que N<0."
   ]
  },
  {
   "cell_type": "code",
   "execution_count": 3,
   "metadata": {},
   "outputs": [
    {
     "name": "stdout",
     "output_type": "stream",
     "text": [
      "2.0\n"
     ]
    }
   ],
   "source": [
    "#import math\n",
    "\n",
    "try:\n",
    "    valor = int(input('Digite um número'))\n",
    "    if valor < 0:\n",
    "        raise Exception('Valor menor que 0')\n",
    "except Exception:\n",
    "    print('O valor é menor que 0')\n",
    "\n",
    "else:\n",
    "    valor_raiz = (valor)**.5\n",
    "    print (valor_raiz)"
   ]
  },
  {
   "cell_type": "markdown",
   "metadata": {},
   "source": [
    "# Finally"
   ]
  },
  {
   "cell_type": "code",
   "execution_count": 7,
   "metadata": {},
   "outputs": [
    {
     "name": "stdout",
     "output_type": "stream",
     "text": [
      "Deu certo\n",
      "ab\n"
     ]
    }
   ],
   "source": [
    "try:\n",
    "    valor = input('Digite um número')\n",
    "    valor2 = input('Digite um número')\n",
    "except:\n",
    "    print(\"Deu erro\")\n",
    "else: # Opcionais\n",
    "    print(\"Deu certo\")\n",
    "finally: # Opcionais\n",
    "    texto = valor + valor2\n",
    "    print(texto)"
   ]
  },
  {
   "cell_type": "code",
   "execution_count": null,
   "metadata": {},
   "outputs": [],
   "source": [
    "try:\n",
    "    raise Exception(\"exceção\")\n",
    "except:\n",
    "    pass"
   ]
  },
  {
   "cell_type": "code",
   "execution_count": 23,
   "metadata": {},
   "outputs": [
    {
     "name": "stdout",
     "output_type": "stream",
     "text": [
      "ab\n"
     ]
    }
   ],
   "source": [
    "try:\n",
    "    valor = input('Digite um número')\n",
    "    valor2 = input('Digite um número')\n",
    "except:\n",
    "    print(\"Deu erro\")\n",
    "finally: # Opcionais\n",
    "\n",
    "    texto = valor + valor2\n",
    "    print(texto)"
   ]
  },
  {
   "cell_type": "code",
   "execution_count": 8,
   "metadata": {},
   "outputs": [
    {
     "name": "stdout",
     "output_type": "stream",
     "text": [
      "Deu certo\n",
      "Final\n",
      "2\n"
     ]
    }
   ],
   "source": [
    "def teste():\n",
    "    try:\n",
    "        valor = int(input('Digite um número'))\n",
    "    except:\n",
    "        print('Deu erro')\n",
    "        return None\n",
    "    else:\n",
    "        print('Deu certo')\n",
    "        return valor\n",
    "    finally:\n",
    "        print('Final')\n",
    "\n",
    "print(teste())"
   ]
  },
  {
   "cell_type": "markdown",
   "metadata": {},
   "source": [
    "Faça um programa que divida dois números e trate os casos que o divisor é zero"
   ]
  },
  {
   "cell_type": "code",
   "execution_count": null,
   "metadata": {},
   "outputs": [],
   "source": [
    "try:\n",
    "    valor = int(input('Digite o numerador'))\n",
    "    valor2 = int(input('Digite o divisor'))\n",
    "    resultado = valor/valor2\n",
    "except ZeroDivisionError:\n",
    "    print('O divisor é igual a 0 - conta invalida')\n",
    "else:\n",
    "    print (resultado)"
   ]
  },
  {
   "cell_type": "code",
   "execution_count": null,
   "metadata": {},
   "outputs": [],
   "source": [
    "try:\n",
    "    import numpy as np\n",
    "except ModuleNotFoundError:\n",
    "    !pip install numpy\n",
    "    import numpy as np\n",
    "\n",
    "import matplotlib.pyplot as plt"
   ]
  },
  {
   "cell_type": "code",
   "execution_count": null,
   "metadata": {},
   "outputs": [],
   "source": [
    "PermissionError"
   ]
  },
  {
   "cell_type": "code",
   "execution_count": null,
   "metadata": {},
   "outputs": [],
   "source": [
    "#!pip install -r requirements.txt"
   ]
  },
  {
   "cell_type": "markdown",
   "metadata": {},
   "source": [
    "Write a Python program that opens a file and handles a FileNotFoundError exception if the file does not exist."
   ]
  },
  {
   "cell_type": "code",
   "execution_count": 20,
   "metadata": {},
   "outputs": [
    {
     "name": "stdout",
     "output_type": "stream",
     "text": [
      "Num tem isso ai\n"
     ]
    }
   ],
   "source": [
    "try:\n",
    "    arq = open(r'p1/naoexiste.txt',mode=\"r\")\n",
    "except FileNotFoundError:\n",
    "        print(\"Num tem isso ai\")\n",
    "else:\n",
    "    arq.read()\n",
    "    arq.close()"
   ]
  },
  {
   "cell_type": "markdown",
   "metadata": {},
   "source": [
    "Curiosidades - Interface gráfica\n",
    "- kivy(legalzinha)\n",
    "- tkinter (nao gosto)\n",
    "- pygame (jogo)"
   ]
  },
  {
   "cell_type": "markdown",
   "metadata": {},
   "source": [
    "[Code Wars](https://www.codewars.com/) Site de questões de programação"
   ]
  }
 ],
 "metadata": {
  "kernelspec": {
   "display_name": "Python 3",
   "language": "python",
   "name": "python3"
  },
  "language_info": {
   "codemirror_mode": {
    "name": "ipython",
    "version": 3
   },
   "file_extension": ".py",
   "mimetype": "text/x-python",
   "name": "python",
   "nbconvert_exporter": "python",
   "pygments_lexer": "ipython3",
   "version": "3.10.9"
  }
 },
 "nbformat": 4,
 "nbformat_minor": 2
}
